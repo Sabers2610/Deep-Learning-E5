{
  "nbformat": 4,
  "nbformat_minor": 0,
  "metadata": {
    "colab": {
      "provenance": [],
      "toc_visible": true
    },
    "kernelspec": {
      "name": "python3",
      "display_name": "Python 3"
    },
    "language_info": {
      "name": "python"
    }
  },
  "cells": [
    {
      "cell_type": "markdown",
      "source": [
        "# Evaluación 1 - Entrenando redes feedforward\n",
        "\n",
        "**Autores:**\n",
        "\n",
        "+ Luis Saez Diaz\n",
        "+ Erwin Nuñez Bracho\n",
        "\n",
        "**Correos Electrónicos:**\n",
        "\n",
        "+ lu.saezd@duocuc.cl\n",
        "+ er.nunez@duocuc.cl\n",
        "\n",
        "**Fecha de Creación:** 07 de Abril de 2025  \n",
        "**Versión:** 0.5  \n",
        "\n",
        "---\n",
        "\n",
        "## Descripción\n",
        "\n",
        "Este notebook contiene el desarrollo de la evaluación 1 de la asignatura de Deep Learning de la carrera de Ingeniería en Informática de DuocUC sede Concepción.\n",
        "\n",
        "---\n",
        "\n",
        "## Requisitos de Software\n",
        "\n",
        "Este notebook fue desarrollado con Python, keras y tensorflow para el manejo de las redes neuronales y el matplotlib para la creacion de graficos con python."
      ],
      "metadata": {
        "id": "UN-PzEVlUarQ"
      }
    },
    {
      "cell_type": "markdown",
      "source": [
        "# Carga de datos"
      ],
      "metadata": {
        "id": "ENUt5lPZVB7S"
      }
    },
    {
      "cell_type": "code",
      "source": [
        "!rm -f train-images-idx3-ubyte.gz train-labels-idx1-ubyte.gz t10k-images-idx3-ubyte.gz t10k-labels-idx1-ubyte.gz\n",
        "\n",
        "!wget https://storage.googleapis.com/cvdf-datasets/mnist/train-images-idx3-ubyte.gz\n",
        "!wget https://storage.googleapis.com/cvdf-datasets/mnist/train-labels-idx1-ubyte.gz\n",
        "!wget https://storage.googleapis.com/cvdf-datasets/mnist/t10k-images-idx3-ubyte.gz\n",
        "!wget https://storage.googleapis.com/cvdf-datasets/mnist/t10k-labels-idx1-ubyte.gz\n"
      ],
      "metadata": {
        "colab": {
          "base_uri": "https://localhost:8080/"
        },
        "id": "kxMJlHIbbGrZ",
        "outputId": "6f9ed187-606e-409d-d5fc-57f17d87df95"
      },
      "execution_count": 10,
      "outputs": [
        {
          "output_type": "stream",
          "name": "stdout",
          "text": [
            "--2025-04-10 19:59:04--  https://storage.googleapis.com/cvdf-datasets/mnist/train-images-idx3-ubyte.gz\n",
            "Resolving storage.googleapis.com (storage.googleapis.com)... 74.125.139.207, 74.125.141.207, 173.194.210.207, ...\n",
            "Connecting to storage.googleapis.com (storage.googleapis.com)|74.125.139.207|:443... connected.\n",
            "HTTP request sent, awaiting response... 200 OK\n",
            "Length: 9912422 (9.5M) [application/x-gzip]\n",
            "Saving to: ‘train-images-idx3-ubyte.gz’\n",
            "\n",
            "train-images-idx3-u 100%[===================>]   9.45M  27.6MB/s    in 0.3s    \n",
            "\n",
            "2025-04-10 19:59:05 (27.6 MB/s) - ‘train-images-idx3-ubyte.gz’ saved [9912422/9912422]\n",
            "\n",
            "--2025-04-10 19:59:05--  https://storage.googleapis.com/cvdf-datasets/mnist/train-labels-idx1-ubyte.gz\n",
            "Resolving storage.googleapis.com (storage.googleapis.com)... 74.125.139.207, 74.125.141.207, 173.194.210.207, ...\n",
            "Connecting to storage.googleapis.com (storage.googleapis.com)|74.125.139.207|:443... connected.\n",
            "HTTP request sent, awaiting response... 200 OK\n",
            "Length: 28881 (28K) [application/x-gzip]\n",
            "Saving to: ‘train-labels-idx1-ubyte.gz’\n",
            "\n",
            "train-labels-idx1-u 100%[===================>]  28.20K  --.-KB/s    in 0s      \n",
            "\n",
            "2025-04-10 19:59:05 (90.5 MB/s) - ‘train-labels-idx1-ubyte.gz’ saved [28881/28881]\n",
            "\n",
            "--2025-04-10 19:59:05--  https://storage.googleapis.com/cvdf-datasets/mnist/t10k-images-idx3-ubyte.gz\n",
            "Resolving storage.googleapis.com (storage.googleapis.com)... 74.125.139.207, 74.125.141.207, 173.194.210.207, ...\n",
            "Connecting to storage.googleapis.com (storage.googleapis.com)|74.125.139.207|:443... connected.\n",
            "HTTP request sent, awaiting response... 200 OK\n",
            "Length: 1648877 (1.6M) [application/x-gzip]\n",
            "Saving to: ‘t10k-images-idx3-ubyte.gz’\n",
            "\n",
            "t10k-images-idx3-ub 100%[===================>]   1.57M  7.22MB/s    in 0.2s    \n",
            "\n",
            "2025-04-10 19:59:05 (7.22 MB/s) - ‘t10k-images-idx3-ubyte.gz’ saved [1648877/1648877]\n",
            "\n",
            "--2025-04-10 19:59:05--  https://storage.googleapis.com/cvdf-datasets/mnist/t10k-labels-idx1-ubyte.gz\n",
            "Resolving storage.googleapis.com (storage.googleapis.com)... 74.125.139.207, 74.125.141.207, 173.194.210.207, ...\n",
            "Connecting to storage.googleapis.com (storage.googleapis.com)|74.125.139.207|:443... connected.\n",
            "HTTP request sent, awaiting response... 200 OK\n",
            "Length: 4542 (4.4K) [application/x-gzip]\n",
            "Saving to: ‘t10k-labels-idx1-ubyte.gz’\n",
            "\n",
            "t10k-labels-idx1-ub 100%[===================>]   4.44K  --.-KB/s    in 0s      \n",
            "\n",
            "2025-04-10 19:59:05 (53.7 MB/s) - ‘t10k-labels-idx1-ubyte.gz’ saved [4542/4542]\n",
            "\n"
          ]
        }
      ]
    },
    {
      "cell_type": "code",
      "source": [
        "!ls -lh"
      ],
      "metadata": {
        "colab": {
          "base_uri": "https://localhost:8080/"
        },
        "id": "Gqalukc4a-h-",
        "outputId": "3d53be93-aac4-469e-ddf5-3e33bcc6be3c"
      },
      "execution_count": 11,
      "outputs": [
        {
          "output_type": "stream",
          "name": "stdout",
          "text": [
            "total 12M\n",
            "drwxr-xr-x 1 root root 4.0K Apr  9 13:38 sample_data\n",
            "-rw-r--r-- 1 root root 1.6M Apr  6  2017 t10k-images-idx3-ubyte.gz\n",
            "-rw-r--r-- 1 root root 4.5K Apr  6  2017 t10k-labels-idx1-ubyte.gz\n",
            "-rw-r--r-- 1 root root 9.5M Apr  6  2017 train-images-idx3-ubyte.gz\n",
            "-rw-r--r-- 1 root root  29K Apr  6  2017 train-labels-idx1-ubyte.gz\n"
          ]
        }
      ]
    },
    {
      "cell_type": "code",
      "source": [
        "import gzip\n",
        "import shutil\n",
        "import struct\n",
        "import numpy as np\n",
        "import matplotlib.pyplot as plt\n",
        "import tensorflow as tf\n",
        "\n",
        "from tensorflow import keras\n",
        "# Asegurar que las etiquetas están en formato correcto\n",
        "from keras.utils import to_categorical"
      ],
      "metadata": {
        "id": "1pe8o5xqVHCb"
      },
      "execution_count": 12,
      "outputs": []
    },
    {
      "cell_type": "markdown",
      "source": [
        "# Carga de imágenes"
      ],
      "metadata": {
        "id": "RhqgOKDsi_KF"
      }
    },
    {
      "cell_type": "code",
      "source": [
        "# Función para cargar imágenes MNIST\n",
        "def load_mnist_images(filename):\n",
        "    with gzip.open(filename, 'rb') as f:\n",
        "        data = np.frombuffer(f.read(), np.uint8, offset=16)  # Saltar los primeros 16 bytes del encabezado\n",
        "    return data.reshape(-1, 28 * 28).astype(\"float32\") / 255.0  # Aplanar y normalizar\n",
        "\n",
        "# Función para cargar etiquetas MNIST\n",
        "def load_mnist_labels(filename):\n",
        "    with gzip.open(filename, 'rb') as f:\n",
        "        labels = np.frombuffer(f.read(), np.uint8, offset=8)  # Saltar los primeros 8 bytes del encabezado\n",
        "    return keras.utils.to_categorical(labels, 10)  # One-hot encoding para clasificación\n",
        "\n",
        "# Cargar los datos\n",
        "X_train = load_mnist_images(\"train-images-idx3-ubyte.gz\")\n",
        "y_train = load_mnist_labels(\"train-labels-idx1-ubyte.gz\")\n",
        "X_test = load_mnist_images(\"t10k-images-idx3-ubyte.gz\")\n",
        "y_test = load_mnist_labels(\"t10k-labels-idx1-ubyte.gz\")\n",
        "\n",
        "# Verificar dimensiones\n",
        "print(f\"X_train: {X_train.shape}, y_train: {y_train.shape}\")\n",
        "print(f\"X_test: {X_test.shape}, y_test: {y_test.shape}\")\n"
      ],
      "metadata": {
        "colab": {
          "base_uri": "https://localhost:8080/"
        },
        "id": "Li3QsYm-UKEq",
        "outputId": "c92e9249-8fcf-4070-a6d4-8a99937be77c"
      },
      "execution_count": 13,
      "outputs": [
        {
          "output_type": "stream",
          "name": "stdout",
          "text": [
            "X_train: (60000, 784), y_train: (60000, 10)\n",
            "X_test: (10000, 784), y_test: (10000, 10)\n"
          ]
        }
      ]
    },
    {
      "cell_type": "markdown",
      "source": [
        "La cantidad de datos en la muestra de entrenamiento es de 60.000 datos,\n",
        "al vectorizarlos (aplanar) nos queda que las imagenes representan 784 pixeles vectorizados. En el caso de nuestra muestra de evaluación tenemos 10.000\n",
        "con la misma cantidad de pixeles vectorizados y en el caso de las etiquetas tenemos que son 10.\n",
        "\n",
        "Posteriormente a la carga los datos son normalizados, re-ajustando sus valores en valores de 0 a 255 lo que permite que todos mantengan un mismo rango de valores (formato) y no hayas valores que se disparen a diferencia de los demas."
      ],
      "metadata": {
        "id": "pq5J4SW0QlFL"
      }
    },
    {
      "cell_type": "markdown",
      "source": [
        "# Muestra imágenes"
      ],
      "metadata": {
        "id": "XDdBrx6ji1tV"
      }
    },
    {
      "cell_type": "code",
      "source": [
        "h, w = 6, 6  # tamaño de la grilla\n",
        "fig, axs = plt.subplots(h, w, figsize=(1.6*h, 1.6*w))\n",
        "\n",
        "for i in range(h):\n",
        "    for j in range(w):\n",
        "        idx = np.random.randint(len(X_train))  # índice aleatorio\n",
        "        img = X_train[idx].reshape(28, 28)  # redimensionar imagen\n",
        "        label = np.argmax(y_train[idx])     # obtener etiqueta\n",
        "\n",
        "        axs[i, j].imshow(img, cmap='gray')\n",
        "        axs[i, j].set_title(str(label))\n",
        "        axs[i, j].axis('off')\n",
        "\n",
        "plt.tight_layout()\n",
        "plt.show()"
      ],
      "metadata": {
        "colab": {
          "base_uri": "https://localhost:8080/",
          "height": 967
        },
        "id": "t_di9e-3SnNb",
        "outputId": "9e4cf92c-aea3-4955-e055-d5b8b0b00a47"
      },
      "execution_count": 14,
      "outputs": [
        {
          "output_type": "display_data",
          "data": {
            "text/plain": [
              "<Figure size 960x960 with 36 Axes>"
            ],
            "image/png": "[encoded data removed]"
          },
          "metadata": {}
        }
      ]
    },
    {
      "cell_type": "markdown",
      "source": [
        "Hacemos una muestra aleatoria de los datos y sus etiquetas de nuestro set de datos de entrenamiento donde podemos ver que es un set de datos que contiene imagenes en blanco y negro de numeros del 0 al 9. **[PREGUNTAR PORQUE USA EL NP SET SEED]**"
      ],
      "metadata": {
        "id": "r1U5YfakS61B"
      }
    },
    {
      "cell_type": "markdown",
      "source": [
        "# Creación de red neuronal base(Adamax)"
      ],
      "metadata": {
        "id": "Rdncj7JFV9GT"
      }
    },
    {
      "cell_type": "markdown",
      "source": [
        "Para esta fase de experimentación, siendo que nuestros datos no tienen una gran dispersion ya que trabajan unicamente con 2 colores, se tomo la decision de utilizar los optimizadores de Adamax y Nadam, adamax siendo la mejora del optimizador adam que suele tener buen rendimiento en la mayoria de los casos y Nadam siendo el optimizador adam pero agregandole momentum. Esto nos permitira saber como se comporta nuestra red neuronal con un optimizador que posea momentum y nos permita optimizar los tiempos en los que ajusta los pesos.\n",
        "\n",
        "en el caso de la funcion de perdida utilizaremos **categorical crossentropy** ya que es la que se comporta mejor con datos que esten en formato one hot enconding, en este caso nuestras clases estan formateadas de esa forma."
      ],
      "metadata": {
        "id": "kqOAYNBhWBfi"
      }
    },
    {
      "cell_type": "code",
      "source": [
        "input_shape = X_train.shape[1]\n",
        "labels_output = y_train.shape[1]\n",
        "print(input_shape)\n",
        "print(y_train.shape[1])\n",
        "h1 = 512\n",
        "h2 = 256\n",
        "h3 = 128\n",
        "h4 = 64\n",
        "\n",
        "red_adamax = keras.Sequential(name=\"BaseNetwork\")\n",
        "red_adamax.add(keras.layers.Input(shape=(input_shape,), name='input_layer'))\n",
        "red_adamax.add(keras.layers.Dense(h1, activation='relu', name='hide_layer1'))\n",
        "red_adamax.add(keras.layers.Dense(h2, activation='relu', name='hide_layer2'))\n",
        "red_adamax.add(keras.layers.Dense(h3, activation='relu', name='hide_layer3'))\n",
        "red_adamax.add(keras.layers.Dense(h4, activation='relu', name='hide_layer4'))\n",
        "red_adamax.add(keras.layers.Dense(labels_output, activation='softmax', name='output_layer'))\n",
        "\n",
        "red_adamax.summary()\n",
        "\n",
        "red_adamax.compile(\n",
        "    loss='categorical_crossentropy',\n",
        "    optimizer='adamax',\n",
        "    metrics=['accuracy']\n",
        ")"
      ],
      "metadata": {
        "colab": {
          "base_uri": "https://localhost:8080/",
          "height": 325
        },
        "id": "G9N0A-9-Xm9W",
        "outputId": "f4cb566d-b4aa-4c5d-a05a-3a027b59fde4"
      },
      "execution_count": 19,
      "outputs": [
        {
          "output_type": "stream",
          "name": "stdout",
          "text": [
            "784\n",
            "10\n"
          ]
        },
        {
          "output_type": "display_data",
          "data": {
            "text/plain": [
              "\u001b[1mModel: \"BaseNetwork\"\u001b[0m\n"
            ],
            "text/html": [
              "<pre style=\"white-space:pre;overflow-x:auto;line-height:normal;font-family:Menlo,'DejaVu Sans Mono',consolas,'Courier New',monospace\"><span style=\"font-weight: bold\">Model: \"BaseNetwork\"</span>\n",
              "</pre>\n"
            ]
          },
          "metadata": {}
        },
        {
          "output_type": "display_data",
          "data": {
            "text/plain": [
              "┏━━━━━━━━━━━━━━━━━━━━━━━━━━━━━━━━━┳━━━━━━━━━━━━━━━━━━━━━━━━┳━━━━━━━━━━━━━━━┓\n",
              "┃\u001b[1m \u001b[0m\u001b[1mLayer (type)                   \u001b[0m\u001b[1m \u001b[0m┃\u001b[1m \u001b[0m\u001b[1mOutput Shape          \u001b[0m\u001b[1m \u001b[0m┃\u001b[1m \u001b[0m\u001b[1m      Param #\u001b[0m\u001b[1m \u001b[0m┃\n",
              "┡━━━━━━━━━━━━━━━━━━━━━━━━━━━━━━━━━╇━━━━━━━━━━━━━━━━━━━━━━━━╇━━━━━━━━━━━━━━━┩\n",
              "│ hide_layer1 (\u001b[38;5;33mDense\u001b[0m)             │ (\u001b[38;5;45mNone\u001b[0m, \u001b[38;5;34m512\u001b[0m)            │       \u001b[38;5;34m401,920\u001b[0m │\n",
              "├─────────────────────────────────┼────────────────────────┼───────────────┤\n",
              "│ hide_layer2 (\u001b[38;5;33mDense\u001b[0m)             │ (\u001b[38;5;45mNone\u001b[0m, \u001b[38;5;34m256\u001b[0m)            │       \u001b[38;5;34m131,328\u001b[0m │\n",
              "├─────────────────────────────────┼────────────────────────┼───────────────┤\n",
              "│ hide_layer3 (\u001b[38;5;33mDense\u001b[0m)             │ (\u001b[38;5;45mNone\u001b[0m, \u001b[38;5;34m128\u001b[0m)            │        \u001b[38;5;34m32,896\u001b[0m │\n",
              "├─────────────────────────────────┼────────────────────────┼───────────────┤\n",
              "│ hide_layer4 (\u001b[38;5;33mDense\u001b[0m)             │ (\u001b[38;5;45mNone\u001b[0m, \u001b[38;5;34m64\u001b[0m)             │         \u001b[38;5;34m8,256\u001b[0m │\n",
              "├─────────────────────────────────┼────────────────────────┼───────────────┤\n",
              "│ output_layer (\u001b[38;5;33mDense\u001b[0m)            │ (\u001b[38;5;45mNone\u001b[0m, \u001b[38;5;34m10\u001b[0m)             │           \u001b[38;5;34m650\u001b[0m │\n",
              "└─────────────────────────────────┴────────────────────────┴───────────────┘\n"
            ],
            "text/html": [
              "<pre style=\"white-space:pre;overflow-x:auto;line-height:normal;font-family:Menlo,'DejaVu Sans Mono',consolas,'Courier New',monospace\">┏━━━━━━━━━━━━━━━━━━━━━━━━━━━━━━━━━┳━━━━━━━━━━━━━━━━━━━━━━━━┳━━━━━━━━━━━━━━━┓\n",
              "┃<span style=\"font-weight: bold\"> Layer (type)                    </span>┃<span style=\"font-weight: bold\"> Output Shape           </span>┃<span style=\"font-weight: bold\">       Param # </span>┃\n",
              "┡━━━━━━━━━━━━━━━━━━━━━━━━━━━━━━━━━╇━━━━━━━━━━━━━━━━━━━━━━━━╇━━━━━━━━━━━━━━━┩\n",
              "│ hide_layer1 (<span style=\"color: #0087ff; text-decoration-color: #0087ff\">Dense</span>)             │ (<span style=\"color: #00d7ff; text-decoration-color: #00d7ff\">None</span>, <span style=\"color: #00af00; text-decoration-color: #00af00\">512</span>)            │       <span style=\"color: #00af00; text-decoration-color: #00af00\">401,920</span> │\n",
              "├─────────────────────────────────┼────────────────────────┼───────────────┤\n",
              "│ hide_layer2 (<span style=\"color: #0087ff; text-decoration-color: #0087ff\">Dense</span>)             │ (<span style=\"color: #00d7ff; text-decoration-color: #00d7ff\">None</span>, <span style=\"color: #00af00; text-decoration-color: #00af00\">256</span>)            │       <span style=\"color: #00af00; text-decoration-color: #00af00\">131,328</span> │\n",
              "├─────────────────────────────────┼────────────────────────┼───────────────┤\n",
              "│ hide_layer3 (<span style=\"color: #0087ff; text-decoration-color: #0087ff\">Dense</span>)             │ (<span style=\"color: #00d7ff; text-decoration-color: #00d7ff\">None</span>, <span style=\"color: #00af00; text-decoration-color: #00af00\">128</span>)            │        <span style=\"color: #00af00; text-decoration-color: #00af00\">32,896</span> │\n",
              "├─────────────────────────────────┼────────────────────────┼───────────────┤\n",
              "│ hide_layer4 (<span style=\"color: #0087ff; text-decoration-color: #0087ff\">Dense</span>)             │ (<span style=\"color: #00d7ff; text-decoration-color: #00d7ff\">None</span>, <span style=\"color: #00af00; text-decoration-color: #00af00\">64</span>)             │         <span style=\"color: #00af00; text-decoration-color: #00af00\">8,256</span> │\n",
              "├─────────────────────────────────┼────────────────────────┼───────────────┤\n",
              "│ output_layer (<span style=\"color: #0087ff; text-decoration-color: #0087ff\">Dense</span>)            │ (<span style=\"color: #00d7ff; text-decoration-color: #00d7ff\">None</span>, <span style=\"color: #00af00; text-decoration-color: #00af00\">10</span>)             │           <span style=\"color: #00af00; text-decoration-color: #00af00\">650</span> │\n",
              "└─────────────────────────────────┴────────────────────────┴───────────────┘\n",
              "</pre>\n"
            ]
          },
          "metadata": {}
        },
        {
          "output_type": "display_data",
          "data": {
            "text/plain": [
              "\u001b[1m Total params: \u001b[0m\u001b[38;5;34m575,050\u001b[0m (2.19 MB)\n"
            ],
            "text/html": [
              "<pre style=\"white-space:pre;overflow-x:auto;line-height:normal;font-family:Menlo,'DejaVu Sans Mono',consolas,'Courier New',monospace\"><span style=\"font-weight: bold\"> Total params: </span><span style=\"color: #00af00; text-decoration-color: #00af00\">575,050</span> (2.19 MB)\n",
              "</pre>\n"
            ]
          },
          "metadata": {}
        },
        {
          "output_type": "display_data",
          "data": {
            "text/plain": [
              "\u001b[1m Trainable params: \u001b[0m\u001b[38;5;34m575,050\u001b[0m (2.19 MB)\n"
            ],
            "text/html": [
              "<pre style=\"white-space:pre;overflow-x:auto;line-height:normal;font-family:Menlo,'DejaVu Sans Mono',consolas,'Courier New',monospace\"><span style=\"font-weight: bold\"> Trainable params: </span><span style=\"color: #00af00; text-decoration-color: #00af00\">575,050</span> (2.19 MB)\n",
              "</pre>\n"
            ]
          },
          "metadata": {}
        },
        {
          "output_type": "display_data",
          "data": {
            "text/plain": [
              "\u001b[1m Non-trainable params: \u001b[0m\u001b[38;5;34m0\u001b[0m (0.00 B)\n"
            ],
            "text/html": [
              "<pre style=\"white-space:pre;overflow-x:auto;line-height:normal;font-family:Menlo,'DejaVu Sans Mono',consolas,'Courier New',monospace\"><span style=\"font-weight: bold\"> Non-trainable params: </span><span style=\"color: #00af00; text-decoration-color: #00af00\">0</span> (0.00 B)\n",
              "</pre>\n"
            ]
          },
          "metadata": {}
        }
      ]
    },
    {
      "cell_type": "markdown",
      "source": [
        "En este caso se tomo la decision de utilizar unicamente la precisión (accuracy) ya que es la metrica mas relevente para la problematica presentada. El f1-score solo nos sera util si hay presente desbalance de clase y este no es el caso (informacion entregada por el negocio - docente).\n",
        "\n",
        "la precision y recall se encargan de evaluar los falsos positivos y verdaderos positivos, siendo multi clase entregara un promedio, por lo que no se le dara una interpretacion muy diferente a la que se pueda sacar con el accuracy siendo que al no haber desbalance de clases nuestro accuracy no se vera afectado por sesgo en nuestros datos."
      ],
      "metadata": {
        "id": "UX-FX2HHdN_e"
      }
    },
    {
      "cell_type": "code",
      "source": [
        "hist = red_adamax.fit(X_train, y_train,\n",
        "        epochs=15,\n",
        "        batch_size=10,\n",
        "        validation_data=(X_test,y_test)\n",
        "       )"
      ],
      "metadata": {
        "colab": {
          "base_uri": "https://localhost:8080/"
        },
        "id": "K_tmyCsubtjR",
        "outputId": "aa9d9cf9-88fe-4b01-f025-a0db1428f3ec"
      },
      "execution_count": 16,
      "outputs": [
        {
          "output_type": "stream",
          "name": "stdout",
          "text": [
            "Epoch 1/15\n",
            "\u001b[1m6000/6000\u001b[0m \u001b[32m━━━━━━━━━━━━━━━━━━━━\u001b[0m\u001b[37m\u001b[0m \u001b[1m46s\u001b[0m 7ms/step - accuracy: 0.8858 - loss: 0.3746 - val_accuracy: 0.9631 - val_loss: 0.1155\n",
            "Epoch 2/15\n",
            "\u001b[1m6000/6000\u001b[0m \u001b[32m━━━━━━━━━━━━━━━━━━━━\u001b[0m\u001b[37m\u001b[0m \u001b[1m44s\u001b[0m 7ms/step - accuracy: 0.9705 - loss: 0.0954 - val_accuracy: 0.9749 - val_loss: 0.0768\n",
            "Epoch 3/15\n",
            "\u001b[1m6000/6000\u001b[0m \u001b[32m━━━━━━━━━━━━━━━━━━━━\u001b[0m\u001b[37m\u001b[0m \u001b[1m82s\u001b[0m 7ms/step - accuracy: 0.9822 - loss: 0.0570 - val_accuracy: 0.9770 - val_loss: 0.0718\n",
            "Epoch 4/15\n",
            "\u001b[1m6000/6000\u001b[0m \u001b[32m━━━━━━━━━━━━━━━━━━━━\u001b[0m\u001b[37m\u001b[0m \u001b[1m46s\u001b[0m 8ms/step - accuracy: 0.9879 - loss: 0.0392 - val_accuracy: 0.9798 - val_loss: 0.0679\n",
            "Epoch 5/15\n",
            "\u001b[1m6000/6000\u001b[0m \u001b[32m━━━━━━━━━━━━━━━━━━━━\u001b[0m\u001b[37m\u001b[0m \u001b[1m80s\u001b[0m 7ms/step - accuracy: 0.9911 - loss: 0.0275 - val_accuracy: 0.9783 - val_loss: 0.0729\n",
            "Epoch 6/15\n",
            "\u001b[1m6000/6000\u001b[0m \u001b[32m━━━━━━━━━━━━━━━━━━━━\u001b[0m\u001b[37m\u001b[0m \u001b[1m80s\u001b[0m 7ms/step - accuracy: 0.9943 - loss: 0.0180 - val_accuracy: 0.9811 - val_loss: 0.0604\n",
            "Epoch 7/15\n",
            "\u001b[1m6000/6000\u001b[0m \u001b[32m━━━━━━━━━━━━━━━━━━━━\u001b[0m\u001b[37m\u001b[0m \u001b[1m81s\u001b[0m 7ms/step - accuracy: 0.9964 - loss: 0.0117 - val_accuracy: 0.9825 - val_loss: 0.0671\n",
            "Epoch 8/15\n",
            "\u001b[1m6000/6000\u001b[0m \u001b[32m━━━━━━━━━━━━━━━━━━━━\u001b[0m\u001b[37m\u001b[0m \u001b[1m84s\u001b[0m 7ms/step - accuracy: 0.9976 - loss: 0.0086 - val_accuracy: 0.9810 - val_loss: 0.0704\n",
            "Epoch 9/15\n",
            "\u001b[1m6000/6000\u001b[0m \u001b[32m━━━━━━━━━━━━━━━━━━━━\u001b[0m\u001b[37m\u001b[0m \u001b[1m79s\u001b[0m 7ms/step - accuracy: 0.9987 - loss: 0.0052 - val_accuracy: 0.9827 - val_loss: 0.0683\n",
            "Epoch 10/15\n",
            "\u001b[1m6000/6000\u001b[0m \u001b[32m━━━━━━━━━━━━━━━━━━━━\u001b[0m\u001b[37m\u001b[0m \u001b[1m81s\u001b[0m 7ms/step - accuracy: 0.9988 - loss: 0.0042 - val_accuracy: 0.9804 - val_loss: 0.0809\n",
            "Epoch 11/15\n",
            "\u001b[1m6000/6000\u001b[0m \u001b[32m━━━━━━━━━━━━━━━━━━━━\u001b[0m\u001b[37m\u001b[0m \u001b[1m42s\u001b[0m 7ms/step - accuracy: 0.9993 - loss: 0.0030 - val_accuracy: 0.9824 - val_loss: 0.0758\n",
            "Epoch 12/15\n",
            "\u001b[1m6000/6000\u001b[0m \u001b[32m━━━━━━━━━━━━━━━━━━━━\u001b[0m\u001b[37m\u001b[0m \u001b[1m81s\u001b[0m 7ms/step - accuracy: 0.9994 - loss: 0.0023 - val_accuracy: 0.9836 - val_loss: 0.0781\n",
            "Epoch 13/15\n",
            "\u001b[1m6000/6000\u001b[0m \u001b[32m━━━━━━━━━━━━━━━━━━━━\u001b[0m\u001b[37m\u001b[0m \u001b[1m45s\u001b[0m 7ms/step - accuracy: 0.9995 - loss: 0.0016 - val_accuracy: 0.9809 - val_loss: 0.0877\n",
            "Epoch 14/15\n",
            "\u001b[1m6000/6000\u001b[0m \u001b[32m━━━━━━━━━━━━━━━━━━━━\u001b[0m\u001b[37m\u001b[0m \u001b[1m78s\u001b[0m 7ms/step - accuracy: 0.9996 - loss: 0.0016 - val_accuracy: 0.9817 - val_loss: 0.0941\n",
            "Epoch 15/15\n",
            "\u001b[1m6000/6000\u001b[0m \u001b[32m━━━━━━━━━━━━━━━━━━━━\u001b[0m\u001b[37m\u001b[0m \u001b[1m41s\u001b[0m 7ms/step - accuracy: 0.9998 - loss: 7.0437e-04 - val_accuracy: 0.9824 - val_loss: 0.0981\n"
          ]
        }
      ]
    },
    {
      "cell_type": "code",
      "source": [
        "hist = red_adamax.fit(X_train, y_train,\n",
        "        epochs=20,\n",
        "        batch_size=10,\n",
        "        validation_data=(X_test,y_test)\n",
        "       )"
      ],
      "metadata": {
        "colab": {
          "base_uri": "https://localhost:8080/"
        },
        "id": "DT8xzwU2b1Ut",
        "outputId": "ffa2aa9a-cd76-4b7c-dac4-b06bd73fdd01"
      },
      "execution_count": 21,
      "outputs": [
        {
          "output_type": "stream",
          "name": "stdout",
          "text": [
            "Epoch 1/20\n",
            "\u001b[1m6000/6000\u001b[0m \u001b[32m━━━━━━━━━━━━━━━━━━━━\u001b[0m\u001b[37m\u001b[0m \u001b[1m43s\u001b[0m 7ms/step - accuracy: 0.9715 - loss: 0.0952 - val_accuracy: 0.9746 - val_loss: 0.0802\n",
            "Epoch 2/20\n",
            "\u001b[1m6000/6000\u001b[0m \u001b[32m━━━━━━━━━━━━━━━━━━━━\u001b[0m\u001b[37m\u001b[0m \u001b[1m42s\u001b[0m 7ms/step - accuracy: 0.9818 - loss: 0.0589 - val_accuracy: 0.9800 - val_loss: 0.0664\n",
            "Epoch 3/20\n",
            "\u001b[1m6000/6000\u001b[0m \u001b[32m━━━━━━━━━━━━━━━━━━━━\u001b[0m\u001b[37m\u001b[0m \u001b[1m41s\u001b[0m 7ms/step - accuracy: 0.9885 - loss: 0.0358 - val_accuracy: 0.9785 - val_loss: 0.0678\n",
            "Epoch 4/20\n",
            "\u001b[1m6000/6000\u001b[0m \u001b[32m━━━━━━━━━━━━━━━━━━━━\u001b[0m\u001b[37m\u001b[0m \u001b[1m85s\u001b[0m 7ms/step - accuracy: 0.9928 - loss: 0.0252 - val_accuracy: 0.9800 - val_loss: 0.0722\n",
            "Epoch 5/20\n",
            "\u001b[1m6000/6000\u001b[0m \u001b[32m━━━━━━━━━━━━━━━━━━━━\u001b[0m\u001b[37m\u001b[0m \u001b[1m78s\u001b[0m 7ms/step - accuracy: 0.9950 - loss: 0.0167 - val_accuracy: 0.9773 - val_loss: 0.0871\n",
            "Epoch 6/20\n",
            "\u001b[1m6000/6000\u001b[0m \u001b[32m━━━━━━━━━━━━━━━━━━━━\u001b[0m\u001b[37m\u001b[0m \u001b[1m42s\u001b[0m 7ms/step - accuracy: 0.9966 - loss: 0.0117 - val_accuracy: 0.9819 - val_loss: 0.0672\n",
            "Epoch 7/20\n",
            "\u001b[1m6000/6000\u001b[0m \u001b[32m━━━━━━━━━━━━━━━━━━━━\u001b[0m\u001b[37m\u001b[0m \u001b[1m82s\u001b[0m 7ms/step - accuracy: 0.9975 - loss: 0.0084 - val_accuracy: 0.9816 - val_loss: 0.0740\n",
            "Epoch 8/20\n",
            "\u001b[1m6000/6000\u001b[0m \u001b[32m━━━━━━━━━━━━━━━━━━━━\u001b[0m\u001b[37m\u001b[0m \u001b[1m82s\u001b[0m 7ms/step - accuracy: 0.9984 - loss: 0.0060 - val_accuracy: 0.9812 - val_loss: 0.0857\n",
            "Epoch 9/20\n",
            "\u001b[1m6000/6000\u001b[0m \u001b[32m━━━━━━━━━━━━━━━━━━━━\u001b[0m\u001b[37m\u001b[0m \u001b[1m82s\u001b[0m 7ms/step - accuracy: 0.9988 - loss: 0.0045 - val_accuracy: 0.9806 - val_loss: 0.0924\n",
            "Epoch 10/20\n",
            "\u001b[1m6000/6000\u001b[0m \u001b[32m━━━━━━━━━━━━━━━━━━━━\u001b[0m\u001b[37m\u001b[0m \u001b[1m84s\u001b[0m 7ms/step - accuracy: 0.9991 - loss: 0.0032 - val_accuracy: 0.9822 - val_loss: 0.0855\n",
            "Epoch 11/20\n",
            "\u001b[1m6000/6000\u001b[0m \u001b[32m━━━━━━━━━━━━━━━━━━━━\u001b[0m\u001b[37m\u001b[0m \u001b[1m80s\u001b[0m 7ms/step - accuracy: 0.9993 - loss: 0.0024 - val_accuracy: 0.9831 - val_loss: 0.0841\n",
            "Epoch 12/20\n",
            "\u001b[1m6000/6000\u001b[0m \u001b[32m━━━━━━━━━━━━━━━━━━━━\u001b[0m\u001b[37m\u001b[0m \u001b[1m82s\u001b[0m 7ms/step - accuracy: 0.9995 - loss: 0.0017 - val_accuracy: 0.9826 - val_loss: 0.0912\n",
            "Epoch 13/20\n",
            "\u001b[1m6000/6000\u001b[0m \u001b[32m━━━━━━━━━━━━━━━━━━━━\u001b[0m\u001b[37m\u001b[0m \u001b[1m41s\u001b[0m 7ms/step - accuracy: 0.9997 - loss: 0.0015 - val_accuracy: 0.9805 - val_loss: 0.1068\n",
            "Epoch 14/20\n",
            "\u001b[1m6000/6000\u001b[0m \u001b[32m━━━━━━━━━━━━━━━━━━━━\u001b[0m\u001b[37m\u001b[0m \u001b[1m81s\u001b[0m 7ms/step - accuracy: 0.9997 - loss: 0.0013 - val_accuracy: 0.9807 - val_loss: 0.1059\n",
            "Epoch 15/20\n",
            "\u001b[1m6000/6000\u001b[0m \u001b[32m━━━━━━━━━━━━━━━━━━━━\u001b[0m\u001b[37m\u001b[0m \u001b[1m41s\u001b[0m 7ms/step - accuracy: 0.9999 - loss: 7.3818e-04 - val_accuracy: 0.9810 - val_loss: 0.1094\n",
            "Epoch 16/20\n",
            "\u001b[1m6000/6000\u001b[0m \u001b[32m━━━━━━━━━━━━━━━━━━━━\u001b[0m\u001b[37m\u001b[0m \u001b[1m42s\u001b[0m 7ms/step - accuracy: 0.9998 - loss: 5.6830e-04 - val_accuracy: 0.9824 - val_loss: 0.1117\n",
            "Epoch 17/20\n",
            "\u001b[1m6000/6000\u001b[0m \u001b[32m━━━━━━━━━━━━━━━━━━━━\u001b[0m\u001b[37m\u001b[0m \u001b[1m84s\u001b[0m 7ms/step - accuracy: 0.9999 - loss: 3.9565e-04 - val_accuracy: 0.9823 - val_loss: 0.1184\n",
            "Epoch 18/20\n",
            "\u001b[1m6000/6000\u001b[0m \u001b[32m━━━━━━━━━━━━━━━━━━━━\u001b[0m\u001b[37m\u001b[0m \u001b[1m81s\u001b[0m 7ms/step - accuracy: 0.9999 - loss: 2.6919e-04 - val_accuracy: 0.9811 - val_loss: 0.1209\n",
            "Epoch 19/20\n",
            "\u001b[1m6000/6000\u001b[0m \u001b[32m━━━━━━━━━━━━━━━━━━━━\u001b[0m\u001b[37m\u001b[0m \u001b[1m80s\u001b[0m 7ms/step - accuracy: 0.9998 - loss: 8.4569e-04 - val_accuracy: 0.9832 - val_loss: 0.1181\n",
            "Epoch 20/20\n",
            "\u001b[1m6000/6000\u001b[0m \u001b[32m━━━━━━━━━━━━━━━━━━━━\u001b[0m\u001b[37m\u001b[0m \u001b[1m42s\u001b[0m 7ms/step - accuracy: 0.9999 - loss: 3.3658e-04 - val_accuracy: 0.9835 - val_loss: 0.1152\n"
          ]
        }
      ]
    },
    {
      "cell_type": "code",
      "source": [
        "hist = red_adamax.fit(X_train, y_train,\n",
        "        epochs=15,\n",
        "        batch_size=20,\n",
        "        validation_data=(X_test,y_test)\n",
        "       )"
      ],
      "metadata": {
        "colab": {
          "base_uri": "https://localhost:8080/"
        },
        "id": "Plkwp4lfmlfO",
        "outputId": "2754d294-4b8b-407e-ece8-e3e1da03ef0d"
      },
      "execution_count": 23,
      "outputs": [
        {
          "output_type": "stream",
          "name": "stdout",
          "text": [
            "Epoch 1/15\n",
            "\u001b[1m3000/3000\u001b[0m \u001b[32m━━━━━━━━━━━━━━━━━━━━\u001b[0m\u001b[37m\u001b[0m \u001b[1m23s\u001b[0m 8ms/step - accuracy: 1.0000 - loss: 4.7599e-07 - val_accuracy: 0.9834 - val_loss: 0.1644\n",
            "Epoch 2/15\n",
            "\u001b[1m3000/3000\u001b[0m \u001b[32m━━━━━━━━━━━━━━━━━━━━\u001b[0m\u001b[37m\u001b[0m \u001b[1m23s\u001b[0m 8ms/step - accuracy: 1.0000 - loss: 1.4214e-05 - val_accuracy: 0.9828 - val_loss: 0.1792\n",
            "Epoch 3/15\n",
            "\u001b[1m3000/3000\u001b[0m \u001b[32m━━━━━━━━━━━━━━━━━━━━\u001b[0m\u001b[37m\u001b[0m \u001b[1m41s\u001b[0m 8ms/step - accuracy: 1.0000 - loss: 2.1371e-04 - val_accuracy: 0.9836 - val_loss: 0.1683\n",
            "Epoch 4/15\n",
            "\u001b[1m3000/3000\u001b[0m \u001b[32m━━━━━━━━━━━━━━━━━━━━\u001b[0m\u001b[37m\u001b[0m \u001b[1m40s\u001b[0m 7ms/step - accuracy: 1.0000 - loss: 5.3241e-05 - val_accuracy: 0.9823 - val_loss: 0.1721\n",
            "Epoch 5/15\n",
            "\u001b[1m3000/3000\u001b[0m \u001b[32m━━━━━━━━━━━━━━━━━━━━\u001b[0m\u001b[37m\u001b[0m \u001b[1m23s\u001b[0m 8ms/step - accuracy: 1.0000 - loss: 1.5385e-04 - val_accuracy: 0.9823 - val_loss: 0.1706\n",
            "Epoch 6/15\n",
            "\u001b[1m3000/3000\u001b[0m \u001b[32m━━━━━━━━━━━━━━━━━━━━\u001b[0m\u001b[37m\u001b[0m \u001b[1m23s\u001b[0m 8ms/step - accuracy: 1.0000 - loss: 1.6146e-05 - val_accuracy: 0.9841 - val_loss: 0.1735\n",
            "Epoch 7/15\n",
            "\u001b[1m3000/3000\u001b[0m \u001b[32m━━━━━━━━━━━━━━━━━━━━\u001b[0m\u001b[37m\u001b[0m \u001b[1m22s\u001b[0m 7ms/step - accuracy: 1.0000 - loss: 2.2433e-05 - val_accuracy: 0.9830 - val_loss: 0.1866\n",
            "Epoch 8/15\n",
            "\u001b[1m3000/3000\u001b[0m \u001b[32m━━━━━━━━━━━━━━━━━━━━\u001b[0m\u001b[37m\u001b[0m \u001b[1m23s\u001b[0m 8ms/step - accuracy: 1.0000 - loss: 4.5299e-05 - val_accuracy: 0.9833 - val_loss: 0.1713\n",
            "Epoch 9/15\n",
            "\u001b[1m3000/3000\u001b[0m \u001b[32m━━━━━━━━━━━━━━━━━━━━\u001b[0m\u001b[37m\u001b[0m \u001b[1m42s\u001b[0m 8ms/step - accuracy: 1.0000 - loss: 7.2792e-05 - val_accuracy: 0.9835 - val_loss: 0.1656\n",
            "Epoch 10/15\n",
            "\u001b[1m3000/3000\u001b[0m \u001b[32m━━━━━━━━━━━━━━━━━━━━\u001b[0m\u001b[37m\u001b[0m \u001b[1m23s\u001b[0m 8ms/step - accuracy: 1.0000 - loss: 4.8032e-07 - val_accuracy: 0.9842 - val_loss: 0.1640\n",
            "Epoch 11/15\n",
            "\u001b[1m3000/3000\u001b[0m \u001b[32m━━━━━━━━━━━━━━━━━━━━\u001b[0m\u001b[37m\u001b[0m \u001b[1m23s\u001b[0m 8ms/step - accuracy: 1.0000 - loss: 5.4052e-05 - val_accuracy: 0.9830 - val_loss: 0.1806\n",
            "Epoch 12/15\n",
            "\u001b[1m3000/3000\u001b[0m \u001b[32m━━━━━━━━━━━━━━━━━━━━\u001b[0m\u001b[37m\u001b[0m \u001b[1m41s\u001b[0m 8ms/step - accuracy: 1.0000 - loss: 1.4779e-05 - val_accuracy: 0.9834 - val_loss: 0.1770\n",
            "Epoch 13/15\n",
            "\u001b[1m3000/3000\u001b[0m \u001b[32m━━━━━━━━━━━━━━━━━━━━\u001b[0m\u001b[37m\u001b[0m \u001b[1m40s\u001b[0m 7ms/step - accuracy: 0.9999 - loss: 3.5748e-04 - val_accuracy: 0.9835 - val_loss: 0.1789\n",
            "Epoch 14/15\n",
            "\u001b[1m3000/3000\u001b[0m \u001b[32m━━━━━━━━━━━━━━━━━━━━\u001b[0m\u001b[37m\u001b[0m \u001b[1m41s\u001b[0m 8ms/step - accuracy: 1.0000 - loss: 1.4727e-07 - val_accuracy: 0.9836 - val_loss: 0.1769\n",
            "Epoch 15/15\n",
            "\u001b[1m3000/3000\u001b[0m \u001b[32m━━━━━━━━━━━━━━━━━━━━\u001b[0m\u001b[37m\u001b[0m \u001b[1m21s\u001b[0m 7ms/step - accuracy: 1.0000 - loss: 5.3993e-05 - val_accuracy: 0.9828 - val_loss: 0.1853\n"
          ]
        }
      ]
    },
    {
      "cell_type": "code",
      "source": [
        "hist = red_adamax.fit(X_train, y_train,\n",
        "        epochs=20,\n",
        "        batch_size=20,\n",
        "        validation_data=(X_test,y_test)\n",
        "       )"
      ],
      "metadata": {
        "colab": {
          "base_uri": "https://localhost:8080/"
        },
        "id": "ny1QemdGiz_h",
        "outputId": "effec37d-faf0-4fe8-c849-1bc3cae4f45b"
      },
      "execution_count": 22,
      "outputs": [
        {
          "output_type": "stream",
          "name": "stdout",
          "text": [
            "Epoch 1/20\n",
            "\u001b[1m3000/3000\u001b[0m \u001b[32m━━━━━━━━━━━━━━━━━━━━\u001b[0m\u001b[37m\u001b[0m \u001b[1m24s\u001b[0m 8ms/step - accuracy: 0.9999 - loss: 3.8627e-04 - val_accuracy: 0.9834 - val_loss: 0.1178\n",
            "Epoch 2/20\n",
            "\u001b[1m3000/3000\u001b[0m \u001b[32m━━━━━━━━━━━━━━━━━━━━\u001b[0m\u001b[37m\u001b[0m \u001b[1m23s\u001b[0m 8ms/step - accuracy: 1.0000 - loss: 2.4737e-05 - val_accuracy: 0.9825 - val_loss: 0.1242\n",
            "Epoch 3/20\n",
            "\u001b[1m3000/3000\u001b[0m \u001b[32m━━━━━━━━━━━━━━━━━━━━\u001b[0m\u001b[37m\u001b[0m \u001b[1m23s\u001b[0m 8ms/step - accuracy: 1.0000 - loss: 4.8055e-05 - val_accuracy: 0.9813 - val_loss: 0.1386\n",
            "Epoch 4/20\n",
            "\u001b[1m3000/3000\u001b[0m \u001b[32m━━━━━━━━━━━━━━━━━━━━\u001b[0m\u001b[37m\u001b[0m \u001b[1m23s\u001b[0m 8ms/step - accuracy: 0.9999 - loss: 4.3241e-04 - val_accuracy: 0.9831 - val_loss: 0.1316\n",
            "Epoch 5/20\n",
            "\u001b[1m3000/3000\u001b[0m \u001b[32m━━━━━━━━━━━━━━━━━━━━\u001b[0m\u001b[37m\u001b[0m \u001b[1m42s\u001b[0m 8ms/step - accuracy: 1.0000 - loss: 1.6340e-05 - val_accuracy: 0.9827 - val_loss: 0.1406\n",
            "Epoch 6/20\n",
            "\u001b[1m3000/3000\u001b[0m \u001b[32m━━━━━━━━━━━━━━━━━━━━\u001b[0m\u001b[37m\u001b[0m \u001b[1m23s\u001b[0m 8ms/step - accuracy: 1.0000 - loss: 8.7557e-05 - val_accuracy: 0.9827 - val_loss: 0.1477\n",
            "Epoch 7/20\n",
            "\u001b[1m3000/3000\u001b[0m \u001b[32m━━━━━━━━━━━━━━━━━━━━\u001b[0m\u001b[37m\u001b[0m \u001b[1m41s\u001b[0m 8ms/step - accuracy: 1.0000 - loss: 3.0437e-04 - val_accuracy: 0.9828 - val_loss: 0.1354\n",
            "Epoch 8/20\n",
            "\u001b[1m3000/3000\u001b[0m \u001b[32m━━━━━━━━━━━━━━━━━━━━\u001b[0m\u001b[37m\u001b[0m \u001b[1m41s\u001b[0m 8ms/step - accuracy: 1.0000 - loss: 8.0193e-05 - val_accuracy: 0.9833 - val_loss: 0.1299\n",
            "Epoch 9/20\n",
            "\u001b[1m3000/3000\u001b[0m \u001b[32m━━━━━━━━━━━━━━━━━━━━\u001b[0m\u001b[37m\u001b[0m \u001b[1m41s\u001b[0m 8ms/step - accuracy: 1.0000 - loss: 2.9102e-05 - val_accuracy: 0.9827 - val_loss: 0.1428\n",
            "Epoch 10/20\n",
            "\u001b[1m3000/3000\u001b[0m \u001b[32m━━━━━━━━━━━━━━━━━━━━\u001b[0m\u001b[37m\u001b[0m \u001b[1m22s\u001b[0m 7ms/step - accuracy: 1.0000 - loss: 2.1778e-05 - val_accuracy: 0.9827 - val_loss: 0.1416\n",
            "Epoch 11/20\n",
            "\u001b[1m3000/3000\u001b[0m \u001b[32m━━━━━━━━━━━━━━━━━━━━\u001b[0m\u001b[37m\u001b[0m \u001b[1m42s\u001b[0m 8ms/step - accuracy: 1.0000 - loss: 9.3913e-05 - val_accuracy: 0.9830 - val_loss: 0.1447\n",
            "Epoch 12/20\n",
            "\u001b[1m3000/3000\u001b[0m \u001b[32m━━━━━━━━━━━━━━━━━━━━\u001b[0m\u001b[37m\u001b[0m \u001b[1m23s\u001b[0m 8ms/step - accuracy: 1.0000 - loss: 2.7430e-06 - val_accuracy: 0.9826 - val_loss: 0.1543\n",
            "Epoch 13/20\n",
            "\u001b[1m3000/3000\u001b[0m \u001b[32m━━━━━━━━━━━━━━━━━━━━\u001b[0m\u001b[37m\u001b[0m \u001b[1m41s\u001b[0m 8ms/step - accuracy: 0.9999 - loss: 3.3239e-04 - val_accuracy: 0.9826 - val_loss: 0.1577\n",
            "Epoch 14/20\n",
            "\u001b[1m3000/3000\u001b[0m \u001b[32m━━━━━━━━━━━━━━━━━━━━\u001b[0m\u001b[37m\u001b[0m \u001b[1m23s\u001b[0m 8ms/step - accuracy: 0.9998 - loss: 7.6189e-04 - val_accuracy: 0.9835 - val_loss: 0.1503\n",
            "Epoch 15/20\n",
            "\u001b[1m3000/3000\u001b[0m \u001b[32m━━━━━━━━━━━━━━━━━━━━\u001b[0m\u001b[37m\u001b[0m \u001b[1m23s\u001b[0m 8ms/step - accuracy: 1.0000 - loss: 1.1525e-05 - val_accuracy: 0.9833 - val_loss: 0.1499\n",
            "Epoch 16/20\n",
            "\u001b[1m3000/3000\u001b[0m \u001b[32m━━━━━━━━━━━━━━━━━━━━\u001b[0m\u001b[37m\u001b[0m \u001b[1m22s\u001b[0m 7ms/step - accuracy: 1.0000 - loss: 2.0876e-05 - val_accuracy: 0.9813 - val_loss: 0.1626\n",
            "Epoch 17/20\n",
            "\u001b[1m3000/3000\u001b[0m \u001b[32m━━━━━━━━━━━━━━━━━━━━\u001b[0m\u001b[37m\u001b[0m \u001b[1m43s\u001b[0m 8ms/step - accuracy: 1.0000 - loss: 7.4259e-06 - val_accuracy: 0.9830 - val_loss: 0.1574\n",
            "Epoch 18/20\n",
            "\u001b[1m3000/3000\u001b[0m \u001b[32m━━━━━━━━━━━━━━━━━━━━\u001b[0m\u001b[37m\u001b[0m \u001b[1m24s\u001b[0m 8ms/step - accuracy: 0.9999 - loss: 1.1314e-04 - val_accuracy: 0.9825 - val_loss: 0.1579\n",
            "Epoch 19/20\n",
            "\u001b[1m3000/3000\u001b[0m \u001b[32m━━━━━━━━━━━━━━━━━━━━\u001b[0m\u001b[37m\u001b[0m \u001b[1m24s\u001b[0m 8ms/step - accuracy: 1.0000 - loss: 1.2172e-04 - val_accuracy: 0.9836 - val_loss: 0.1641\n",
            "Epoch 20/20\n",
            "\u001b[1m3000/3000\u001b[0m \u001b[32m━━━━━━━━━━━━━━━━━━━━\u001b[0m\u001b[37m\u001b[0m \u001b[1m24s\u001b[0m 8ms/step - accuracy: 1.0000 - loss: 8.9572e-05 - val_accuracy: 0.9831 - val_loss: 0.1657\n"
          ]
        }
      ]
    },
    {
      "cell_type": "markdown",
      "source": [
        "# Creación de red neuronal base(Nadam)"
      ],
      "metadata": {
        "id": "wD72B_BEHLf7"
      }
    },
    {
      "cell_type": "code",
      "source": [
        "input_shape = X_train.shape[1]\n",
        "labels_output = y_train.shape[1]\n",
        "print(input_shape)\n",
        "print(y_train.shape[1])\n",
        "h1 = 512\n",
        "h2 = 256\n",
        "h3 = 128\n",
        "h4 = 64\n",
        "\n",
        "red_nadam = keras.Sequential(name=\"BaseNetwork\")\n",
        "red_nadam.add(keras.layers.Input(shape=(input_shape,), name='input_layer'))\n",
        "red_nadam.add(keras.layers.Dense(h1, activation='relu', name='hide_layer1'))\n",
        "red_nadam.add(keras.layers.Dense(h2, activation='relu', name='hide_layer2'))\n",
        "red_nadam.add(keras.layers.Dense(h3, activation='relu', name='hide_layer3'))\n",
        "red_nadam.add(keras.layers.Dense(h4, activation='relu', name='hide_layer4'))\n",
        "red_nadam.add(keras.layers.Dense(labels_output, activation='softmax', name='output_layer'))\n",
        "\n",
        "red_nadam.summary()\n",
        "\n",
        "red_nadam.compile(\n",
        "    loss='categorical_crossentropy',\n",
        "    optimizer='adamax',\n",
        "    metrics=['accuracy']\n",
        ")"
      ],
      "metadata": {
        "colab": {
          "base_uri": "https://localhost:8080/",
          "height": 325
        },
        "id": "NMr2cYqcHOSG",
        "outputId": "897863b3-b5dd-45ac-e264-a2223fd44da2"
      },
      "execution_count": 17,
      "outputs": [
        {
          "output_type": "stream",
          "name": "stdout",
          "text": [
            "784\n",
            "10\n"
          ]
        },
        {
          "output_type": "display_data",
          "data": {
            "text/plain": [
              "\u001b[1mModel: \"BaseNetwork\"\u001b[0m\n"
            ],
            "text/html": [
              "<pre style=\"white-space:pre;overflow-x:auto;line-height:normal;font-family:Menlo,'DejaVu Sans Mono',consolas,'Courier New',monospace\"><span style=\"font-weight: bold\">Model: \"BaseNetwork\"</span>\n",
              "</pre>\n"
            ]
          },
          "metadata": {}
        },
        {
          "output_type": "display_data",
          "data": {
            "text/plain": [
              "┏━━━━━━━━━━━━━━━━━━━━━━━━━━━━━━━━━┳━━━━━━━━━━━━━━━━━━━━━━━━┳━━━━━━━━━━━━━━━┓\n",
              "┃\u001b[1m \u001b[0m\u001b[1mLayer (type)                   \u001b[0m\u001b[1m \u001b[0m┃\u001b[1m \u001b[0m\u001b[1mOutput Shape          \u001b[0m\u001b[1m \u001b[0m┃\u001b[1m \u001b[0m\u001b[1m      Param #\u001b[0m\u001b[1m \u001b[0m┃\n",
              "┡━━━━━━━━━━━━━━━━━━━━━━━━━━━━━━━━━╇━━━━━━━━━━━━━━━━━━━━━━━━╇━━━━━━━━━━━━━━━┩\n",
              "│ hide_layer1 (\u001b[38;5;33mDense\u001b[0m)             │ (\u001b[38;5;45mNone\u001b[0m, \u001b[38;5;34m512\u001b[0m)            │       \u001b[38;5;34m401,920\u001b[0m │\n",
              "├─────────────────────────────────┼────────────────────────┼───────────────┤\n",
              "│ hide_layer2 (\u001b[38;5;33mDense\u001b[0m)             │ (\u001b[38;5;45mNone\u001b[0m, \u001b[38;5;34m256\u001b[0m)            │       \u001b[38;5;34m131,328\u001b[0m │\n",
              "├─────────────────────────────────┼────────────────────────┼───────────────┤\n",
              "│ hide_layer3 (\u001b[38;5;33mDense\u001b[0m)             │ (\u001b[38;5;45mNone\u001b[0m, \u001b[38;5;34m128\u001b[0m)            │        \u001b[38;5;34m32,896\u001b[0m │\n",
              "├─────────────────────────────────┼────────────────────────┼───────────────┤\n",
              "│ hide_layer4 (\u001b[38;5;33mDense\u001b[0m)             │ (\u001b[38;5;45mNone\u001b[0m, \u001b[38;5;34m64\u001b[0m)             │         \u001b[38;5;34m8,256\u001b[0m │\n",
              "├─────────────────────────────────┼────────────────────────┼───────────────┤\n",
              "│ output_layer (\u001b[38;5;33mDense\u001b[0m)            │ (\u001b[38;5;45mNone\u001b[0m, \u001b[38;5;34m10\u001b[0m)             │           \u001b[38;5;34m650\u001b[0m │\n",
              "└─────────────────────────────────┴────────────────────────┴───────────────┘\n"
            ],
            "text/html": [
              "<pre style=\"white-space:pre;overflow-x:auto;line-height:normal;font-family:Menlo,'DejaVu Sans Mono',consolas,'Courier New',monospace\">┏━━━━━━━━━━━━━━━━━━━━━━━━━━━━━━━━━┳━━━━━━━━━━━━━━━━━━━━━━━━┳━━━━━━━━━━━━━━━┓\n",
              "┃<span style=\"font-weight: bold\"> Layer (type)                    </span>┃<span style=\"font-weight: bold\"> Output Shape           </span>┃<span style=\"font-weight: bold\">       Param # </span>┃\n",
              "┡━━━━━━━━━━━━━━━━━━━━━━━━━━━━━━━━━╇━━━━━━━━━━━━━━━━━━━━━━━━╇━━━━━━━━━━━━━━━┩\n",
              "│ hide_layer1 (<span style=\"color: #0087ff; text-decoration-color: #0087ff\">Dense</span>)             │ (<span style=\"color: #00d7ff; text-decoration-color: #00d7ff\">None</span>, <span style=\"color: #00af00; text-decoration-color: #00af00\">512</span>)            │       <span style=\"color: #00af00; text-decoration-color: #00af00\">401,920</span> │\n",
              "├─────────────────────────────────┼────────────────────────┼───────────────┤\n",
              "│ hide_layer2 (<span style=\"color: #0087ff; text-decoration-color: #0087ff\">Dense</span>)             │ (<span style=\"color: #00d7ff; text-decoration-color: #00d7ff\">None</span>, <span style=\"color: #00af00; text-decoration-color: #00af00\">256</span>)            │       <span style=\"color: #00af00; text-decoration-color: #00af00\">131,328</span> │\n",
              "├─────────────────────────────────┼────────────────────────┼───────────────┤\n",
              "│ hide_layer3 (<span style=\"color: #0087ff; text-decoration-color: #0087ff\">Dense</span>)             │ (<span style=\"color: #00d7ff; text-decoration-color: #00d7ff\">None</span>, <span style=\"color: #00af00; text-decoration-color: #00af00\">128</span>)            │        <span style=\"color: #00af00; text-decoration-color: #00af00\">32,896</span> │\n",
              "├─────────────────────────────────┼────────────────────────┼───────────────┤\n",
              "│ hide_layer4 (<span style=\"color: #0087ff; text-decoration-color: #0087ff\">Dense</span>)             │ (<span style=\"color: #00d7ff; text-decoration-color: #00d7ff\">None</span>, <span style=\"color: #00af00; text-decoration-color: #00af00\">64</span>)             │         <span style=\"color: #00af00; text-decoration-color: #00af00\">8,256</span> │\n",
              "├─────────────────────────────────┼────────────────────────┼───────────────┤\n",
              "│ output_layer (<span style=\"color: #0087ff; text-decoration-color: #0087ff\">Dense</span>)            │ (<span style=\"color: #00d7ff; text-decoration-color: #00d7ff\">None</span>, <span style=\"color: #00af00; text-decoration-color: #00af00\">10</span>)             │           <span style=\"color: #00af00; text-decoration-color: #00af00\">650</span> │\n",
              "└─────────────────────────────────┴────────────────────────┴───────────────┘\n",
              "</pre>\n"
            ]
          },
          "metadata": {}
        },
        {
          "output_type": "display_data",
          "data": {
            "text/plain": [
              "\u001b[1m Total params: \u001b[0m\u001b[38;5;34m575,050\u001b[0m (2.19 MB)\n"
            ],
            "text/html": [
              "<pre style=\"white-space:pre;overflow-x:auto;line-height:normal;font-family:Menlo,'DejaVu Sans Mono',consolas,'Courier New',monospace\"><span style=\"font-weight: bold\"> Total params: </span><span style=\"color: #00af00; text-decoration-color: #00af00\">575,050</span> (2.19 MB)\n",
              "</pre>\n"
            ]
          },
          "metadata": {}
        },
        {
          "output_type": "display_data",
          "data": {
            "text/plain": [
              "\u001b[1m Trainable params: \u001b[0m\u001b[38;5;34m575,050\u001b[0m (2.19 MB)\n"
            ],
            "text/html": [
              "<pre style=\"white-space:pre;overflow-x:auto;line-height:normal;font-family:Menlo,'DejaVu Sans Mono',consolas,'Courier New',monospace\"><span style=\"font-weight: bold\"> Trainable params: </span><span style=\"color: #00af00; text-decoration-color: #00af00\">575,050</span> (2.19 MB)\n",
              "</pre>\n"
            ]
          },
          "metadata": {}
        },
        {
          "output_type": "display_data",
          "data": {
            "text/plain": [
              "\u001b[1m Non-trainable params: \u001b[0m\u001b[38;5;34m0\u001b[0m (0.00 B)\n"
            ],
            "text/html": [
              "<pre style=\"white-space:pre;overflow-x:auto;line-height:normal;font-family:Menlo,'DejaVu Sans Mono',consolas,'Courier New',monospace\"><span style=\"font-weight: bold\"> Non-trainable params: </span><span style=\"color: #00af00; text-decoration-color: #00af00\">0</span> (0.00 B)\n",
              "</pre>\n"
            ]
          },
          "metadata": {}
        }
      ]
    },
    {
      "cell_type": "code",
      "source": [
        "hist = red_nadam.fit(X_train, y_train,\n",
        "        epochs=15,\n",
        "        batch_size=10,\n",
        "        validation_data=(X_test,y_test)\n",
        "       )"
      ],
      "metadata": {
        "colab": {
          "base_uri": "https://localhost:8080/"
        },
        "id": "ahXCqR8pHRHG",
        "outputId": "d30e340b-1d97-46d2-cf9e-ed048211ddce"
      },
      "execution_count": 18,
      "outputs": [
        {
          "output_type": "stream",
          "name": "stdout",
          "text": [
            "Epoch 1/15\n",
            "\u001b[1m6000/6000\u001b[0m \u001b[32m━━━━━━━━━━━━━━━━━━━━\u001b[0m\u001b[37m\u001b[0m \u001b[1m43s\u001b[0m 7ms/step - accuracy: 0.8866 - loss: 0.3824 - val_accuracy: 0.9622 - val_loss: 0.1225\n",
            "Epoch 2/15\n",
            "\u001b[1m6000/6000\u001b[0m \u001b[32m━━━━━━━━━━━━━━━━━━━━\u001b[0m\u001b[37m\u001b[0m \u001b[1m43s\u001b[0m 7ms/step - accuracy: 0.9699 - loss: 0.0968 - val_accuracy: 0.9736 - val_loss: 0.0816\n",
            "Epoch 3/15\n",
            "\u001b[1m6000/6000\u001b[0m \u001b[32m━━━━━━━━━━━━━━━━━━━━\u001b[0m\u001b[37m\u001b[0m \u001b[1m81s\u001b[0m 7ms/step - accuracy: 0.9824 - loss: 0.0578 - val_accuracy: 0.9794 - val_loss: 0.0706\n",
            "Epoch 4/15\n",
            "\u001b[1m6000/6000\u001b[0m \u001b[32m━━━━━━━━━━━━━━━━━━━━\u001b[0m\u001b[37m\u001b[0m \u001b[1m41s\u001b[0m 7ms/step - accuracy: 0.9885 - loss: 0.0380 - val_accuracy: 0.9769 - val_loss: 0.0774\n",
            "Epoch 5/15\n",
            "\u001b[1m6000/6000\u001b[0m \u001b[32m━━━━━━━━━━━━━━━━━━━━\u001b[0m\u001b[37m\u001b[0m \u001b[1m81s\u001b[0m 7ms/step - accuracy: 0.9925 - loss: 0.0263 - val_accuracy: 0.9782 - val_loss: 0.0732\n",
            "Epoch 6/15\n",
            "\u001b[1m6000/6000\u001b[0m \u001b[32m━━━━━━━━━━━━━━━━━━━━\u001b[0m\u001b[37m\u001b[0m \u001b[1m40s\u001b[0m 7ms/step - accuracy: 0.9956 - loss: 0.0160 - val_accuracy: 0.9813 - val_loss: 0.0671\n",
            "Epoch 7/15\n",
            "\u001b[1m6000/6000\u001b[0m \u001b[32m━━━━━━━━━━━━━━━━━━━━\u001b[0m\u001b[37m\u001b[0m \u001b[1m43s\u001b[0m 7ms/step - accuracy: 0.9965 - loss: 0.0121 - val_accuracy: 0.9818 - val_loss: 0.0739\n",
            "Epoch 8/15\n",
            "\u001b[1m6000/6000\u001b[0m \u001b[32m━━━━━━━━━━━━━━━━━━━━\u001b[0m\u001b[37m\u001b[0m \u001b[1m41s\u001b[0m 7ms/step - accuracy: 0.9977 - loss: 0.0082 - val_accuracy: 0.9826 - val_loss: 0.0710\n",
            "Epoch 9/15\n",
            "\u001b[1m6000/6000\u001b[0m \u001b[32m━━━━━━━━━━━━━━━━━━━━\u001b[0m\u001b[37m\u001b[0m \u001b[1m81s\u001b[0m 7ms/step - accuracy: 0.9982 - loss: 0.0062 - val_accuracy: 0.9805 - val_loss: 0.0777\n",
            "Epoch 10/15\n",
            "\u001b[1m6000/6000\u001b[0m \u001b[32m━━━━━━━━━━━━━━━━━━━━\u001b[0m\u001b[37m\u001b[0m \u001b[1m40s\u001b[0m 7ms/step - accuracy: 0.9989 - loss: 0.0045 - val_accuracy: 0.9840 - val_loss: 0.0725\n",
            "Epoch 11/15\n",
            "\u001b[1m6000/6000\u001b[0m \u001b[32m━━━━━━━━━━━━━━━━━━━━\u001b[0m\u001b[37m\u001b[0m \u001b[1m42s\u001b[0m 7ms/step - accuracy: 0.9993 - loss: 0.0025 - val_accuracy: 0.9822 - val_loss: 0.0853\n",
            "Epoch 12/15\n",
            "\u001b[1m6000/6000\u001b[0m \u001b[32m━━━━━━━━━━━━━━━━━━━━\u001b[0m\u001b[37m\u001b[0m \u001b[1m82s\u001b[0m 7ms/step - accuracy: 0.9993 - loss: 0.0023 - val_accuracy: 0.9819 - val_loss: 0.0939\n",
            "Epoch 13/15\n",
            "\u001b[1m6000/6000\u001b[0m \u001b[32m━━━━━━━━━━━━━━━━━━━━\u001b[0m\u001b[37m\u001b[0m \u001b[1m83s\u001b[0m 7ms/step - accuracy: 0.9996 - loss: 0.0017 - val_accuracy: 0.9837 - val_loss: 0.0912\n",
            "Epoch 14/15\n",
            "\u001b[1m6000/6000\u001b[0m \u001b[32m━━━━━━━━━━━━━━━━━━━━\u001b[0m\u001b[37m\u001b[0m \u001b[1m81s\u001b[0m 7ms/step - accuracy: 0.9997 - loss: 9.8849e-04 - val_accuracy: 0.9825 - val_loss: 0.0940\n",
            "Epoch 15/15\n",
            "\u001b[1m6000/6000\u001b[0m \u001b[32m━━━━━━━━━━━━━━━━━━━━\u001b[0m\u001b[37m\u001b[0m \u001b[1m41s\u001b[0m 7ms/step - accuracy: 0.9998 - loss: 9.3290e-04 - val_accuracy: 0.9832 - val_loss: 0.0921\n"
          ]
        }
      ]
    }
  ]
}