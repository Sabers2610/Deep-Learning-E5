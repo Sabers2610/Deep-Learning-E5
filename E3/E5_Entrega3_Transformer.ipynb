{
  "cells": [
    {
      "cell_type": "markdown",
      "id": "7283a721",
      "metadata": {
        "id": "7283a721"
      },
      "source": [
        "# Implementación de Transformers para Procesamiento de Lenguaje Natural (NLP)"
      ]
    },
    {
      "cell_type": "markdown",
      "id": "6422d1ff",
      "metadata": {
        "id": "6422d1ff"
      },
      "source": [
        "\n",
        "### Objetivo\n",
        "En esta evaluación, implementaremos un modelo basado en arquitecturas de Transformers para una tarea de procesamiento de lenguaje natural (NLP), utilizando el dataset **DailyDialog**. Este conjunto de datos de diálogos permite que el modelo practique en generación de texto y comprensión de contexto en interacciones cotidianas.\n",
        "\n",
        "Usaremos TensorFlow para construir un modelo transformer básico con las siguientes características:\n",
        "- **Encoder-Decoder**: para procesar la entrada y generar salida secuencial.\n",
        "- **Atención Multi-cabezal**: para capturar dependencias a largo plazo en el diálogo.\n",
        "\n",
        "Al final, evaluaremos el modelo utilizando métricas específicas de NLP, como BLEU o ROUGE.\n"
      ]
    },
    {
      "cell_type": "markdown",
      "id": "bca5997e",
      "metadata": {
        "id": "bca5997e"
      },
      "source": [
        "## 1. Carga y Exploración del Dataset: DailyDialog"
      ]
    },
    {
      "cell_type": "markdown",
      "source": [
        "Se realiza la descarga de los 3 CSV que funcionaran para el entrenamiento, validacion y prueba del modelo."
      ],
      "metadata": {
        "id": "EXIuz5-Bj-cy"
      },
      "id": "EXIuz5-Bj-cy"
    },
    {
      "cell_type": "code",
      "source": [
        "!wget https://raw.githubusercontent.com/JaznaLaProfe/Deep-Learning/main/data/dialog/train.csv\n",
        "!wget https://raw.githubusercontent.com/JaznaLaProfe/Deep-Learning/main/data/dialog/test.csv\n",
        "!wget https://raw.githubusercontent.com/JaznaLaProfe/Deep-Learning/main/data/dialog/validation.csv"
      ],
      "metadata": {
        "colab": {
          "base_uri": "https://localhost:8080/"
        },
        "id": "DcWs7Nf3pRIq",
        "outputId": "7befad08-d3d2-472a-86e0-09339635eded"
      },
      "id": "DcWs7Nf3pRIq",
      "execution_count": null,
      "outputs": [
        {
          "output_type": "stream",
          "name": "stdout",
          "text": [
            "--2025-06-26 04:05:39--  https://raw.githubusercontent.com/JaznaLaProfe/Deep-Learning/main/data/dialog/train.csv\n",
            "Resolving raw.githubusercontent.com (raw.githubusercontent.com)... 185.199.108.133, 185.199.109.133, 185.199.110.133, ...\n",
            "Connecting to raw.githubusercontent.com (raw.githubusercontent.com)|185.199.108.133|:443... connected.\n",
            "HTTP request sent, awaiting response... 200 OK\n",
            "Length: 6233555 (5.9M) [text/plain]\n",
            "Saving to: ‘train.csv.6’\n",
            "\n",
            "\rtrain.csv.6           0%[                    ]       0  --.-KB/s               \rtrain.csv.6         100%[===================>]   5.94M  --.-KB/s    in 0.09s   \n",
            "\n",
            "2025-06-26 04:05:39 (68.1 MB/s) - ‘train.csv.6’ saved [6233555/6233555]\n",
            "\n",
            "--2025-06-26 04:05:39--  https://raw.githubusercontent.com/JaznaLaProfe/Deep-Learning/main/data/dialog/test.csv\n",
            "Resolving raw.githubusercontent.com (raw.githubusercontent.com)... 185.199.108.133, 185.199.109.133, 185.199.110.133, ...\n",
            "Connecting to raw.githubusercontent.com (raw.githubusercontent.com)|185.199.108.133|:443... connected.\n",
            "HTTP request sent, awaiting response... 200 OK\n",
            "Length: 561656 (548K) [text/plain]\n",
            "Saving to: ‘test.csv.6’\n",
            "\n",
            "test.csv.6          100%[===================>] 548.49K  --.-KB/s    in 0.05s   \n",
            "\n",
            "2025-06-26 04:05:40 (11.1 MB/s) - ‘test.csv.6’ saved [561656/561656]\n",
            "\n",
            "--2025-06-26 04:05:40--  https://raw.githubusercontent.com/JaznaLaProfe/Deep-Learning/main/data/dialog/validation.csv\n",
            "Resolving raw.githubusercontent.com (raw.githubusercontent.com)... 185.199.108.133, 185.199.109.133, 185.199.110.133, ...\n",
            "Connecting to raw.githubusercontent.com (raw.githubusercontent.com)|185.199.108.133|:443... connected.\n",
            "HTTP request sent, awaiting response... 200 OK\n",
            "Length: 575615 (562K) [text/plain]\n",
            "Saving to: ‘validation.csv.6’\n",
            "\n",
            "validation.csv.6    100%[===================>] 562.12K  --.-KB/s    in 0.05s   \n",
            "\n",
            "2025-06-26 04:05:40 (10.9 MB/s) - ‘validation.csv.6’ saved [575615/575615]\n",
            "\n"
          ]
        }
      ]
    },
    {
      "cell_type": "code",
      "execution_count": null,
      "id": "8a63cf22",
      "metadata": {
        "id": "8a63cf22"
      },
      "outputs": [],
      "source": [
        "import pandas as pd\n",
        "import numpy as np\n",
        "import tensorflow as tf\n",
        "import ast\n",
        "import re\n",
        "from itertools import chain\n",
        "import matplotlib.pyplot as plt\n",
        "import json\n",
        "\n",
        "\n",
        "from nltk.translate.bleu_score import sentence_bleu, SmoothingFunction\n",
        "from tensorflow.keras.preprocessing.text import Tokenizer\n",
        "from tensorflow.keras.preprocessing.sequence import pad_sequences\n",
        "from tensorflow.keras.layers import Input, Embedding, Dense, Dropout, LayerNormalization, MultiHeadAttention\n",
        "from tensorflow.keras.models import Model\n",
        "\n",
        "from tensorflow.keras.callbacks import EarlyStopping"
      ]
    },
    {
      "cell_type": "code",
      "source": [
        "train = pd.read_csv('train.csv')\n",
        "test = pd.read_csv('test.csv')\n",
        "validation = pd.read_csv('validation.csv')"
      ],
      "metadata": {
        "id": "Tw1ETOfgpVBT"
      },
      "id": "Tw1ETOfgpVBT",
      "execution_count": null,
      "outputs": []
    },
    {
      "cell_type": "markdown",
      "source": [
        "Se hace la carga de los csv en 3 variables correspondientes a su funcionamiento."
      ],
      "metadata": {
        "id": "7RQvh0OskE9s"
      },
      "id": "7RQvh0OskE9s"
    },
    {
      "cell_type": "code",
      "source": [
        "train"
      ],
      "metadata": {
        "colab": {
          "base_uri": "https://localhost:8080/",
          "height": 424
        },
        "id": "-RTuSWKwUeP0",
        "outputId": "9a19c292-f7e2-4342-8c41-b81d4a700474"
      },
      "id": "-RTuSWKwUeP0",
      "execution_count": null,
      "outputs": [
        {
          "output_type": "execute_result",
          "data": {
            "text/plain": [
              "                                                  dialog  \\\n",
              "0      ['Say , Jim , how about going for a few beers ...   \n",
              "1      ['Can you do push-ups ? '\\n \" Of course I can ...   \n",
              "2      ['Can you study with the radio on ? '\\n ' No ,...   \n",
              "3      ['Are you all right ? '\\n ' I will be all righ...   \n",
              "4      ['Hey John , nice skates . Are they new ? '\\n ...   \n",
              "...                                                  ...   \n",
              "11113  ['Hello , I bought a pen in your shop just bef...   \n",
              "11114  ['Do you have any seats available ? ' ' Yes . ...   \n",
              "11115  ['Uncle Ben , how did the Forbidden City get t...   \n",
              "11116  ['May I help you , sir ? ' ' I want a pair of ...   \n",
              "11117  ['Could I have the check , please ? ' \" Okay ....   \n",
              "\n",
              "                                     act                            emotion  \n",
              "0                  [3 4 2 2 2 3 4 1 3 4]              [0 0 0 0 0 0 4 4 4 4]  \n",
              "1                          [2 1 2 2 1 1]                      [0 0 6 0 0 0]  \n",
              "2                            [2 1 2 1 1]                        [0 0 0 0 0]  \n",
              "3                              [2 1 1 1]                          [0 0 0 0]  \n",
              "4                    [2 1 2 1 1 2 1 3 4]                [0 0 0 0 0 6 0 6 0]  \n",
              "...                                  ...                                ...  \n",
              "11113                [1 1 1 2 3 2 1 4 1]                [0 4 0 0 0 0 0 0 4]  \n",
              "11114                      [2 1 2 1 3 4]                      [0 0 0 0 0 4]  \n",
              "11115  [2 1 2 1 1 1 1 1 2 1 2 1 2 1 3 4]  [0 0 6 0 6 0 0 0 0 0 0 0 0 0 4 0]  \n",
              "11116                          [2 3 4 3]                          [0 0 0 0]  \n",
              "11117                              [3 4]                              [0 0]  \n",
              "\n",
              "[11118 rows x 3 columns]"
            ],
            "text/html": [
              "\n",
              "  <div id=\"df-4a46f116-db1d-4d85-9bdd-181c3b3e332f\" class=\"colab-df-container\">\n",
              "    <div>\n",
              "<style scoped>\n",
              "    .dataframe tbody tr th:only-of-type {\n",
              "        vertical-align: middle;\n",
              "    }\n",
              "\n",
              "    .dataframe tbody tr th {\n",
              "        vertical-align: top;\n",
              "    }\n",
              "\n",
              "    .dataframe thead th {\n",
              "        text-align: right;\n",
              "    }\n",
              "</style>\n",
              "<table border=\"1\" class=\"dataframe\">\n",
              "  <thead>\n",
              "    <tr style=\"text-align: right;\">\n",
              "      <th></th>\n",
              "      <th>dialog</th>\n",
              "      <th>act</th>\n",
              "      <th>emotion</th>\n",
              "    </tr>\n",
              "  </thead>\n",
              "  <tbody>\n",
              "    <tr>\n",
              "      <th>0</th>\n",
              "      <td>['Say , Jim , how about going for a few beers ...</td>\n",
              "      <td>[3 4 2 2 2 3 4 1 3 4]</td>\n",
              "      <td>[0 0 0 0 0 0 4 4 4 4]</td>\n",
              "    </tr>\n",
              "    <tr>\n",
              "      <th>1</th>\n",
              "      <td>['Can you do push-ups ? '\\n \" Of course I can ...</td>\n",
              "      <td>[2 1 2 2 1 1]</td>\n",
              "      <td>[0 0 6 0 0 0]</td>\n",
              "    </tr>\n",
              "    <tr>\n",
              "      <th>2</th>\n",
              "      <td>['Can you study with the radio on ? '\\n ' No ,...</td>\n",
              "      <td>[2 1 2 1 1]</td>\n",
              "      <td>[0 0 0 0 0]</td>\n",
              "    </tr>\n",
              "    <tr>\n",
              "      <th>3</th>\n",
              "      <td>['Are you all right ? '\\n ' I will be all righ...</td>\n",
              "      <td>[2 1 1 1]</td>\n",
              "      <td>[0 0 0 0]</td>\n",
              "    </tr>\n",
              "    <tr>\n",
              "      <th>4</th>\n",
              "      <td>['Hey John , nice skates . Are they new ? '\\n ...</td>\n",
              "      <td>[2 1 2 1 1 2 1 3 4]</td>\n",
              "      <td>[0 0 0 0 0 6 0 6 0]</td>\n",
              "    </tr>\n",
              "    <tr>\n",
              "      <th>...</th>\n",
              "      <td>...</td>\n",
              "      <td>...</td>\n",
              "      <td>...</td>\n",
              "    </tr>\n",
              "    <tr>\n",
              "      <th>11113</th>\n",
              "      <td>['Hello , I bought a pen in your shop just bef...</td>\n",
              "      <td>[1 1 1 2 3 2 1 4 1]</td>\n",
              "      <td>[0 4 0 0 0 0 0 0 4]</td>\n",
              "    </tr>\n",
              "    <tr>\n",
              "      <th>11114</th>\n",
              "      <td>['Do you have any seats available ? ' ' Yes . ...</td>\n",
              "      <td>[2 1 2 1 3 4]</td>\n",
              "      <td>[0 0 0 0 0 4]</td>\n",
              "    </tr>\n",
              "    <tr>\n",
              "      <th>11115</th>\n",
              "      <td>['Uncle Ben , how did the Forbidden City get t...</td>\n",
              "      <td>[2 1 2 1 1 1 1 1 2 1 2 1 2 1 3 4]</td>\n",
              "      <td>[0 0 6 0 6 0 0 0 0 0 0 0 0 0 4 0]</td>\n",
              "    </tr>\n",
              "    <tr>\n",
              "      <th>11116</th>\n",
              "      <td>['May I help you , sir ? ' ' I want a pair of ...</td>\n",
              "      <td>[2 3 4 3]</td>\n",
              "      <td>[0 0 0 0]</td>\n",
              "    </tr>\n",
              "    <tr>\n",
              "      <th>11117</th>\n",
              "      <td>['Could I have the check , please ? ' \" Okay ....</td>\n",
              "      <td>[3 4]</td>\n",
              "      <td>[0 0]</td>\n",
              "    </tr>\n",
              "  </tbody>\n",
              "</table>\n",
              "<p>11118 rows × 3 columns</p>\n",
              "</div>\n",
              "    <div class=\"colab-df-buttons\">\n",
              "\n",
              "  <div class=\"colab-df-container\">\n",
              "    <button class=\"colab-df-convert\" onclick=\"convertToInteractive('df-4a46f116-db1d-4d85-9bdd-181c3b3e332f')\"\n",
              "            title=\"Convert this dataframe to an interactive table.\"\n",
              "            style=\"display:none;\">\n",
              "\n",
              "  <svg xmlns=\"http://www.w3.org/2000/svg\" height=\"24px\" viewBox=\"0 -960 960 960\">\n",
              "    <path d=\"M120-120v-720h720v720H120Zm60-500h600v-160H180v160Zm220 220h160v-160H400v160Zm0 220h160v-160H400v160ZM180-400h160v-160H180v160Zm440 0h160v-160H620v160ZM180-180h160v-160H180v160Zm440 0h160v-160H620v160Z\"/>\n",
              "  </svg>\n",
              "    </button>\n",
              "\n",
              "  <style>\n",
              "    .colab-df-container {\n",
              "      display:flex;\n",
              "      gap: 12px;\n",
              "    }\n",
              "\n",
              "    .colab-df-convert {\n",
              "      background-color: #E8F0FE;\n",
              "      border: none;\n",
              "      border-radius: 50%;\n",
              "      cursor: pointer;\n",
              "      display: none;\n",
              "      fill: #1967D2;\n",
              "      height: 32px;\n",
              "      padding: 0 0 0 0;\n",
              "      width: 32px;\n",
              "    }\n",
              "\n",
              "    .colab-df-convert:hover {\n",
              "      background-color: #E2EBFA;\n",
              "      box-shadow: 0px 1px 2px rgba(60, 64, 67, 0.3), 0px 1px 3px 1px rgba(60, 64, 67, 0.15);\n",
              "      fill: #174EA6;\n",
              "    }\n",
              "\n",
              "    .colab-df-buttons div {\n",
              "      margin-bottom: 4px;\n",
              "    }\n",
              "\n",
              "    [theme=dark] .colab-df-convert {\n",
              "      background-color: #3B4455;\n",
              "      fill: #D2E3FC;\n",
              "    }\n",
              "\n",
              "    [theme=dark] .colab-df-convert:hover {\n",
              "      background-color: #434B5C;\n",
              "      box-shadow: 0px 1px 3px 1px rgba(0, 0, 0, 0.15);\n",
              "      filter: drop-shadow(0px 1px 2px rgba(0, 0, 0, 0.3));\n",
              "      fill: #FFFFFF;\n",
              "    }\n",
              "  </style>\n",
              "\n",
              "    <script>\n",
              "      const buttonEl =\n",
              "        document.querySelector('#df-4a46f116-db1d-4d85-9bdd-181c3b3e332f button.colab-df-convert');\n",
              "      buttonEl.style.display =\n",
              "        google.colab.kernel.accessAllowed ? 'block' : 'none';\n",
              "\n",
              "      async function convertToInteractive(key) {\n",
              "        const element = document.querySelector('#df-4a46f116-db1d-4d85-9bdd-181c3b3e332f');\n",
              "        const dataTable =\n",
              "          await google.colab.kernel.invokeFunction('convertToInteractive',\n",
              "                                                    [key], {});\n",
              "        if (!dataTable) return;\n",
              "\n",
              "        const docLinkHtml = 'Like what you see? Visit the ' +\n",
              "          '<a target=\"_blank\" href=https://colab.research.google.com/notebooks/data_table.ipynb>data table notebook</a>'\n",
              "          + ' to learn more about interactive tables.';\n",
              "        element.innerHTML = '';\n",
              "        dataTable['output_type'] = 'display_data';\n",
              "        await google.colab.output.renderOutput(dataTable, element);\n",
              "        const docLink = document.createElement('div');\n",
              "        docLink.innerHTML = docLinkHtml;\n",
              "        element.appendChild(docLink);\n",
              "      }\n",
              "    </script>\n",
              "  </div>\n",
              "\n",
              "\n",
              "    <div id=\"df-8b7ca464-4f2b-45f1-9dac-d21472a7e04b\">\n",
              "      <button class=\"colab-df-quickchart\" onclick=\"quickchart('df-8b7ca464-4f2b-45f1-9dac-d21472a7e04b')\"\n",
              "                title=\"Suggest charts\"\n",
              "                style=\"display:none;\">\n",
              "\n",
              "<svg xmlns=\"http://www.w3.org/2000/svg\" height=\"24px\"viewBox=\"0 0 24 24\"\n",
              "     width=\"24px\">\n",
              "    <g>\n",
              "        <path d=\"M19 3H5c-1.1 0-2 .9-2 2v14c0 1.1.9 2 2 2h14c1.1 0 2-.9 2-2V5c0-1.1-.9-2-2-2zM9 17H7v-7h2v7zm4 0h-2V7h2v10zm4 0h-2v-4h2v4z\"/>\n",
              "    </g>\n",
              "</svg>\n",
              "      </button>\n",
              "\n",
              "<style>\n",
              "  .colab-df-quickchart {\n",
              "      --bg-color: #E8F0FE;\n",
              "      --fill-color: #1967D2;\n",
              "      --hover-bg-color: #E2EBFA;\n",
              "      --hover-fill-color: #174EA6;\n",
              "      --disabled-fill-color: #AAA;\n",
              "      --disabled-bg-color: #DDD;\n",
              "  }\n",
              "\n",
              "  [theme=dark] .colab-df-quickchart {\n",
              "      --bg-color: #3B4455;\n",
              "      --fill-color: #D2E3FC;\n",
              "      --hover-bg-color: #434B5C;\n",
              "      --hover-fill-color: #FFFFFF;\n",
              "      --disabled-bg-color: #3B4455;\n",
              "      --disabled-fill-color: #666;\n",
              "  }\n",
              "\n",
              "  .colab-df-quickchart {\n",
              "    background-color: var(--bg-color);\n",
              "    border: none;\n",
              "    border-radius: 50%;\n",
              "    cursor: pointer;\n",
              "    display: none;\n",
              "    fill: var(--fill-color);\n",
              "    height: 32px;\n",
              "    padding: 0;\n",
              "    width: 32px;\n",
              "  }\n",
              "\n",
              "  .colab-df-quickchart:hover {\n",
              "    background-color: var(--hover-bg-color);\n",
              "    box-shadow: 0 1px 2px rgba(60, 64, 67, 0.3), 0 1px 3px 1px rgba(60, 64, 67, 0.15);\n",
              "    fill: var(--button-hover-fill-color);\n",
              "  }\n",
              "\n",
              "  .colab-df-quickchart-complete:disabled,\n",
              "  .colab-df-quickchart-complete:disabled:hover {\n",
              "    background-color: var(--disabled-bg-color);\n",
              "    fill: var(--disabled-fill-color);\n",
              "    box-shadow: none;\n",
              "  }\n",
              "\n",
              "  .colab-df-spinner {\n",
              "    border: 2px solid var(--fill-color);\n",
              "    border-color: transparent;\n",
              "    border-bottom-color: var(--fill-color);\n",
              "    animation:\n",
              "      spin 1s steps(1) infinite;\n",
              "  }\n",
              "\n",
              "  @keyframes spin {\n",
              "    0% {\n",
              "      border-color: transparent;\n",
              "      border-bottom-color: var(--fill-color);\n",
              "      border-left-color: var(--fill-color);\n",
              "    }\n",
              "    20% {\n",
              "      border-color: transparent;\n",
              "      border-left-color: var(--fill-color);\n",
              "      border-top-color: var(--fill-color);\n",
              "    }\n",
              "    30% {\n",
              "      border-color: transparent;\n",
              "      border-left-color: var(--fill-color);\n",
              "      border-top-color: var(--fill-color);\n",
              "      border-right-color: var(--fill-color);\n",
              "    }\n",
              "    40% {\n",
              "      border-color: transparent;\n",
              "      border-right-color: var(--fill-color);\n",
              "      border-top-color: var(--fill-color);\n",
              "    }\n",
              "    60% {\n",
              "      border-color: transparent;\n",
              "      border-right-color: var(--fill-color);\n",
              "    }\n",
              "    80% {\n",
              "      border-color: transparent;\n",
              "      border-right-color: var(--fill-color);\n",
              "      border-bottom-color: var(--fill-color);\n",
              "    }\n",
              "    90% {\n",
              "      border-color: transparent;\n",
              "      border-bottom-color: var(--fill-color);\n",
              "    }\n",
              "  }\n",
              "</style>\n",
              "\n",
              "      <script>\n",
              "        async function quickchart(key) {\n",
              "          const quickchartButtonEl =\n",
              "            document.querySelector('#' + key + ' button');\n",
              "          quickchartButtonEl.disabled = true;  // To prevent multiple clicks.\n",
              "          quickchartButtonEl.classList.add('colab-df-spinner');\n",
              "          try {\n",
              "            const charts = await google.colab.kernel.invokeFunction(\n",
              "                'suggestCharts', [key], {});\n",
              "          } catch (error) {\n",
              "            console.error('Error during call to suggestCharts:', error);\n",
              "          }\n",
              "          quickchartButtonEl.classList.remove('colab-df-spinner');\n",
              "          quickchartButtonEl.classList.add('colab-df-quickchart-complete');\n",
              "        }\n",
              "        (() => {\n",
              "          let quickchartButtonEl =\n",
              "            document.querySelector('#df-8b7ca464-4f2b-45f1-9dac-d21472a7e04b button');\n",
              "          quickchartButtonEl.style.display =\n",
              "            google.colab.kernel.accessAllowed ? 'block' : 'none';\n",
              "        })();\n",
              "      </script>\n",
              "    </div>\n",
              "\n",
              "  <div id=\"id_7dd382ba-f5b6-4fd9-a561-6db58731cd76\">\n",
              "    <style>\n",
              "      .colab-df-generate {\n",
              "        background-color: #E8F0FE;\n",
              "        border: none;\n",
              "        border-radius: 50%;\n",
              "        cursor: pointer;\n",
              "        display: none;\n",
              "        fill: #1967D2;\n",
              "        height: 32px;\n",
              "        padding: 0 0 0 0;\n",
              "        width: 32px;\n",
              "      }\n",
              "\n",
              "      .colab-df-generate:hover {\n",
              "        background-color: #E2EBFA;\n",
              "        box-shadow: 0px 1px 2px rgba(60, 64, 67, 0.3), 0px 1px 3px 1px rgba(60, 64, 67, 0.15);\n",
              "        fill: #174EA6;\n",
              "      }\n",
              "\n",
              "      [theme=dark] .colab-df-generate {\n",
              "        background-color: #3B4455;\n",
              "        fill: #D2E3FC;\n",
              "      }\n",
              "\n",
              "      [theme=dark] .colab-df-generate:hover {\n",
              "        background-color: #434B5C;\n",
              "        box-shadow: 0px 1px 3px 1px rgba(0, 0, 0, 0.15);\n",
              "        filter: drop-shadow(0px 1px 2px rgba(0, 0, 0, 0.3));\n",
              "        fill: #FFFFFF;\n",
              "      }\n",
              "    </style>\n",
              "    <button class=\"colab-df-generate\" onclick=\"generateWithVariable('train')\"\n",
              "            title=\"Generate code using this dataframe.\"\n",
              "            style=\"display:none;\">\n",
              "\n",
              "  <svg xmlns=\"http://www.w3.org/2000/svg\" height=\"24px\"viewBox=\"0 0 24 24\"\n",
              "       width=\"24px\">\n",
              "    <path d=\"M7,19H8.4L18.45,9,17,7.55,7,17.6ZM5,21V16.75L18.45,3.32a2,2,0,0,1,2.83,0l1.4,1.43a1.91,1.91,0,0,1,.58,1.4,1.91,1.91,0,0,1-.58,1.4L9.25,21ZM18.45,9,17,7.55Zm-12,3A5.31,5.31,0,0,0,4.9,8.1,5.31,5.31,0,0,0,1,6.5,5.31,5.31,0,0,0,4.9,4.9,5.31,5.31,0,0,0,6.5,1,5.31,5.31,0,0,0,8.1,4.9,5.31,5.31,0,0,0,12,6.5,5.46,5.46,0,0,0,6.5,12Z\"/>\n",
              "  </svg>\n",
              "    </button>\n",
              "    <script>\n",
              "      (() => {\n",
              "      const buttonEl =\n",
              "        document.querySelector('#id_7dd382ba-f5b6-4fd9-a561-6db58731cd76 button.colab-df-generate');\n",
              "      buttonEl.style.display =\n",
              "        google.colab.kernel.accessAllowed ? 'block' : 'none';\n",
              "\n",
              "      buttonEl.onclick = () => {\n",
              "        google.colab.notebook.generateWithVariable('train');\n",
              "      }\n",
              "      })();\n",
              "    </script>\n",
              "  </div>\n",
              "\n",
              "    </div>\n",
              "  </div>\n"
            ],
            "application/vnd.google.colaboratory.intrinsic+json": {
              "type": "dataframe",
              "variable_name": "train",
              "summary": "{\n  \"name\": \"train\",\n  \"rows\": 11118,\n  \"fields\": [\n    {\n      \"column\": \"dialog\",\n      \"properties\": {\n        \"dtype\": \"string\",\n        \"num_unique_values\": 10549,\n        \"samples\": [\n          \"[\\\"How's your brother doing ? \\\"\\n \\\" As a matter of fact , he hasn't been feeling too well . \\\"\\n \\\" I'm sorry to hear that . What's the matter ? \\\"\\n \\\" Tell him I hope he's better soon . \\\"\\n \\\" I'll tell him . Thanks for asking about him . \\\"]\",\n          \"[\\\"just don't understand why we have to take the subway . Look at this place . It's modern enough . But it's far from lively . \\\"\\n \\\" It's convenient . People in network go everywhere by subway if they don't drive . \\\"\\n \\\" This isn't network , Frida . We are in San Francisco . \\\"\\n \\\" What's the difference ? \\\"\\n \\\" We haven't come here in business but for pleasure . We should go out exciting . What can you see in the subway ? Nothing ! \\\"\\n ' What can you see from a tram or a double-decker ? '\\n ' I can see people who are walking on the sidewalk . I can see cars driving on the streets . I can see the sun shining and beautiful flowers dancing in the wind . I can even smell the scent of flowers and the freshness of the air . '\\n ' But they are not as convenient as the subway . '\\n ' You miss the point ! We are not in a hurry to go anywhere . '\\n \\\" Well , maybe you are right . We'll be more amused in a tram or a double-decker than on the subway . \\\"\\n \\\" I'm so glad you can finally see things in my way . Can we leave this dull place now ? \\\"\\n \\\" What about the tickets ? I've already bought them . \\\"\\n ' Just throw them away ! ']\",\n          \"['Good evening , sir . What can I do for you ? '\\n ' We are going to have a party tonight , would you please look after our baby tonight ? '\\n ' Well , we have baby-sitting service . We will take good care of your baby . '\\n \\\" That's good . \\\" ' Please fill out the table . ']\"\n        ],\n        \"semantic_type\": \"\",\n        \"description\": \"\"\n      }\n    },\n    {\n      \"column\": \"act\",\n      \"properties\": {\n        \"dtype\": \"category\",\n        \"num_unique_values\": 5005,\n        \"samples\": [\n          \"[3 4 2 3 2 2 1 2 1 2 1]\",\n          \"[3 3 2 1 4 2 1 2 1 2 1 2 1 2 1 2 1 3]\",\n          \"[3 2 3 2 1 3 3 4]\"\n        ],\n        \"semantic_type\": \"\",\n        \"description\": \"\"\n      }\n    },\n    {\n      \"column\": \"emotion\",\n      \"properties\": {\n        \"dtype\": \"category\",\n        \"num_unique_values\": 2453,\n        \"samples\": [\n          \"[0 0 0 0 0 5 0 0 0]\",\n          \"[1 0 0]\",\n          \"[4 4 4 4 4 4 4 0 0 0 0 0]\"\n        ],\n        \"semantic_type\": \"\",\n        \"description\": \"\"\n      }\n    }\n  ]\n}"
            }
          },
          "metadata": {},
          "execution_count": 224
        }
      ]
    },
    {
      "cell_type": "code",
      "source": [
        "validation"
      ],
      "metadata": {
        "colab": {
          "base_uri": "https://localhost:8080/",
          "height": 424
        },
        "id": "hAacMlscvre9",
        "outputId": "02958b80-53c5-4fdf-9055-20f0e86f957f"
      },
      "id": "hAacMlscvre9",
      "execution_count": null,
      "outputs": [
        {
          "output_type": "execute_result",
          "data": {
            "text/plain": [
              "                                                dialog  \\\n",
              "0    ['Good morning , sir . Is there a bank near he...   \n",
              "1    ['Good afternoon . This is Michelle Li speakin...   \n",
              "2    ['What qualifications should a reporter have ?...   \n",
              "3    ['Hi , good morning , Miss ? what can I help y...   \n",
              "4    [\"Excuse me , ma'am . Can you tell me where th...   \n",
              "..                                                 ...   \n",
              "995  ['Hello , who is speaking ? '\\n ' Hello , this...   \n",
              "996  ['Ahh ... What a fine day ! I do feel like an ...   \n",
              "997  [\"I'm so sorry about your brother , Mr . Wang ...   \n",
              "998  ['Hi , Jeny.Are still working ? '\\n \" Hi , Nac...   \n",
              "999  ['Welcome , sir . What can I do for you ? '\\n ...   \n",
              "\n",
              "                                   act                            emotion  \n",
              "0                      [2 1 3 2 1 2 1]                    [0 0 0 0 0 0 0]  \n",
              "1                [2 1 1 1 1 2 3 2 3 4]              [0 0 0 0 0 0 0 0 0 0]  \n",
              "2                            [2 1 2 1]                          [0 0 0 0]  \n",
              "3    [2 3 2 2 1 2 1 2 1 1 1 3 2 1 3 4]  [0 0 0 0 0 0 0 0 0 0 0 0 0 0 0 4]  \n",
              "4                    [3 4 2 1 2 1 1 1]                  [0 0 0 0 0 0 4 4]  \n",
              "..                                 ...                                ...  \n",
              "995              [2 3 4 3 2 3 4 3 4 1]              [0 0 0 0 6 0 0 0 4 0]  \n",
              "996                    [1 3 4 1 2 1 1]                    [4 0 4 4 0 0 0]  \n",
              "997                            [1 1 1]                            [5 4 0]  \n",
              "998              [2 3 2 1 1 2 3 4 1 1]              [0 0 0 0 0 0 0 0 0 0]  \n",
              "999              [2 3 4 2 1 2 1 2 1 1]              [0 4 0 0 0 0 0 0 0 0]  \n",
              "\n",
              "[1000 rows x 3 columns]"
            ],
            "text/html": [
              "\n",
              "  <div id=\"df-39b0aa33-2421-47d7-b76a-3e25f4d88171\" class=\"colab-df-container\">\n",
              "    <div>\n",
              "<style scoped>\n",
              "    .dataframe tbody tr th:only-of-type {\n",
              "        vertical-align: middle;\n",
              "    }\n",
              "\n",
              "    .dataframe tbody tr th {\n",
              "        vertical-align: top;\n",
              "    }\n",
              "\n",
              "    .dataframe thead th {\n",
              "        text-align: right;\n",
              "    }\n",
              "</style>\n",
              "<table border=\"1\" class=\"dataframe\">\n",
              "  <thead>\n",
              "    <tr style=\"text-align: right;\">\n",
              "      <th></th>\n",
              "      <th>dialog</th>\n",
              "      <th>act</th>\n",
              "      <th>emotion</th>\n",
              "    </tr>\n",
              "  </thead>\n",
              "  <tbody>\n",
              "    <tr>\n",
              "      <th>0</th>\n",
              "      <td>['Good morning , sir . Is there a bank near he...</td>\n",
              "      <td>[2 1 3 2 1 2 1]</td>\n",
              "      <td>[0 0 0 0 0 0 0]</td>\n",
              "    </tr>\n",
              "    <tr>\n",
              "      <th>1</th>\n",
              "      <td>['Good afternoon . This is Michelle Li speakin...</td>\n",
              "      <td>[2 1 1 1 1 2 3 2 3 4]</td>\n",
              "      <td>[0 0 0 0 0 0 0 0 0 0]</td>\n",
              "    </tr>\n",
              "    <tr>\n",
              "      <th>2</th>\n",
              "      <td>['What qualifications should a reporter have ?...</td>\n",
              "      <td>[2 1 2 1]</td>\n",
              "      <td>[0 0 0 0]</td>\n",
              "    </tr>\n",
              "    <tr>\n",
              "      <th>3</th>\n",
              "      <td>['Hi , good morning , Miss ? what can I help y...</td>\n",
              "      <td>[2 3 2 2 1 2 1 2 1 1 1 3 2 1 3 4]</td>\n",
              "      <td>[0 0 0 0 0 0 0 0 0 0 0 0 0 0 0 4]</td>\n",
              "    </tr>\n",
              "    <tr>\n",
              "      <th>4</th>\n",
              "      <td>[\"Excuse me , ma'am . Can you tell me where th...</td>\n",
              "      <td>[3 4 2 1 2 1 1 1]</td>\n",
              "      <td>[0 0 0 0 0 0 4 4]</td>\n",
              "    </tr>\n",
              "    <tr>\n",
              "      <th>...</th>\n",
              "      <td>...</td>\n",
              "      <td>...</td>\n",
              "      <td>...</td>\n",
              "    </tr>\n",
              "    <tr>\n",
              "      <th>995</th>\n",
              "      <td>['Hello , who is speaking ? '\\n ' Hello , this...</td>\n",
              "      <td>[2 3 4 3 2 3 4 3 4 1]</td>\n",
              "      <td>[0 0 0 0 6 0 0 0 4 0]</td>\n",
              "    </tr>\n",
              "    <tr>\n",
              "      <th>996</th>\n",
              "      <td>['Ahh ... What a fine day ! I do feel like an ...</td>\n",
              "      <td>[1 3 4 1 2 1 1]</td>\n",
              "      <td>[4 0 4 4 0 0 0]</td>\n",
              "    </tr>\n",
              "    <tr>\n",
              "      <th>997</th>\n",
              "      <td>[\"I'm so sorry about your brother , Mr . Wang ...</td>\n",
              "      <td>[1 1 1]</td>\n",
              "      <td>[5 4 0]</td>\n",
              "    </tr>\n",
              "    <tr>\n",
              "      <th>998</th>\n",
              "      <td>['Hi , Jeny.Are still working ? '\\n \" Hi , Nac...</td>\n",
              "      <td>[2 3 2 1 1 2 3 4 1 1]</td>\n",
              "      <td>[0 0 0 0 0 0 0 0 0 0]</td>\n",
              "    </tr>\n",
              "    <tr>\n",
              "      <th>999</th>\n",
              "      <td>['Welcome , sir . What can I do for you ? '\\n ...</td>\n",
              "      <td>[2 3 4 2 1 2 1 2 1 1]</td>\n",
              "      <td>[0 4 0 0 0 0 0 0 0 0]</td>\n",
              "    </tr>\n",
              "  </tbody>\n",
              "</table>\n",
              "<p>1000 rows × 3 columns</p>\n",
              "</div>\n",
              "    <div class=\"colab-df-buttons\">\n",
              "\n",
              "  <div class=\"colab-df-container\">\n",
              "    <button class=\"colab-df-convert\" onclick=\"convertToInteractive('df-39b0aa33-2421-47d7-b76a-3e25f4d88171')\"\n",
              "            title=\"Convert this dataframe to an interactive table.\"\n",
              "            style=\"display:none;\">\n",
              "\n",
              "  <svg xmlns=\"http://www.w3.org/2000/svg\" height=\"24px\" viewBox=\"0 -960 960 960\">\n",
              "    <path d=\"M120-120v-720h720v720H120Zm60-500h600v-160H180v160Zm220 220h160v-160H400v160Zm0 220h160v-160H400v160ZM180-400h160v-160H180v160Zm440 0h160v-160H620v160ZM180-180h160v-160H180v160Zm440 0h160v-160H620v160Z\"/>\n",
              "  </svg>\n",
              "    </button>\n",
              "\n",
              "  <style>\n",
              "    .colab-df-container {\n",
              "      display:flex;\n",
              "      gap: 12px;\n",
              "    }\n",
              "\n",
              "    .colab-df-convert {\n",
              "      background-color: #E8F0FE;\n",
              "      border: none;\n",
              "      border-radius: 50%;\n",
              "      cursor: pointer;\n",
              "      display: none;\n",
              "      fill: #1967D2;\n",
              "      height: 32px;\n",
              "      padding: 0 0 0 0;\n",
              "      width: 32px;\n",
              "    }\n",
              "\n",
              "    .colab-df-convert:hover {\n",
              "      background-color: #E2EBFA;\n",
              "      box-shadow: 0px 1px 2px rgba(60, 64, 67, 0.3), 0px 1px 3px 1px rgba(60, 64, 67, 0.15);\n",
              "      fill: #174EA6;\n",
              "    }\n",
              "\n",
              "    .colab-df-buttons div {\n",
              "      margin-bottom: 4px;\n",
              "    }\n",
              "\n",
              "    [theme=dark] .colab-df-convert {\n",
              "      background-color: #3B4455;\n",
              "      fill: #D2E3FC;\n",
              "    }\n",
              "\n",
              "    [theme=dark] .colab-df-convert:hover {\n",
              "      background-color: #434B5C;\n",
              "      box-shadow: 0px 1px 3px 1px rgba(0, 0, 0, 0.15);\n",
              "      filter: drop-shadow(0px 1px 2px rgba(0, 0, 0, 0.3));\n",
              "      fill: #FFFFFF;\n",
              "    }\n",
              "  </style>\n",
              "\n",
              "    <script>\n",
              "      const buttonEl =\n",
              "        document.querySelector('#df-39b0aa33-2421-47d7-b76a-3e25f4d88171 button.colab-df-convert');\n",
              "      buttonEl.style.display =\n",
              "        google.colab.kernel.accessAllowed ? 'block' : 'none';\n",
              "\n",
              "      async function convertToInteractive(key) {\n",
              "        const element = document.querySelector('#df-39b0aa33-2421-47d7-b76a-3e25f4d88171');\n",
              "        const dataTable =\n",
              "          await google.colab.kernel.invokeFunction('convertToInteractive',\n",
              "                                                    [key], {});\n",
              "        if (!dataTable) return;\n",
              "\n",
              "        const docLinkHtml = 'Like what you see? Visit the ' +\n",
              "          '<a target=\"_blank\" href=https://colab.research.google.com/notebooks/data_table.ipynb>data table notebook</a>'\n",
              "          + ' to learn more about interactive tables.';\n",
              "        element.innerHTML = '';\n",
              "        dataTable['output_type'] = 'display_data';\n",
              "        await google.colab.output.renderOutput(dataTable, element);\n",
              "        const docLink = document.createElement('div');\n",
              "        docLink.innerHTML = docLinkHtml;\n",
              "        element.appendChild(docLink);\n",
              "      }\n",
              "    </script>\n",
              "  </div>\n",
              "\n",
              "\n",
              "    <div id=\"df-48b386cb-4ab3-45c9-aa2c-07106c9ea132\">\n",
              "      <button class=\"colab-df-quickchart\" onclick=\"quickchart('df-48b386cb-4ab3-45c9-aa2c-07106c9ea132')\"\n",
              "                title=\"Suggest charts\"\n",
              "                style=\"display:none;\">\n",
              "\n",
              "<svg xmlns=\"http://www.w3.org/2000/svg\" height=\"24px\"viewBox=\"0 0 24 24\"\n",
              "     width=\"24px\">\n",
              "    <g>\n",
              "        <path d=\"M19 3H5c-1.1 0-2 .9-2 2v14c0 1.1.9 2 2 2h14c1.1 0 2-.9 2-2V5c0-1.1-.9-2-2-2zM9 17H7v-7h2v7zm4 0h-2V7h2v10zm4 0h-2v-4h2v4z\"/>\n",
              "    </g>\n",
              "</svg>\n",
              "      </button>\n",
              "\n",
              "<style>\n",
              "  .colab-df-quickchart {\n",
              "      --bg-color: #E8F0FE;\n",
              "      --fill-color: #1967D2;\n",
              "      --hover-bg-color: #E2EBFA;\n",
              "      --hover-fill-color: #174EA6;\n",
              "      --disabled-fill-color: #AAA;\n",
              "      --disabled-bg-color: #DDD;\n",
              "  }\n",
              "\n",
              "  [theme=dark] .colab-df-quickchart {\n",
              "      --bg-color: #3B4455;\n",
              "      --fill-color: #D2E3FC;\n",
              "      --hover-bg-color: #434B5C;\n",
              "      --hover-fill-color: #FFFFFF;\n",
              "      --disabled-bg-color: #3B4455;\n",
              "      --disabled-fill-color: #666;\n",
              "  }\n",
              "\n",
              "  .colab-df-quickchart {\n",
              "    background-color: var(--bg-color);\n",
              "    border: none;\n",
              "    border-radius: 50%;\n",
              "    cursor: pointer;\n",
              "    display: none;\n",
              "    fill: var(--fill-color);\n",
              "    height: 32px;\n",
              "    padding: 0;\n",
              "    width: 32px;\n",
              "  }\n",
              "\n",
              "  .colab-df-quickchart:hover {\n",
              "    background-color: var(--hover-bg-color);\n",
              "    box-shadow: 0 1px 2px rgba(60, 64, 67, 0.3), 0 1px 3px 1px rgba(60, 64, 67, 0.15);\n",
              "    fill: var(--button-hover-fill-color);\n",
              "  }\n",
              "\n",
              "  .colab-df-quickchart-complete:disabled,\n",
              "  .colab-df-quickchart-complete:disabled:hover {\n",
              "    background-color: var(--disabled-bg-color);\n",
              "    fill: var(--disabled-fill-color);\n",
              "    box-shadow: none;\n",
              "  }\n",
              "\n",
              "  .colab-df-spinner {\n",
              "    border: 2px solid var(--fill-color);\n",
              "    border-color: transparent;\n",
              "    border-bottom-color: var(--fill-color);\n",
              "    animation:\n",
              "      spin 1s steps(1) infinite;\n",
              "  }\n",
              "\n",
              "  @keyframes spin {\n",
              "    0% {\n",
              "      border-color: transparent;\n",
              "      border-bottom-color: var(--fill-color);\n",
              "      border-left-color: var(--fill-color);\n",
              "    }\n",
              "    20% {\n",
              "      border-color: transparent;\n",
              "      border-left-color: var(--fill-color);\n",
              "      border-top-color: var(--fill-color);\n",
              "    }\n",
              "    30% {\n",
              "      border-color: transparent;\n",
              "      border-left-color: var(--fill-color);\n",
              "      border-top-color: var(--fill-color);\n",
              "      border-right-color: var(--fill-color);\n",
              "    }\n",
              "    40% {\n",
              "      border-color: transparent;\n",
              "      border-right-color: var(--fill-color);\n",
              "      border-top-color: var(--fill-color);\n",
              "    }\n",
              "    60% {\n",
              "      border-color: transparent;\n",
              "      border-right-color: var(--fill-color);\n",
              "    }\n",
              "    80% {\n",
              "      border-color: transparent;\n",
              "      border-right-color: var(--fill-color);\n",
              "      border-bottom-color: var(--fill-color);\n",
              "    }\n",
              "    90% {\n",
              "      border-color: transparent;\n",
              "      border-bottom-color: var(--fill-color);\n",
              "    }\n",
              "  }\n",
              "</style>\n",
              "\n",
              "      <script>\n",
              "        async function quickchart(key) {\n",
              "          const quickchartButtonEl =\n",
              "            document.querySelector('#' + key + ' button');\n",
              "          quickchartButtonEl.disabled = true;  // To prevent multiple clicks.\n",
              "          quickchartButtonEl.classList.add('colab-df-spinner');\n",
              "          try {\n",
              "            const charts = await google.colab.kernel.invokeFunction(\n",
              "                'suggestCharts', [key], {});\n",
              "          } catch (error) {\n",
              "            console.error('Error during call to suggestCharts:', error);\n",
              "          }\n",
              "          quickchartButtonEl.classList.remove('colab-df-spinner');\n",
              "          quickchartButtonEl.classList.add('colab-df-quickchart-complete');\n",
              "        }\n",
              "        (() => {\n",
              "          let quickchartButtonEl =\n",
              "            document.querySelector('#df-48b386cb-4ab3-45c9-aa2c-07106c9ea132 button');\n",
              "          quickchartButtonEl.style.display =\n",
              "            google.colab.kernel.accessAllowed ? 'block' : 'none';\n",
              "        })();\n",
              "      </script>\n",
              "    </div>\n",
              "\n",
              "  <div id=\"id_7a760087-cf7b-4344-b555-138f25b31557\">\n",
              "    <style>\n",
              "      .colab-df-generate {\n",
              "        background-color: #E8F0FE;\n",
              "        border: none;\n",
              "        border-radius: 50%;\n",
              "        cursor: pointer;\n",
              "        display: none;\n",
              "        fill: #1967D2;\n",
              "        height: 32px;\n",
              "        padding: 0 0 0 0;\n",
              "        width: 32px;\n",
              "      }\n",
              "\n",
              "      .colab-df-generate:hover {\n",
              "        background-color: #E2EBFA;\n",
              "        box-shadow: 0px 1px 2px rgba(60, 64, 67, 0.3), 0px 1px 3px 1px rgba(60, 64, 67, 0.15);\n",
              "        fill: #174EA6;\n",
              "      }\n",
              "\n",
              "      [theme=dark] .colab-df-generate {\n",
              "        background-color: #3B4455;\n",
              "        fill: #D2E3FC;\n",
              "      }\n",
              "\n",
              "      [theme=dark] .colab-df-generate:hover {\n",
              "        background-color: #434B5C;\n",
              "        box-shadow: 0px 1px 3px 1px rgba(0, 0, 0, 0.15);\n",
              "        filter: drop-shadow(0px 1px 2px rgba(0, 0, 0, 0.3));\n",
              "        fill: #FFFFFF;\n",
              "      }\n",
              "    </style>\n",
              "    <button class=\"colab-df-generate\" onclick=\"generateWithVariable('validation')\"\n",
              "            title=\"Generate code using this dataframe.\"\n",
              "            style=\"display:none;\">\n",
              "\n",
              "  <svg xmlns=\"http://www.w3.org/2000/svg\" height=\"24px\"viewBox=\"0 0 24 24\"\n",
              "       width=\"24px\">\n",
              "    <path d=\"M7,19H8.4L18.45,9,17,7.55,7,17.6ZM5,21V16.75L18.45,3.32a2,2,0,0,1,2.83,0l1.4,1.43a1.91,1.91,0,0,1,.58,1.4,1.91,1.91,0,0,1-.58,1.4L9.25,21ZM18.45,9,17,7.55Zm-12,3A5.31,5.31,0,0,0,4.9,8.1,5.31,5.31,0,0,0,1,6.5,5.31,5.31,0,0,0,4.9,4.9,5.31,5.31,0,0,0,6.5,1,5.31,5.31,0,0,0,8.1,4.9,5.31,5.31,0,0,0,12,6.5,5.46,5.46,0,0,0,6.5,12Z\"/>\n",
              "  </svg>\n",
              "    </button>\n",
              "    <script>\n",
              "      (() => {\n",
              "      const buttonEl =\n",
              "        document.querySelector('#id_7a760087-cf7b-4344-b555-138f25b31557 button.colab-df-generate');\n",
              "      buttonEl.style.display =\n",
              "        google.colab.kernel.accessAllowed ? 'block' : 'none';\n",
              "\n",
              "      buttonEl.onclick = () => {\n",
              "        google.colab.notebook.generateWithVariable('validation');\n",
              "      }\n",
              "      })();\n",
              "    </script>\n",
              "  </div>\n",
              "\n",
              "    </div>\n",
              "  </div>\n"
            ],
            "application/vnd.google.colaboratory.intrinsic+json": {
              "type": "dataframe",
              "variable_name": "validation",
              "summary": "{\n  \"name\": \"validation\",\n  \"rows\": 1000,\n  \"fields\": [\n    {\n      \"column\": \"dialog\",\n      \"properties\": {\n        \"dtype\": \"string\",\n        \"num_unique_values\": 995,\n        \"samples\": [\n          \"[\\\"They're here ! Now that's speedy service ! And they arrived within two days of each other ! \\\"\\n ' What are you waiting for ? Rip \\u2018 em open ! '\\n ' Wow ... this shirt is nice , but looks big . '\\n \\\" It's nice , but how much did you end up paying ? \\\"\\n ' With the shipping included--seventy dollars . '\\n ' Hmm ... not so hot . They sell them here for about that . ']\",\n          \"['Do you live in the red house at the end of the road ? '\\n ' Yes , I live in that house with my parents and my sister . '\\n ' We also have a cat and a dog . '\\n ' Do you take your dog for a walk every day ? '\\n ' No . My father takes the dog for a walk every Monday , Tuesday and Sunday . '\\n ' And I take the dog for a walk every Wednesday , Thursday and Friday . '\\n ' Who takes the dog on Saturday ? '\\n ' On Saturday we all go to the park and the dog comes with us . '\\n ' Do you help with the housework ? '\\n ' My mum and my sister do the housework and cooking but I clean my room . ']\",\n          \"['Hello . This is Dr . Galas Office . Can I help you ? '\\n ' Yes . I \\u2019 d like to make an appointment with Dr . Galas . Could you arrange it for me ? '\\n ' Sure . Let me check his schedule . How about tomorrow afternoon at 2:30 ? '\\n ' I \\u2019 m not available tomorrow afternoon . How about tomorrow morning ? '\\n ' I \\u2019 m sorry . Dr . Galas is fully engaged tomorrow morning . How about the day after tomorrow at 9:30 in the morning ? '\\n ' That \\u2019 s fine . Thanks . '\\n ' You \\u2019 re welcome . Could I have your name and phone number , please ? '\\n ' Certainly . My name is Janet Smith , and my phone number is 610-555-1234 . '\\n ' Very good , Ms . Smith . I have scheduled an appointment for you on Wednesday at 9:30 am . '\\n ' Thank you very much . ' ' You \\u2019 re welcome . ']\"\n        ],\n        \"semantic_type\": \"\",\n        \"description\": \"\"\n      }\n    },\n    {\n      \"column\": \"act\",\n      \"properties\": {\n        \"dtype\": \"string\",\n        \"num_unique_values\": 770,\n        \"samples\": [\n          \"[2 3 2 3 4 3 4 1 3 4 1 2 3]\",\n          \"[1 2 1 2 2 1 3 4]\",\n          \"[3 3 3 1 2 2 3 4 3 4 1]\"\n        ],\n        \"semantic_type\": \"\",\n        \"description\": \"\"\n      }\n    },\n    {\n      \"column\": \"emotion\",\n      \"properties\": {\n        \"dtype\": \"category\",\n        \"num_unique_values\": 349,\n        \"samples\": [\n          \"[0 0 6 0 0 0 0 6 0 0 0 0 0 0]\",\n          \"[0 6 4 0 4 0 0 0 0 0]\",\n          \"[0 0 0 0 0 0 0 4 0 0 0 0 0 0 0 0 0 0]\"\n        ],\n        \"semantic_type\": \"\",\n        \"description\": \"\"\n      }\n    }\n  ]\n}"
            }
          },
          "metadata": {},
          "execution_count": 225
        }
      ]
    },
    {
      "cell_type": "code",
      "source": [
        "test"
      ],
      "metadata": {
        "colab": {
          "base_uri": "https://localhost:8080/",
          "height": 424
        },
        "id": "5I4YRTeBvsQr",
        "outputId": "2b718bc7-35b8-4704-da63-c9669bf4ab52"
      },
      "id": "5I4YRTeBvsQr",
      "execution_count": null,
      "outputs": [
        {
          "output_type": "execute_result",
          "data": {
            "text/plain": [
              "                                                dialog  \\\n",
              "0    ['Hey man , you wanna buy some weed ? ' ' Some...   \n",
              "1    ['The taxi drivers are on strike again . ' ' W...   \n",
              "2    [\"We've managed to reduce our energy consumpti...   \n",
              "3    ['Believe it or not , tea is the most popular ...   \n",
              "4    ['What are your personal weaknesses ? '\\n ' I ...   \n",
              "..                                                 ...   \n",
              "995  ['Frank ’ s getting married , do you believe t...   \n",
              "996  ['OK . Come back into the classroom , class . ...   \n",
              "997  ['Do you have any hobbies ? ' ' Yes , I like c...   \n",
              "998  [\"Jenny , what's wrong with you ? Why do you k...   \n",
              "999  ['What a nice day ! '\\n ' yes . How about goin...   \n",
              "\n",
              "                               act                        emotion  \n",
              "0        [3 2 3 4 3 4 3 2 3 4 2 3]      [0 6 0 0 0 0 0 0 0 0 3 0]  \n",
              "1                        [1 2 1 1]                      [0 0 0 0]  \n",
              "2                  [1 2 1 2 1 2 1]                [0 0 0 0 0 0 0]  \n",
              "3    [1 1 1 1 2 2 2 2 1 1 1 3 4 3]  [0 0 0 0 0 0 0 0 0 4 0 0 4 4]  \n",
              "4                [2 1 2 1 2 1 2 1]              [0 0 0 0 0 0 0 4]  \n",
              "..                             ...                            ...  \n",
              "995                [2 2 1 2 1 2 1]                [0 6 0 0 0 0 0]  \n",
              "996                [1 2 1 1 1 2 1]                [0 0 0 5 0 0 0]  \n",
              "997                [2 1 2 1 2 1 1]                [0 4 4 0 6 0 0]  \n",
              "998                        [2 1 1]                        [0 0 0]  \n",
              "999      [1 3 4 1 1 1 3 2 3 4 1 1]      [4 0 4 4 4 0 0 6 0 0 4 4]  \n",
              "\n",
              "[1000 rows x 3 columns]"
            ],
            "text/html": [
              "\n",
              "  <div id=\"df-e2b6c473-c77f-442a-b557-a72d513e239f\" class=\"colab-df-container\">\n",
              "    <div>\n",
              "<style scoped>\n",
              "    .dataframe tbody tr th:only-of-type {\n",
              "        vertical-align: middle;\n",
              "    }\n",
              "\n",
              "    .dataframe tbody tr th {\n",
              "        vertical-align: top;\n",
              "    }\n",
              "\n",
              "    .dataframe thead th {\n",
              "        text-align: right;\n",
              "    }\n",
              "</style>\n",
              "<table border=\"1\" class=\"dataframe\">\n",
              "  <thead>\n",
              "    <tr style=\"text-align: right;\">\n",
              "      <th></th>\n",
              "      <th>dialog</th>\n",
              "      <th>act</th>\n",
              "      <th>emotion</th>\n",
              "    </tr>\n",
              "  </thead>\n",
              "  <tbody>\n",
              "    <tr>\n",
              "      <th>0</th>\n",
              "      <td>['Hey man , you wanna buy some weed ? ' ' Some...</td>\n",
              "      <td>[3 2 3 4 3 4 3 2 3 4 2 3]</td>\n",
              "      <td>[0 6 0 0 0 0 0 0 0 0 3 0]</td>\n",
              "    </tr>\n",
              "    <tr>\n",
              "      <th>1</th>\n",
              "      <td>['The taxi drivers are on strike again . ' ' W...</td>\n",
              "      <td>[1 2 1 1]</td>\n",
              "      <td>[0 0 0 0]</td>\n",
              "    </tr>\n",
              "    <tr>\n",
              "      <th>2</th>\n",
              "      <td>[\"We've managed to reduce our energy consumpti...</td>\n",
              "      <td>[1 2 1 2 1 2 1]</td>\n",
              "      <td>[0 0 0 0 0 0 0]</td>\n",
              "    </tr>\n",
              "    <tr>\n",
              "      <th>3</th>\n",
              "      <td>['Believe it or not , tea is the most popular ...</td>\n",
              "      <td>[1 1 1 1 2 2 2 2 1 1 1 3 4 3]</td>\n",
              "      <td>[0 0 0 0 0 0 0 0 0 4 0 0 4 4]</td>\n",
              "    </tr>\n",
              "    <tr>\n",
              "      <th>4</th>\n",
              "      <td>['What are your personal weaknesses ? '\\n ' I ...</td>\n",
              "      <td>[2 1 2 1 2 1 2 1]</td>\n",
              "      <td>[0 0 0 0 0 0 0 4]</td>\n",
              "    </tr>\n",
              "    <tr>\n",
              "      <th>...</th>\n",
              "      <td>...</td>\n",
              "      <td>...</td>\n",
              "      <td>...</td>\n",
              "    </tr>\n",
              "    <tr>\n",
              "      <th>995</th>\n",
              "      <td>['Frank ’ s getting married , do you believe t...</td>\n",
              "      <td>[2 2 1 2 1 2 1]</td>\n",
              "      <td>[0 6 0 0 0 0 0]</td>\n",
              "    </tr>\n",
              "    <tr>\n",
              "      <th>996</th>\n",
              "      <td>['OK . Come back into the classroom , class . ...</td>\n",
              "      <td>[1 2 1 1 1 2 1]</td>\n",
              "      <td>[0 0 0 5 0 0 0]</td>\n",
              "    </tr>\n",
              "    <tr>\n",
              "      <th>997</th>\n",
              "      <td>['Do you have any hobbies ? ' ' Yes , I like c...</td>\n",
              "      <td>[2 1 2 1 2 1 1]</td>\n",
              "      <td>[0 4 4 0 6 0 0]</td>\n",
              "    </tr>\n",
              "    <tr>\n",
              "      <th>998</th>\n",
              "      <td>[\"Jenny , what's wrong with you ? Why do you k...</td>\n",
              "      <td>[2 1 1]</td>\n",
              "      <td>[0 0 0]</td>\n",
              "    </tr>\n",
              "    <tr>\n",
              "      <th>999</th>\n",
              "      <td>['What a nice day ! '\\n ' yes . How about goin...</td>\n",
              "      <td>[1 3 4 1 1 1 3 2 3 4 1 1]</td>\n",
              "      <td>[4 0 4 4 4 0 0 6 0 0 4 4]</td>\n",
              "    </tr>\n",
              "  </tbody>\n",
              "</table>\n",
              "<p>1000 rows × 3 columns</p>\n",
              "</div>\n",
              "    <div class=\"colab-df-buttons\">\n",
              "\n",
              "  <div class=\"colab-df-container\">\n",
              "    <button class=\"colab-df-convert\" onclick=\"convertToInteractive('df-e2b6c473-c77f-442a-b557-a72d513e239f')\"\n",
              "            title=\"Convert this dataframe to an interactive table.\"\n",
              "            style=\"display:none;\">\n",
              "\n",
              "  <svg xmlns=\"http://www.w3.org/2000/svg\" height=\"24px\" viewBox=\"0 -960 960 960\">\n",
              "    <path d=\"M120-120v-720h720v720H120Zm60-500h600v-160H180v160Zm220 220h160v-160H400v160Zm0 220h160v-160H400v160ZM180-400h160v-160H180v160Zm440 0h160v-160H620v160ZM180-180h160v-160H180v160Zm440 0h160v-160H620v160Z\"/>\n",
              "  </svg>\n",
              "    </button>\n",
              "\n",
              "  <style>\n",
              "    .colab-df-container {\n",
              "      display:flex;\n",
              "      gap: 12px;\n",
              "    }\n",
              "\n",
              "    .colab-df-convert {\n",
              "      background-color: #E8F0FE;\n",
              "      border: none;\n",
              "      border-radius: 50%;\n",
              "      cursor: pointer;\n",
              "      display: none;\n",
              "      fill: #1967D2;\n",
              "      height: 32px;\n",
              "      padding: 0 0 0 0;\n",
              "      width: 32px;\n",
              "    }\n",
              "\n",
              "    .colab-df-convert:hover {\n",
              "      background-color: #E2EBFA;\n",
              "      box-shadow: 0px 1px 2px rgba(60, 64, 67, 0.3), 0px 1px 3px 1px rgba(60, 64, 67, 0.15);\n",
              "      fill: #174EA6;\n",
              "    }\n",
              "\n",
              "    .colab-df-buttons div {\n",
              "      margin-bottom: 4px;\n",
              "    }\n",
              "\n",
              "    [theme=dark] .colab-df-convert {\n",
              "      background-color: #3B4455;\n",
              "      fill: #D2E3FC;\n",
              "    }\n",
              "\n",
              "    [theme=dark] .colab-df-convert:hover {\n",
              "      background-color: #434B5C;\n",
              "      box-shadow: 0px 1px 3px 1px rgba(0, 0, 0, 0.15);\n",
              "      filter: drop-shadow(0px 1px 2px rgba(0, 0, 0, 0.3));\n",
              "      fill: #FFFFFF;\n",
              "    }\n",
              "  </style>\n",
              "\n",
              "    <script>\n",
              "      const buttonEl =\n",
              "        document.querySelector('#df-e2b6c473-c77f-442a-b557-a72d513e239f button.colab-df-convert');\n",
              "      buttonEl.style.display =\n",
              "        google.colab.kernel.accessAllowed ? 'block' : 'none';\n",
              "\n",
              "      async function convertToInteractive(key) {\n",
              "        const element = document.querySelector('#df-e2b6c473-c77f-442a-b557-a72d513e239f');\n",
              "        const dataTable =\n",
              "          await google.colab.kernel.invokeFunction('convertToInteractive',\n",
              "                                                    [key], {});\n",
              "        if (!dataTable) return;\n",
              "\n",
              "        const docLinkHtml = 'Like what you see? Visit the ' +\n",
              "          '<a target=\"_blank\" href=https://colab.research.google.com/notebooks/data_table.ipynb>data table notebook</a>'\n",
              "          + ' to learn more about interactive tables.';\n",
              "        element.innerHTML = '';\n",
              "        dataTable['output_type'] = 'display_data';\n",
              "        await google.colab.output.renderOutput(dataTable, element);\n",
              "        const docLink = document.createElement('div');\n",
              "        docLink.innerHTML = docLinkHtml;\n",
              "        element.appendChild(docLink);\n",
              "      }\n",
              "    </script>\n",
              "  </div>\n",
              "\n",
              "\n",
              "    <div id=\"df-52a1a515-195d-406f-b65a-f11ae85976b7\">\n",
              "      <button class=\"colab-df-quickchart\" onclick=\"quickchart('df-52a1a515-195d-406f-b65a-f11ae85976b7')\"\n",
              "                title=\"Suggest charts\"\n",
              "                style=\"display:none;\">\n",
              "\n",
              "<svg xmlns=\"http://www.w3.org/2000/svg\" height=\"24px\"viewBox=\"0 0 24 24\"\n",
              "     width=\"24px\">\n",
              "    <g>\n",
              "        <path d=\"M19 3H5c-1.1 0-2 .9-2 2v14c0 1.1.9 2 2 2h14c1.1 0 2-.9 2-2V5c0-1.1-.9-2-2-2zM9 17H7v-7h2v7zm4 0h-2V7h2v10zm4 0h-2v-4h2v4z\"/>\n",
              "    </g>\n",
              "</svg>\n",
              "      </button>\n",
              "\n",
              "<style>\n",
              "  .colab-df-quickchart {\n",
              "      --bg-color: #E8F0FE;\n",
              "      --fill-color: #1967D2;\n",
              "      --hover-bg-color: #E2EBFA;\n",
              "      --hover-fill-color: #174EA6;\n",
              "      --disabled-fill-color: #AAA;\n",
              "      --disabled-bg-color: #DDD;\n",
              "  }\n",
              "\n",
              "  [theme=dark] .colab-df-quickchart {\n",
              "      --bg-color: #3B4455;\n",
              "      --fill-color: #D2E3FC;\n",
              "      --hover-bg-color: #434B5C;\n",
              "      --hover-fill-color: #FFFFFF;\n",
              "      --disabled-bg-color: #3B4455;\n",
              "      --disabled-fill-color: #666;\n",
              "  }\n",
              "\n",
              "  .colab-df-quickchart {\n",
              "    background-color: var(--bg-color);\n",
              "    border: none;\n",
              "    border-radius: 50%;\n",
              "    cursor: pointer;\n",
              "    display: none;\n",
              "    fill: var(--fill-color);\n",
              "    height: 32px;\n",
              "    padding: 0;\n",
              "    width: 32px;\n",
              "  }\n",
              "\n",
              "  .colab-df-quickchart:hover {\n",
              "    background-color: var(--hover-bg-color);\n",
              "    box-shadow: 0 1px 2px rgba(60, 64, 67, 0.3), 0 1px 3px 1px rgba(60, 64, 67, 0.15);\n",
              "    fill: var(--button-hover-fill-color);\n",
              "  }\n",
              "\n",
              "  .colab-df-quickchart-complete:disabled,\n",
              "  .colab-df-quickchart-complete:disabled:hover {\n",
              "    background-color: var(--disabled-bg-color);\n",
              "    fill: var(--disabled-fill-color);\n",
              "    box-shadow: none;\n",
              "  }\n",
              "\n",
              "  .colab-df-spinner {\n",
              "    border: 2px solid var(--fill-color);\n",
              "    border-color: transparent;\n",
              "    border-bottom-color: var(--fill-color);\n",
              "    animation:\n",
              "      spin 1s steps(1) infinite;\n",
              "  }\n",
              "\n",
              "  @keyframes spin {\n",
              "    0% {\n",
              "      border-color: transparent;\n",
              "      border-bottom-color: var(--fill-color);\n",
              "      border-left-color: var(--fill-color);\n",
              "    }\n",
              "    20% {\n",
              "      border-color: transparent;\n",
              "      border-left-color: var(--fill-color);\n",
              "      border-top-color: var(--fill-color);\n",
              "    }\n",
              "    30% {\n",
              "      border-color: transparent;\n",
              "      border-left-color: var(--fill-color);\n",
              "      border-top-color: var(--fill-color);\n",
              "      border-right-color: var(--fill-color);\n",
              "    }\n",
              "    40% {\n",
              "      border-color: transparent;\n",
              "      border-right-color: var(--fill-color);\n",
              "      border-top-color: var(--fill-color);\n",
              "    }\n",
              "    60% {\n",
              "      border-color: transparent;\n",
              "      border-right-color: var(--fill-color);\n",
              "    }\n",
              "    80% {\n",
              "      border-color: transparent;\n",
              "      border-right-color: var(--fill-color);\n",
              "      border-bottom-color: var(--fill-color);\n",
              "    }\n",
              "    90% {\n",
              "      border-color: transparent;\n",
              "      border-bottom-color: var(--fill-color);\n",
              "    }\n",
              "  }\n",
              "</style>\n",
              "\n",
              "      <script>\n",
              "        async function quickchart(key) {\n",
              "          const quickchartButtonEl =\n",
              "            document.querySelector('#' + key + ' button');\n",
              "          quickchartButtonEl.disabled = true;  // To prevent multiple clicks.\n",
              "          quickchartButtonEl.classList.add('colab-df-spinner');\n",
              "          try {\n",
              "            const charts = await google.colab.kernel.invokeFunction(\n",
              "                'suggestCharts', [key], {});\n",
              "          } catch (error) {\n",
              "            console.error('Error during call to suggestCharts:', error);\n",
              "          }\n",
              "          quickchartButtonEl.classList.remove('colab-df-spinner');\n",
              "          quickchartButtonEl.classList.add('colab-df-quickchart-complete');\n",
              "        }\n",
              "        (() => {\n",
              "          let quickchartButtonEl =\n",
              "            document.querySelector('#df-52a1a515-195d-406f-b65a-f11ae85976b7 button');\n",
              "          quickchartButtonEl.style.display =\n",
              "            google.colab.kernel.accessAllowed ? 'block' : 'none';\n",
              "        })();\n",
              "      </script>\n",
              "    </div>\n",
              "\n",
              "  <div id=\"id_d096ca20-b4d8-4902-a92d-d13c004433f6\">\n",
              "    <style>\n",
              "      .colab-df-generate {\n",
              "        background-color: #E8F0FE;\n",
              "        border: none;\n",
              "        border-radius: 50%;\n",
              "        cursor: pointer;\n",
              "        display: none;\n",
              "        fill: #1967D2;\n",
              "        height: 32px;\n",
              "        padding: 0 0 0 0;\n",
              "        width: 32px;\n",
              "      }\n",
              "\n",
              "      .colab-df-generate:hover {\n",
              "        background-color: #E2EBFA;\n",
              "        box-shadow: 0px 1px 2px rgba(60, 64, 67, 0.3), 0px 1px 3px 1px rgba(60, 64, 67, 0.15);\n",
              "        fill: #174EA6;\n",
              "      }\n",
              "\n",
              "      [theme=dark] .colab-df-generate {\n",
              "        background-color: #3B4455;\n",
              "        fill: #D2E3FC;\n",
              "      }\n",
              "\n",
              "      [theme=dark] .colab-df-generate:hover {\n",
              "        background-color: #434B5C;\n",
              "        box-shadow: 0px 1px 3px 1px rgba(0, 0, 0, 0.15);\n",
              "        filter: drop-shadow(0px 1px 2px rgba(0, 0, 0, 0.3));\n",
              "        fill: #FFFFFF;\n",
              "      }\n",
              "    </style>\n",
              "    <button class=\"colab-df-generate\" onclick=\"generateWithVariable('test')\"\n",
              "            title=\"Generate code using this dataframe.\"\n",
              "            style=\"display:none;\">\n",
              "\n",
              "  <svg xmlns=\"http://www.w3.org/2000/svg\" height=\"24px\"viewBox=\"0 0 24 24\"\n",
              "       width=\"24px\">\n",
              "    <path d=\"M7,19H8.4L18.45,9,17,7.55,7,17.6ZM5,21V16.75L18.45,3.32a2,2,0,0,1,2.83,0l1.4,1.43a1.91,1.91,0,0,1,.58,1.4,1.91,1.91,0,0,1-.58,1.4L9.25,21ZM18.45,9,17,7.55Zm-12,3A5.31,5.31,0,0,0,4.9,8.1,5.31,5.31,0,0,0,1,6.5,5.31,5.31,0,0,0,4.9,4.9,5.31,5.31,0,0,0,6.5,1,5.31,5.31,0,0,0,8.1,4.9,5.31,5.31,0,0,0,12,6.5,5.46,5.46,0,0,0,6.5,12Z\"/>\n",
              "  </svg>\n",
              "    </button>\n",
              "    <script>\n",
              "      (() => {\n",
              "      const buttonEl =\n",
              "        document.querySelector('#id_d096ca20-b4d8-4902-a92d-d13c004433f6 button.colab-df-generate');\n",
              "      buttonEl.style.display =\n",
              "        google.colab.kernel.accessAllowed ? 'block' : 'none';\n",
              "\n",
              "      buttonEl.onclick = () => {\n",
              "        google.colab.notebook.generateWithVariable('test');\n",
              "      }\n",
              "      })();\n",
              "    </script>\n",
              "  </div>\n",
              "\n",
              "    </div>\n",
              "  </div>\n"
            ],
            "application/vnd.google.colaboratory.intrinsic+json": {
              "type": "dataframe",
              "variable_name": "test",
              "summary": "{\n  \"name\": \"test\",\n  \"rows\": 1000,\n  \"fields\": [\n    {\n      \"column\": \"dialog\",\n      \"properties\": {\n        \"dtype\": \"string\",\n        \"num_unique_values\": 996,\n        \"samples\": [\n          \"['I am so busy today . ' ' Can I help you ? '\\n ' I \\u2019 m not sure . Perhaps you could do the shopping . '\\n ' I \\u2019 ll be glad to help . ' ' Or maybe make the beds . '\\n ' All you have to do is ask for help . ' ' Thanks . That \\u2019 s terrific ! '\\n ' I \\u2019 m ready and willing to help . ']\",\n          \"[\\\"Even if our company didn't have a dress code , I still think people would wear formal clothing to work . \\\"\\n \\\" I wouldn't be so sure ... People want to wear what they feel most comfortable in . \\\"\\n \\\" Maybe that's true for some positions , but I think the marketing and sales staff would definitely not agree . They dress for success ! You can't go out on a sales call if you are dressed in jeans . It's just not respectful to you client . \\\"\\n ' I think what you wear is so overrated . I would rather have a down-to-earth , honest and solid sales person than a painted , patent leather , designer suite salesman . '\\n \\\" It's not as simple as that . People judge you by your appearance , whether you like it or not . So dressing professional is being professional . The image that you portray to others is so important in business . It's your image and how others perceive you that makes the difference between landing or losing a sale . \\\"\\n \\\" Maybe you're right , but I'll take my sneakers and jeans any day ! \\\"]\",\n          \"['I need help with the office party . '\\n ' Yes , of course . We could split it . What part would you like to do , the food or the entertainment ? '\\n ' I have no idea what the entertainment should be . '\\n \\\" Let's make sure we are on the same page . Do we want a formal or informal gathering ? \\\"\\n \\\" Let's make it a formal affair . \\\"\\n ' Yes , that would be best . Now , for food should we have Chinese or American food ? '\\n ' American food would be the best choice . '\\n ' That would be great . What kind of music would you like , a band or recorded music ? '\\n ' We should bring in a really good DJ . '\\n \\\" That works for me . Let's see what we can each do about planning our part and meet again on Friday . \\\"]\"\n        ],\n        \"semantic_type\": \"\",\n        \"description\": \"\"\n      }\n    },\n    {\n      \"column\": \"act\",\n      \"properties\": {\n        \"dtype\": \"string\",\n        \"num_unique_values\": 688,\n        \"samples\": [\n          \"[2 2 3 4 2 1 3 4]\",\n          \"[3 4 3 4 3 2 3 2 3 4]\",\n          \"[2 1 2 1 3 1 2 1 1 1 1 1]\"\n        ],\n        \"semantic_type\": \"\",\n        \"description\": \"\"\n      }\n    },\n    {\n      \"column\": \"emotion\",\n      \"properties\": {\n        \"dtype\": \"category\",\n        \"num_unique_values\": 397,\n        \"samples\": [\n          \"[0 0 0 0 0 0 0 0 0 0 4]\",\n          \"[0 0 4 0 0 0 0 0 0 4 0 0 4]\",\n          \"[0 0 6 0 0 0 0 3 0 0 1 0 1 0 0 4]\"\n        ],\n        \"semantic_type\": \"\",\n        \"description\": \"\"\n      }\n    }\n  ]\n}"
            }
          },
          "metadata": {},
          "execution_count": 226
        }
      ]
    },
    {
      "cell_type": "markdown",
      "source": [
        "Se evalua el formato de los CSV, notando que nuestra columna de interes es dialog."
      ],
      "metadata": {
        "id": "M-hi1UtnkLQr"
      },
      "id": "M-hi1UtnkLQr"
    },
    {
      "cell_type": "markdown",
      "source": [
        "# Pre-procesamiento de datos"
      ],
      "metadata": {
        "id": "ATCTem2v_92c"
      },
      "id": "ATCTem2v_92c"
    },
    {
      "cell_type": "code",
      "source": [
        "# Imprimimos la primera fila del set de datos para evaluar cual es su formato base.\n",
        "train[\"dialog\"].iloc[0]"
      ],
      "metadata": {
        "colab": {
          "base_uri": "https://localhost:8080/",
          "height": 105
        },
        "id": "9J5sOpYiALEy",
        "outputId": "762d07a7-ce5d-4622-f903-ee4178caea18"
      },
      "id": "9J5sOpYiALEy",
      "execution_count": null,
      "outputs": [
        {
          "output_type": "execute_result",
          "data": {
            "text/plain": [
              "'[\\'Say , Jim , how about going for a few beers after dinner ? \\'\\n \\' You know that is tempting but is really not good for our fitness . \\'\\n \\' What do you mean ? It will help us to relax . \\'\\n \" Do you really think so ? I don\\'t . It will just make us fat and act silly . Remember last time ? \"\\n \" I guess you are right.But what shall we do ? I don\\'t feel like sitting at home . \"\\n \\' I suggest a walk over to the gym where we can play singsong and meet some of our friends . \\'\\n \" That\\'s a good idea . I hear Mary and Sally often go there to play pingpong.Perhaps we can make a foursome with them . \"\\n \\' Sounds great to me ! If they are willing , we could ask them to go dancing with us.That is excellent exercise and fun , too . \\'\\n \" Good.Let \\' s go now . \" \\' All right . \\']'"
            ],
            "application/vnd.google.colaboratory.intrinsic+json": {
              "type": "string"
            }
          },
          "metadata": {},
          "execution_count": 227
        }
      ]
    },
    {
      "cell_type": "markdown",
      "source": [
        "Se realiza la observación del formato en que vienen las filas dentro de dialog, el formato es un string que contiene toda la conversacion encerrada entre [] simulando una lista."
      ],
      "metadata": {
        "id": "pT_aZZuEkSQV"
      },
      "id": "pT_aZZuEkSQV"
    },
    {
      "cell_type": "markdown",
      "source": [
        "## Limpieza basica de datos"
      ],
      "metadata": {
        "id": "7i-p_TpTUvHW"
      },
      "id": "7i-p_TpTUvHW"
    },
    {
      "cell_type": "code",
      "source": [
        "def clean_text(data, column):\n",
        "  data[column] = data[column].apply(lambda frase: re.sub(r\"\\s+\", \" \", frase.lower()))\n",
        "  return data"
      ],
      "metadata": {
        "id": "pHP2iaGDAYXC"
      },
      "id": "pHP2iaGDAYXC",
      "execution_count": null,
      "outputs": []
    },
    {
      "cell_type": "markdown",
      "source": [
        "Se formatea la columna eliminando las mayusculas (forzando el traspaso a minusculas) ademas de normalizar los espacios."
      ],
      "metadata": {
        "id": "pjmeefv5B1nU"
      },
      "id": "pjmeefv5B1nU"
    },
    {
      "cell_type": "code",
      "source": [
        "train = clean_text(train, \"dialog\")\n",
        "train.dialog.iloc[0]"
      ],
      "metadata": {
        "colab": {
          "base_uri": "https://localhost:8080/",
          "height": 105
        },
        "id": "GnkUcLxQB8jC",
        "outputId": "f8fe06e2-26c6-4bca-8598-05e12ef0cede"
      },
      "id": "GnkUcLxQB8jC",
      "execution_count": null,
      "outputs": [
        {
          "output_type": "execute_result",
          "data": {
            "text/plain": [
              "'[\\'say , jim , how about going for a few beers after dinner ? \\' \\' you know that is tempting but is really not good for our fitness . \\' \\' what do you mean ? it will help us to relax . \\' \" do you really think so ? i don\\'t . it will just make us fat and act silly . remember last time ? \" \" i guess you are right.but what shall we do ? i don\\'t feel like sitting at home . \" \\' i suggest a walk over to the gym where we can play singsong and meet some of our friends . \\' \" that\\'s a good idea . i hear mary and sally often go there to play pingpong.perhaps we can make a foursome with them . \" \\' sounds great to me ! if they are willing , we could ask them to go dancing with us.that is excellent exercise and fun , too . \\' \" good.let \\' s go now . \" \\' all right . \\']'"
            ],
            "application/vnd.google.colaboratory.intrinsic+json": {
              "type": "string"
            }
          },
          "metadata": {},
          "execution_count": 229
        }
      ]
    },
    {
      "cell_type": "markdown",
      "source": [
        "Se evalua la columna despues del tratamiento basico. Los asltos de lineas desaparecen, se normalizan los espacios y se fuerzan las minusculas."
      ],
      "metadata": {
        "id": "cXZc7chckjUu"
      },
      "id": "cXZc7chckjUu"
    },
    {
      "cell_type": "markdown",
      "source": [
        "## Generacion de etiquetas"
      ],
      "metadata": {
        "id": "JmBegcCYUyxd"
      },
      "id": "JmBegcCYUyxd"
    },
    {
      "cell_type": "code",
      "source": [
        "def create_labels(data, column):\n",
        "\n",
        "  for index, frase in data[column].items():\n",
        "    frase = ast.literal_eval(frase)\n",
        "\n",
        "    if not frase or not isinstance(frase[0], str):\n",
        "      continue\n",
        "\n",
        "    #print(\"Asi se ve la lista ya limpia \\n {}\".format(frase))\n",
        "\n",
        "    texto = frase[0]\n",
        "\n",
        "    frase = re.findall(r\"[^.!?]+[.!?]\", texto)\n",
        "    #print(\"Asi se ve luego de buscar los signos de puntuacion \\n {}\".format(frase))\n",
        "\n",
        "    frase = [f\"<start> {f.strip()} <end>\" for f in frase]\n",
        "\n",
        "    data.at[index, column] = frase\n",
        "\n",
        "  return data"
      ],
      "metadata": {
        "id": "uoZBONuTCNzm"
      },
      "id": "uoZBONuTCNzm",
      "execution_count": null,
      "outputs": []
    },
    {
      "cell_type": "code",
      "source": [
        "train = create_labels(train, \"dialog\")\n",
        "train.dialog.iloc[0]"
      ],
      "metadata": {
        "colab": {
          "base_uri": "https://localhost:8080/"
        },
        "id": "k4sEua9WCz8K",
        "outputId": "1e052ebe-ca96-4621-a611-0b2e96be0f10"
      },
      "id": "k4sEua9WCz8K",
      "execution_count": null,
      "outputs": [
        {
          "output_type": "execute_result",
          "data": {
            "text/plain": [
              "['<start> say , jim , how about going for a few beers after dinner ? <end>',\n",
              " '<start> you know that is tempting but is really not good for our fitness . <end>',\n",
              " '<start> what do you mean ? <end>',\n",
              " '<start> it will help us to relax . <end>',\n",
              " '<start> do you really think so ? <end>',\n",
              " \"<start> i don't . <end>\",\n",
              " '<start> it will just make us fat and act silly . <end>',\n",
              " '<start> remember last time ? <end>',\n",
              " '<start> i guess you are right. <end>',\n",
              " '<start> but what shall we do ? <end>',\n",
              " \"<start> i don't feel like sitting at home . <end>\",\n",
              " '<start> i suggest a walk over to the gym where we can play singsong and meet some of our friends . <end>',\n",
              " \"<start> that's a good idea . <end>\",\n",
              " '<start> i hear mary and sally often go there to play pingpong. <end>',\n",
              " '<start> perhaps we can make a foursome with them . <end>',\n",
              " '<start> sounds great to me ! <end>',\n",
              " '<start> if they are willing , we could ask them to go dancing with us. <end>',\n",
              " '<start> that is excellent exercise and fun , too . <end>',\n",
              " '<start> good. <end>',\n",
              " \"<start> let ' s go now . <end>\",\n",
              " '<start> all right . <end>']"
            ]
          },
          "metadata": {},
          "execution_count": 231
        }
      ]
    },
    {
      "cell_type": "markdown",
      "source": [
        "Se hace eliminación de los signos de puntuacion exceptuando el . y el ?, ademas se transforman las filas del dataset para que sean listas validas, asi mismo cada conversacion en formato (persona A - persona B) se separan como cada uno de los items de la lista.\n",
        "\n",
        "Se hace la generación de etiquetas que denotan el inicio (start) y el fin (end) para cade frase."
      ],
      "metadata": {
        "id": "JHIsJpsvktCX"
      },
      "id": "JHIsJpsvktCX"
    },
    {
      "cell_type": "markdown",
      "source": [
        "## Tokenización"
      ],
      "metadata": {
        "id": "H7bkjUalU9r6"
      },
      "id": "H7bkjUalU9r6"
    },
    {
      "cell_type": "code",
      "source": [
        "def tokenization(data, column, tokenizer):\n",
        "    frases = list(chain.from_iterable(data[column]))\n",
        "    tokenizer.fit_on_texts(frases)\n",
        "\n",
        "    # NO reasignes <pad> manualmente; solo asegúrate de usar 0 como pad index al tokenizar\n",
        "    tokenizer.word_index['<pad>'] = 0\n",
        "    tokenizer.index_word[0] = '<pad>'\n",
        "    return frases"
      ],
      "metadata": {
        "id": "UBMtQ6kIJEjH"
      },
      "id": "UBMtQ6kIJEjH",
      "execution_count": null,
      "outputs": []
    },
    {
      "cell_type": "markdown",
      "source": [
        "Se crea el tokenizer usando la libreria de Tokenizer de keras, se genera el vocabulario y se crean las etiquetas de unk y pad"
      ],
      "metadata": {
        "id": "HgezYx5Elawg"
      },
      "id": "HgezYx5Elawg"
    },
    {
      "cell_type": "code",
      "source": [
        "tokenizer = Tokenizer(filters='', lower=True, oov_token='<unk>')\n",
        "\n",
        "frases = tokenization(train, \"dialog\", tokenizer)\n",
        "print(\"Tamaño del vocabulario:\", len(tokenizer.word_index))"
      ],
      "metadata": {
        "colab": {
          "base_uri": "https://localhost:8080/"
        },
        "id": "hiRUChSjQ1e9",
        "outputId": "91df98da-e50e-417f-a53d-2ede976cd5bf"
      },
      "id": "hiRUChSjQ1e9",
      "execution_count": null,
      "outputs": [
        {
          "output_type": "stream",
          "name": "stdout",
          "text": [
            "Tamaño del vocabulario: 20697\n"
          ]
        }
      ]
    },
    {
      "cell_type": "code",
      "source": [
        "for word, index in list(tokenizer.word_index.items())[:20]:\n",
        "    print(f\"{index:>3} → {word}\")"
      ],
      "metadata": {
        "colab": {
          "base_uri": "https://localhost:8080/"
        },
        "id": "J-J5D32KRGqS",
        "outputId": "2e7ca985-42ef-4a24-b841-2e056d21035c"
      },
      "id": "J-J5D32KRGqS",
      "execution_count": null,
      "outputs": [
        {
          "output_type": "stream",
          "name": "stdout",
          "text": [
            "  1 → <unk>\n",
            "  2 → <start>\n",
            "  3 → <end>\n",
            "  4 → .\n",
            "  5 → ,\n",
            "  6 → you\n",
            "  7 → i\n",
            "  8 → ?\n",
            "  9 → the\n",
            " 10 → to\n",
            " 11 → a\n",
            " 12 → it\n",
            " 13 → and\n",
            " 14 → is\n",
            " 15 → ’\n",
            " 16 → of\n",
            " 17 → in\n",
            " 18 → that\n",
            " 19 → have\n",
            " 20 → for\n"
          ]
        }
      ]
    },
    {
      "cell_type": "code",
      "source": [
        "for index in range(10):\n",
        "    print(f\"{index:>3} → {tokenizer.index_word.get(index, '<N/A>')}\")"
      ],
      "metadata": {
        "colab": {
          "base_uri": "https://localhost:8080/"
        },
        "id": "TvecoyftRIwg",
        "outputId": "229a874d-f323-4e24-e149-440cc7c2f8e0"
      },
      "id": "TvecoyftRIwg",
      "execution_count": null,
      "outputs": [
        {
          "output_type": "stream",
          "name": "stdout",
          "text": [
            "  0 → <pad>\n",
            "  1 → <unk>\n",
            "  2 → <start>\n",
            "  3 → <end>\n",
            "  4 → .\n",
            "  5 → ,\n",
            "  6 → you\n",
            "  7 → i\n",
            "  8 → ?\n",
            "  9 → the\n"
          ]
        }
      ]
    },
    {
      "cell_type": "code",
      "source": [
        "frase = \"<start> this is a test sentence . <end>\"\n",
        "secuencia = tokenizer.texts_to_sequences([frase])[0]\n",
        "print(\"Tokens:\", secuencia)\n",
        "\n",
        "# Decodificar para verificar si vuelve al texto original\n",
        "tokens_inversos = [tokenizer.index_word.get(i, \"<unk>\") for i in secuencia]\n",
        "print(\"Reconstruido:\", \" \".join(tokens_inversos))"
      ],
      "metadata": {
        "colab": {
          "base_uri": "https://localhost:8080/"
        },
        "id": "FjKllMLbRKyD",
        "outputId": "bba7cc2c-3ab7-4467-a7ed-b6c21085c83c"
      },
      "id": "FjKllMLbRKyD",
      "execution_count": null,
      "outputs": [
        {
          "output_type": "stream",
          "name": "stdout",
          "text": [
            "Tokens: [2, 31, 14, 11, 721, 5532, 4, 3]\n",
            "Reconstruido: <start> this is a test sentence . <end>\n"
          ]
        }
      ]
    },
    {
      "cell_type": "markdown",
      "source": [
        "Se realiza una prueba rapida de la tokenización"
      ],
      "metadata": {
        "id": "8W8m0ZPYlqyY"
      },
      "id": "8W8m0ZPYlqyY"
    },
    {
      "cell_type": "code",
      "source": [
        "frase = \"<start> palabraquenoexiste <end>\"\n",
        "secuencia = tokenizer.texts_to_sequences([frase])[0]\n",
        "print(secuencia)  # debería tener el índice de <unk> para \"palabraquenoexiste\""
      ],
      "metadata": {
        "colab": {
          "base_uri": "https://localhost:8080/"
        },
        "id": "qPPmBiggR58e",
        "outputId": "d4f39785-d665-45cf-8930-3140d417c64e"
      },
      "id": "qPPmBiggR58e",
      "execution_count": null,
      "outputs": [
        {
          "output_type": "stream",
          "name": "stdout",
          "text": [
            "[2, 1, 3]\n"
          ]
        }
      ]
    },
    {
      "cell_type": "markdown",
      "source": [
        "Se realiza una prueba rapida del token oov (Out Of Vocabulary)"
      ],
      "metadata": {
        "id": "SziTPKyoluK-"
      },
      "id": "SziTPKyoluK-"
    },
    {
      "cell_type": "code",
      "source": [
        "def create_sequence(phrases, tokenizer):\n",
        "  # Tokenizar\n",
        "  secuencias = tokenizer.texts_to_sequences(frases)\n",
        "\n",
        "  # Padding (opcional, según arquitectura)\n",
        "  sequences_padded = pad_sequences(secuencias, padding='post')\n",
        "\n",
        "  return sequences_padded"
      ],
      "metadata": {
        "id": "3gst9vtcSTNj"
      },
      "id": "3gst9vtcSTNj",
      "execution_count": null,
      "outputs": []
    },
    {
      "cell_type": "code",
      "source": [
        "secuencias = create_sequence(frases, tokenizer)\n",
        "for i in range(3):\n",
        "    print(f\"Frase {i+1}:\")\n",
        "    print(\"Texto:   \", frases[i])\n",
        "    print(\"Tokens:  \", secuencias[i])\n",
        "    print(\"Decodif: \", \" \".join([tokenizer.index_word.get(tok, \"<unk>\") for tok in secuencias[i]]))\n",
        "    print()"
      ],
      "metadata": {
        "colab": {
          "base_uri": "https://localhost:8080/"
        },
        "id": "bvevDENCS1cq",
        "outputId": "bcab1bb6-06e8-436f-d513-d426a9dcf74b"
      },
      "id": "bvevDENCS1cq",
      "execution_count": null,
      "outputs": [
        {
          "output_type": "stream",
          "name": "stdout",
          "text": [
            "Frase 1:\n",
            "Texto:    <start> say , jim , how about going for a few beers after dinner ? <end>\n",
            "Tokens:   [   2  155    5  958    5   37   39   79   20   11  211 3315  167  303\n",
            "    8    3    0    0    0    0    0    0    0    0    0    0    0    0\n",
            "    0    0    0    0    0    0    0    0    0    0    0    0    0    0\n",
            "    0    0    0    0    0    0    0    0    0    0    0    0    0    0\n",
            "    0    0    0    0    0    0    0    0    0    0    0    0    0    0\n",
            "    0    0    0    0    0    0    0    0    0    0    0    0    0]\n",
            "Decodif:  <start> say , jim , how about going for a few beers after dinner ? <end> <pad> <pad> <pad> <pad> <pad> <pad> <pad> <pad> <pad> <pad> <pad> <pad> <pad> <pad> <pad> <pad> <pad> <pad> <pad> <pad> <pad> <pad> <pad> <pad> <pad> <pad> <pad> <pad> <pad> <pad> <pad> <pad> <pad> <pad> <pad> <pad> <pad> <pad> <pad> <pad> <pad> <pad> <pad> <pad> <pad> <pad> <pad> <pad> <pad> <pad> <pad> <pad> <pad> <pad> <pad> <pad> <pad> <pad> <pad> <pad> <pad> <pad> <pad> <pad> <pad> <pad> <pad>\n",
            "\n",
            "Frase 2:\n",
            "Texto:    <start> you know that is tempting but is really not good for our fitness . <end>\n",
            "Tokens:   [   2    6   51   18   14 4139   33   14   66   44   49   20   78 2141\n",
            "    4    3    0    0    0    0    0    0    0    0    0    0    0    0\n",
            "    0    0    0    0    0    0    0    0    0    0    0    0    0    0\n",
            "    0    0    0    0    0    0    0    0    0    0    0    0    0    0\n",
            "    0    0    0    0    0    0    0    0    0    0    0    0    0    0\n",
            "    0    0    0    0    0    0    0    0    0    0    0    0    0]\n",
            "Decodif:  <start> you know that is tempting but is really not good for our fitness . <end> <pad> <pad> <pad> <pad> <pad> <pad> <pad> <pad> <pad> <pad> <pad> <pad> <pad> <pad> <pad> <pad> <pad> <pad> <pad> <pad> <pad> <pad> <pad> <pad> <pad> <pad> <pad> <pad> <pad> <pad> <pad> <pad> <pad> <pad> <pad> <pad> <pad> <pad> <pad> <pad> <pad> <pad> <pad> <pad> <pad> <pad> <pad> <pad> <pad> <pad> <pad> <pad> <pad> <pad> <pad> <pad> <pad> <pad> <pad> <pad> <pad> <pad> <pad> <pad> <pad> <pad> <pad>\n",
            "\n",
            "Frase 3:\n",
            "Texto:    <start> what do you mean ? <end>\n",
            "Tokens:   [  2  23  21   6 208   8   3   0   0   0   0   0   0   0   0   0   0   0\n",
            "   0   0   0   0   0   0   0   0   0   0   0   0   0   0   0   0   0   0\n",
            "   0   0   0   0   0   0   0   0   0   0   0   0   0   0   0   0   0   0\n",
            "   0   0   0   0   0   0   0   0   0   0   0   0   0   0   0   0   0   0\n",
            "   0   0   0   0   0   0   0   0   0   0   0]\n",
            "Decodif:  <start> what do you mean ? <end> <pad> <pad> <pad> <pad> <pad> <pad> <pad> <pad> <pad> <pad> <pad> <pad> <pad> <pad> <pad> <pad> <pad> <pad> <pad> <pad> <pad> <pad> <pad> <pad> <pad> <pad> <pad> <pad> <pad> <pad> <pad> <pad> <pad> <pad> <pad> <pad> <pad> <pad> <pad> <pad> <pad> <pad> <pad> <pad> <pad> <pad> <pad> <pad> <pad> <pad> <pad> <pad> <pad> <pad> <pad> <pad> <pad> <pad> <pad> <pad> <pad> <pad> <pad> <pad> <pad> <pad> <pad> <pad> <pad> <pad> <pad> <pad> <pad> <pad> <pad> <pad>\n",
            "\n"
          ]
        }
      ]
    },
    {
      "cell_type": "markdown",
      "source": [
        "Se transforman las conversaciones a secuencias tokenizadas validas."
      ],
      "metadata": {
        "id": "sxFuMY2ol1lr"
      },
      "id": "sxFuMY2ol1lr"
    },
    {
      "cell_type": "markdown",
      "source": [
        "## Positional Encoding"
      ],
      "metadata": {
        "id": "LZGGPPAqW0YB"
      },
      "id": "LZGGPPAqW0YB"
    },
    {
      "cell_type": "code",
      "source": [
        "def get_positional_encoding(seq_len, d_model):\n",
        "    pos = tf.cast(tf.range(seq_len)[:, tf.newaxis], dtype=tf.float32)\n",
        "    i = tf.cast(tf.range(d_model)[tf.newaxis, :], dtype=tf.float32)\n",
        "\n",
        "    angle_rates = 1 / tf.pow(10000.0, (2 * (i // 2)) / d_model)\n",
        "    angle_rads = pos * angle_rates\n",
        "\n",
        "    sines = tf.math.sin(angle_rads[:, 0::2])\n",
        "    cosines = tf.math.cos(angle_rads[:, 1::2])\n",
        "    pos_encoding = tf.concat([sines, cosines], axis=-1)\n",
        "\n",
        "    return pos_encoding[tf.newaxis, ...]"
      ],
      "metadata": {
        "id": "b3HLY5yaofLs"
      },
      "id": "b3HLY5yaofLs",
      "execution_count": null,
      "outputs": []
    },
    {
      "cell_type": "markdown",
      "source": [
        "Se genera el positional encoding que sera usado dentro del transformer"
      ],
      "metadata": {
        "id": "Wq0zGQNQl6Fs"
      },
      "id": "Wq0zGQNQl6Fs"
    },
    {
      "cell_type": "markdown",
      "id": "5f66d32a",
      "metadata": {
        "id": "5f66d32a"
      },
      "source": [
        "# Implementación del Modelo Transformer"
      ]
    },
    {
      "cell_type": "markdown",
      "source": [
        "Para la creación de este transformer, se tendra en cuenta que los datos se encuentran en un formato tokenizado, previamente transformado a una lista valida con conversaciones (pregunta y respuesta)\n",
        "\n",
        "\n",
        "Se usaran los siguientes componentes:\n",
        "\n",
        "\n",
        "- Dropout: Aplica apagado de neuronas a las capas para evitar que la red dependa de un grupo de neuronas en especifico y asi todas pasan por un entrenamiento, esto ajusta el overfitting\n",
        "\n",
        "- Positional Encoding: El positional encoding funciona para que el modelo, ademas de generar una importancia a la palabra en base a su procesamiento, tambien genera una importancia diferente para esa misma palabra en base a su posición esto ayuda a que el modelo comprenda correctamente la posición gramatical de las palabras y cuando arme una frase lo haga con un hilo conductor valido.\n",
        "\n",
        "- Mascara de padding: Esto hace que el modelo ignore, es decir, no genere importancia a los paddings agregados a cada secuencia. Recordemos que el set de datos es de tipo no estructurado, por ende, cada secuencia no tiene la misma cantidad de datos, asi que es rellenada por padding. Al aplicar mascara evitamos que, por la alta presencia del mismo, el modelo tienda a responder \"pad\".\n",
        "\n",
        "- Mascara de look ahead: Esto se encarga de evitar que el modelo, a la hora de predecir, evalue como parte de su procesamiento la palabra siguiente, ya que en terminos simples, estaria haciendo \"trampa\" ya que estaria analizando la respuesta para poder entregar la respuesta.\n",
        "\n",
        "- Multi head attention: Representan los cabezales de atención, en concepto basico representa la cantidad de palabras que procesa en paralelo el modelo.\n",
        "\n",
        "- Residual connection: Se representa con las LayerNormalization, permite al modelo poder recordar la informacion ya procesada si es necesario.\n",
        "\n",
        "- Encoder: Es el encargado de procesar los inputs, basicamente el que aplica el procesamiento inicial del texto.\n",
        "\n",
        "- decoder: Un decoder del transformer es la parte que genera una secuencia (por ejemplo, una traducción o una respuesta). A diferencia del encoder, el decoder:\n",
        "\n",
        "  1. Mira las palabras que ya ha generado (con atención enmascarada).\n",
        "\n",
        "  2. Mira lo que el encoder entendió del input original.\n",
        "\n",
        "  3. Decide cuál palabra generar después.\n",
        "\n",
        "- Embedding: Aplica vectorización a los datos de entradas para volverlos tensores de X dimension.\n",
        "\n",
        "- mascara de loss y accuracy: Es una mascar aplicada a los datos de validación, ya que las mascaras comunes no llegan a procesar los datos almacenados en la funcion de perdida. Esto permite enmascaras el padding en los datos de validacion.\n"
      ],
      "metadata": {
        "id": "98mciBR_l8vk"
      },
      "id": "98mciBR_l8vk"
    },
    {
      "cell_type": "markdown",
      "source": [
        "## Transformer Encoder"
      ],
      "metadata": {
        "id": "43B5Bcc0YM12"
      },
      "id": "43B5Bcc0YM12"
    },
    {
      "cell_type": "code",
      "source": [
        "def transformer_encoder_block(embed_dim, num_heads, ff_dim, dropout=0.1):\n",
        "    inputs = Input(shape=(None, embed_dim))\n",
        "    attn_output = tf.keras.layers.MultiHeadAttention(num_heads=num_heads, key_dim=embed_dim)(inputs, inputs)\n",
        "    attn_output = Dropout(dropout)(attn_output)\n",
        "    out1 = LayerNormalization(epsilon=1e-6)(inputs + attn_output)\n",
        "\n",
        "    ff = Dense(ff_dim, activation='relu')(out1)\n",
        "    ff = Dense(embed_dim)(ff)\n",
        "    ff = Dropout(dropout)(ff)\n",
        "    out2 = LayerNormalization(epsilon=1e-6)(out1 + ff)\n",
        "\n",
        "    return Model(inputs, out2)"
      ],
      "metadata": {
        "id": "_dY8_1zyZzFm"
      },
      "id": "_dY8_1zyZzFm",
      "execution_count": null,
      "outputs": []
    },
    {
      "cell_type": "markdown",
      "source": [
        "El encoder es el encargado de tomar el input y procesarlo para el aprendizaje del modelo, se dejara el flujo de las tareas dentro del mismo encoder, tomando en cuenta los conceptos que se entregaron al inicio de la implementación:\n",
        "\n",
        "\n",
        "                  Input\n",
        "                    ↓\n",
        "                  Multi-Head Attention (mira todas las palabras entre sí)\n",
        "                    ↓\n",
        "                  Suma + Normalización (residual + layer norm)\n",
        "                    ↓\n",
        "                  Feed Forward Neural Network\n",
        "                    ↓\n",
        "                  Suma + Normalización (otra residual + layer norm)\n",
        "                    ↓\n",
        "                  Output codificado\n",
        "\n",
        "La salida codificada sera enviada al decoder, el cual se encarga de otro procesamiento interno."
      ],
      "metadata": {
        "id": "vsBqGAunokHw"
      },
      "id": "vsBqGAunokHw"
    },
    {
      "cell_type": "markdown",
      "source": [
        "## Transformer Decoder"
      ],
      "metadata": {
        "id": "9tlXiYw5Y2uB"
      },
      "id": "9tlXiYw5Y2uB"
    },
    {
      "cell_type": "code",
      "source": [
        "def transformer_decoder_block(embed_dim, num_heads, ff_dim, dropout=0.1):\n",
        "    decoder_inputs = Input(shape=(None, embed_dim))\n",
        "    encoder_outputs = Input(shape=(None, embed_dim))\n",
        "\n",
        "    # Masked Self-Attention con causal masking nativo de Keras\n",
        "    masked_attn = tf.keras.layers.MultiHeadAttention(\n",
        "        num_heads=num_heads,\n",
        "        key_dim=embed_dim,\n",
        "        dropout=dropout\n",
        "    )(decoder_inputs, decoder_inputs, use_causal_mask=True)\n",
        "    masked_attn = Dropout(dropout)(masked_attn)\n",
        "    out1 = LayerNormalization(epsilon=1e-6)(decoder_inputs + masked_attn)\n",
        "\n",
        "    # Encoder-Decoder Attention\n",
        "    cross_attn = tf.keras.layers.MultiHeadAttention(\n",
        "        num_heads=num_heads,\n",
        "        key_dim=embed_dim,\n",
        "        dropout=dropout\n",
        "    )(out1, encoder_outputs)\n",
        "    cross_attn = Dropout(dropout)(cross_attn)\n",
        "    out2 = LayerNormalization(epsilon=1e-6)(out1 + cross_attn)\n",
        "\n",
        "    # Feed Forward\n",
        "    ff = Dense(ff_dim, activation='relu')(out2)\n",
        "    ff = Dense(embed_dim)(ff)\n",
        "    ff = Dropout(dropout)(ff)\n",
        "    out3 = LayerNormalization(epsilon=1e-6)(out2 + ff)\n",
        "\n",
        "    return Model([decoder_inputs, encoder_outputs], out3)"
      ],
      "metadata": {
        "id": "tlrzF4KPY4fU"
      },
      "id": "tlrzF4KPY4fU",
      "execution_count": null,
      "outputs": []
    },
    {
      "cell_type": "markdown",
      "source": [
        "El decoder se encarga de generar la secuencia de respuesta (la oración o respuesta a la pregunta) basandose en su propio procesamiento del input y en el output generado por el encoder, el flujo de las tareas del decoder se dejara acontinuacion:\n",
        "\n",
        "```\n",
        "                          Decoder Inputs        Encoder Outputs\n",
        "                                ↓                     ↓\n",
        "                          Masked Self-Attention       |\n",
        "                                ↓                     |\n",
        "                          Residual + Norm             |\n",
        "                                ↓                     |\n",
        "                          Cross-Attention ←──────────┘\n",
        "                                ↓\n",
        "                          Residual + Norm\n",
        "                                ↓\n",
        "                          Feed Forward Network\n",
        "                                ↓\n",
        "                          Residual + Norm\n",
        "                                ↓\n",
        "                          Decoder Output\n",
        "```\n",
        "\n",
        "En el punto de cross-validation es donde el decoder genera la respuesta apoyandose de lo entendido por el encoder."
      ],
      "metadata": {
        "id": "H4_2vXesro8y"
      },
      "id": "H4_2vXesro8y"
    },
    {
      "cell_type": "markdown",
      "source": [
        "# Creación del modelo"
      ],
      "metadata": {
        "id": "KV5vaO7yZwWD"
      },
      "id": "KV5vaO7yZwWD"
    },
    {
      "cell_type": "code",
      "source": [
        "def build_transformer(vocab_size, max_len, embed_dim=128, num_heads=4, ff_dim=512, dropout=0.1):\n",
        "    encoder_inputs = Input(shape=(max_len,))\n",
        "    decoder_inputs = Input(shape=(max_len,))\n",
        "\n",
        "    # Embeddings\n",
        "    encoder_embed = Embedding(vocab_size, embed_dim, mask_zero=True)(encoder_inputs)\n",
        "    decoder_embed = Embedding(vocab_size, embed_dim, mask_zero=True)(decoder_inputs)\n",
        "\n",
        "    # Obtener positional encoding\n",
        "    pos_encoding = get_positional_encoding(max_len, embed_dim)  # shape (1, max_len, embed_dim)\n",
        "\n",
        "    # Sumar positional encoding a embeddings\n",
        "    encoder_embed = encoder_embed + pos_encoding\n",
        "    decoder_embed = decoder_embed + pos_encoding\n",
        "\n",
        "    # Encoder y Decoder\n",
        "    encoder_block = transformer_encoder_block(embed_dim, num_heads, ff_dim, dropout)\n",
        "    decoder_block = transformer_decoder_block(embed_dim, num_heads, ff_dim, dropout)\n",
        "\n",
        "    encoder_outputs = encoder_block(encoder_embed)\n",
        "    decoder_outputs = decoder_block([decoder_embed, encoder_outputs])\n",
        "\n",
        "    # Capa final\n",
        "    outputs = Dense(vocab_size, activation='softmax')(decoder_outputs)\n",
        "    print(outputs.shape)\n",
        "\n",
        "    return Model([encoder_inputs, decoder_inputs], outputs)"
      ],
      "metadata": {
        "id": "Lh5hbs0RZx-I"
      },
      "id": "Lh5hbs0RZx-I",
      "execution_count": null,
      "outputs": []
    },
    {
      "cell_type": "markdown",
      "source": [
        "El builder se encargara de generar todos los componentes del modelo, es basicamente, armarlo para su posterior compilacion. Se encarga de generar el encoder - decoder, generar el procesamiento inicial del input y output, generar el positional encoding, el embedding y contruir las capas de procesamiento. A continuación se dejara el flujo de tareas del builder:\n",
        "\n",
        "```\n",
        "                    Encoder Inputs      Decoder Inputs\n",
        "                          ↓                   ↓\n",
        "                      Embedding            Embedding\n",
        "                          ↓                   ↓\n",
        "                    Positional Encoding  Positional Encoding\n",
        "                          ↓                   ↓\n",
        "                    Transformer Encoder      ←──── Transformer Decoder\n",
        "                            ↓                           ↓\n",
        "                      Encoder Outputs           Decoder Outputs\n",
        "                                                      ↓\n",
        "                                          Softmax: Predice palabra\n",
        "```"
      ],
      "metadata": {
        "id": "2LsxgDvYtDpU"
      },
      "id": "2LsxgDvYtDpU"
    },
    {
      "cell_type": "code",
      "source": [
        "max_len = max(len(seq) for seq in secuencias)\n",
        "vocab_size = len(tokenizer.word_index) + 1  # +1 para el token de padding (0)\n",
        "# --- Compilar modelo ---\n",
        "model = build_transformer(vocab_size=vocab_size, max_len=max_len, dropout=0.3)\n",
        "model.compile(optimizer='adam', loss='sparse_categorical_crossentropy', metrics=['accuracy'])\n",
        "model.summary()"
      ],
      "metadata": {
        "colab": {
          "base_uri": "https://localhost:8080/",
          "height": 561
        },
        "id": "fnEeH7vxs5tn",
        "outputId": "68ac81e6-9c03-4f08-8f6c-58622600768c"
      },
      "id": "fnEeH7vxs5tn",
      "execution_count": null,
      "outputs": [
        {
          "output_type": "stream",
          "name": "stdout",
          "text": [
            "(None, 83, 20698)\n"
          ]
        },
        {
          "output_type": "display_data",
          "data": {
            "text/plain": [
              "\u001b[1mModel: \"functional_41\"\u001b[0m\n"
            ],
            "text/html": [
              "<pre style=\"white-space:pre;overflow-x:auto;line-height:normal;font-family:Menlo,'DejaVu Sans Mono',consolas,'Courier New',monospace\"><span style=\"font-weight: bold\">Model: \"functional_41\"</span>\n",
              "</pre>\n"
            ]
          },
          "metadata": {}
        },
        {
          "output_type": "display_data",
          "data": {
            "text/plain": [
              "┏━━━━━━━━━━━━━━━━━━━━━┳━━━━━━━━━━━━━━━━━━━┳━━━━━━━━━━━━┳━━━━━━━━━━━━━━━━━━━┓\n",
              "┃\u001b[1m \u001b[0m\u001b[1mLayer (type)       \u001b[0m\u001b[1m \u001b[0m┃\u001b[1m \u001b[0m\u001b[1mOutput Shape     \u001b[0m\u001b[1m \u001b[0m┃\u001b[1m \u001b[0m\u001b[1m   Param #\u001b[0m\u001b[1m \u001b[0m┃\u001b[1m \u001b[0m\u001b[1mConnected to     \u001b[0m\u001b[1m \u001b[0m┃\n",
              "┡━━━━━━━━━━━━━━━━━━━━━╇━━━━━━━━━━━━━━━━━━━╇━━━━━━━━━━━━╇━━━━━━━━━━━━━━━━━━━┩\n",
              "│ input_layer_65      │ (\u001b[38;5;45mNone\u001b[0m, \u001b[38;5;34m83\u001b[0m)        │          \u001b[38;5;34m0\u001b[0m │ -                 │\n",
              "│ (\u001b[38;5;33mInputLayer\u001b[0m)        │                   │            │                   │\n",
              "├─────────────────────┼───────────────────┼────────────┼───────────────────┤\n",
              "│ input_layer_66      │ (\u001b[38;5;45mNone\u001b[0m, \u001b[38;5;34m83\u001b[0m)        │          \u001b[38;5;34m0\u001b[0m │ -                 │\n",
              "│ (\u001b[38;5;33mInputLayer\u001b[0m)        │                   │            │                   │\n",
              "├─────────────────────┼───────────────────┼────────────┼───────────────────┤\n",
              "│ embedding_26        │ (\u001b[38;5;45mNone\u001b[0m, \u001b[38;5;34m83\u001b[0m, \u001b[38;5;34m128\u001b[0m)   │  \u001b[38;5;34m2,649,344\u001b[0m │ input_layer_65[\u001b[38;5;34m0\u001b[0m… │\n",
              "│ (\u001b[38;5;33mEmbedding\u001b[0m)         │                   │            │                   │\n",
              "├─────────────────────┼───────────────────┼────────────┼───────────────────┤\n",
              "│ embedding_27        │ (\u001b[38;5;45mNone\u001b[0m, \u001b[38;5;34m83\u001b[0m, \u001b[38;5;34m128\u001b[0m)   │  \u001b[38;5;34m2,649,344\u001b[0m │ input_layer_66[\u001b[38;5;34m0\u001b[0m… │\n",
              "│ (\u001b[38;5;33mEmbedding\u001b[0m)         │                   │            │                   │\n",
              "├─────────────────────┼───────────────────┼────────────┼───────────────────┤\n",
              "│ add_91 (\u001b[38;5;33mAdd\u001b[0m)        │ (\u001b[38;5;45mNone\u001b[0m, \u001b[38;5;34m83\u001b[0m, \u001b[38;5;34m128\u001b[0m)   │          \u001b[38;5;34m0\u001b[0m │ embedding_26[\u001b[38;5;34m0\u001b[0m][\u001b[38;5;34m…\u001b[0m │\n",
              "├─────────────────────┼───────────────────┼────────────┼───────────────────┤\n",
              "│ add_92 (\u001b[38;5;33mAdd\u001b[0m)        │ (\u001b[38;5;45mNone\u001b[0m, \u001b[38;5;34m83\u001b[0m, \u001b[38;5;34m128\u001b[0m)   │          \u001b[38;5;34m0\u001b[0m │ embedding_27[\u001b[38;5;34m0\u001b[0m][\u001b[38;5;34m…\u001b[0m │\n",
              "├─────────────────────┼───────────────────┼────────────┼───────────────────┤\n",
              "│ functional_39       │ (\u001b[38;5;45mNone\u001b[0m, \u001b[38;5;34m83\u001b[0m, \u001b[38;5;34m128\u001b[0m)   │    \u001b[38;5;34m396,032\u001b[0m │ add_91[\u001b[38;5;34m0\u001b[0m][\u001b[38;5;34m0\u001b[0m]      │\n",
              "│ (\u001b[38;5;33mFunctional\u001b[0m)        │                   │            │                   │\n",
              "├─────────────────────┼───────────────────┼────────────┼───────────────────┤\n",
              "│ functional_40       │ (\u001b[38;5;45mNone\u001b[0m, \u001b[38;5;34m83\u001b[0m, \u001b[38;5;34m128\u001b[0m)   │    \u001b[38;5;34m660,096\u001b[0m │ add_92[\u001b[38;5;34m0\u001b[0m][\u001b[38;5;34m0\u001b[0m],     │\n",
              "│ (\u001b[38;5;33mFunctional\u001b[0m)        │                   │            │ functional_39[\u001b[38;5;34m0\u001b[0m]… │\n",
              "├─────────────────────┼───────────────────┼────────────┼───────────────────┤\n",
              "│ dense_69 (\u001b[38;5;33mDense\u001b[0m)    │ (\u001b[38;5;45mNone\u001b[0m, \u001b[38;5;34m83\u001b[0m, \u001b[38;5;34m20698\u001b[0m) │  \u001b[38;5;34m2,670,042\u001b[0m │ functional_40[\u001b[38;5;34m0\u001b[0m]… │\n",
              "└─────────────────────┴───────────────────┴────────────┴───────────────────┘\n"
            ],
            "text/html": [
              "<pre style=\"white-space:pre;overflow-x:auto;line-height:normal;font-family:Menlo,'DejaVu Sans Mono',consolas,'Courier New',monospace\">┏━━━━━━━━━━━━━━━━━━━━━┳━━━━━━━━━━━━━━━━━━━┳━━━━━━━━━━━━┳━━━━━━━━━━━━━━━━━━━┓\n",
              "┃<span style=\"font-weight: bold\"> Layer (type)        </span>┃<span style=\"font-weight: bold\"> Output Shape      </span>┃<span style=\"font-weight: bold\">    Param # </span>┃<span style=\"font-weight: bold\"> Connected to      </span>┃\n",
              "┡━━━━━━━━━━━━━━━━━━━━━╇━━━━━━━━━━━━━━━━━━━╇━━━━━━━━━━━━╇━━━━━━━━━━━━━━━━━━━┩\n",
              "│ input_layer_65      │ (<span style=\"color: #00d7ff; text-decoration-color: #00d7ff\">None</span>, <span style=\"color: #00af00; text-decoration-color: #00af00\">83</span>)        │          <span style=\"color: #00af00; text-decoration-color: #00af00\">0</span> │ -                 │\n",
              "│ (<span style=\"color: #0087ff; text-decoration-color: #0087ff\">InputLayer</span>)        │                   │            │                   │\n",
              "├─────────────────────┼───────────────────┼────────────┼───────────────────┤\n",
              "│ input_layer_66      │ (<span style=\"color: #00d7ff; text-decoration-color: #00d7ff\">None</span>, <span style=\"color: #00af00; text-decoration-color: #00af00\">83</span>)        │          <span style=\"color: #00af00; text-decoration-color: #00af00\">0</span> │ -                 │\n",
              "│ (<span style=\"color: #0087ff; text-decoration-color: #0087ff\">InputLayer</span>)        │                   │            │                   │\n",
              "├─────────────────────┼───────────────────┼────────────┼───────────────────┤\n",
              "│ embedding_26        │ (<span style=\"color: #00d7ff; text-decoration-color: #00d7ff\">None</span>, <span style=\"color: #00af00; text-decoration-color: #00af00\">83</span>, <span style=\"color: #00af00; text-decoration-color: #00af00\">128</span>)   │  <span style=\"color: #00af00; text-decoration-color: #00af00\">2,649,344</span> │ input_layer_65[<span style=\"color: #00af00; text-decoration-color: #00af00\">0</span>… │\n",
              "│ (<span style=\"color: #0087ff; text-decoration-color: #0087ff\">Embedding</span>)         │                   │            │                   │\n",
              "├─────────────────────┼───────────────────┼────────────┼───────────────────┤\n",
              "│ embedding_27        │ (<span style=\"color: #00d7ff; text-decoration-color: #00d7ff\">None</span>, <span style=\"color: #00af00; text-decoration-color: #00af00\">83</span>, <span style=\"color: #00af00; text-decoration-color: #00af00\">128</span>)   │  <span style=\"color: #00af00; text-decoration-color: #00af00\">2,649,344</span> │ input_layer_66[<span style=\"color: #00af00; text-decoration-color: #00af00\">0</span>… │\n",
              "│ (<span style=\"color: #0087ff; text-decoration-color: #0087ff\">Embedding</span>)         │                   │            │                   │\n",
              "├─────────────────────┼───────────────────┼────────────┼───────────────────┤\n",
              "│ add_91 (<span style=\"color: #0087ff; text-decoration-color: #0087ff\">Add</span>)        │ (<span style=\"color: #00d7ff; text-decoration-color: #00d7ff\">None</span>, <span style=\"color: #00af00; text-decoration-color: #00af00\">83</span>, <span style=\"color: #00af00; text-decoration-color: #00af00\">128</span>)   │          <span style=\"color: #00af00; text-decoration-color: #00af00\">0</span> │ embedding_26[<span style=\"color: #00af00; text-decoration-color: #00af00\">0</span>][<span style=\"color: #00af00; text-decoration-color: #00af00\">…</span> │\n",
              "├─────────────────────┼───────────────────┼────────────┼───────────────────┤\n",
              "│ add_92 (<span style=\"color: #0087ff; text-decoration-color: #0087ff\">Add</span>)        │ (<span style=\"color: #00d7ff; text-decoration-color: #00d7ff\">None</span>, <span style=\"color: #00af00; text-decoration-color: #00af00\">83</span>, <span style=\"color: #00af00; text-decoration-color: #00af00\">128</span>)   │          <span style=\"color: #00af00; text-decoration-color: #00af00\">0</span> │ embedding_27[<span style=\"color: #00af00; text-decoration-color: #00af00\">0</span>][<span style=\"color: #00af00; text-decoration-color: #00af00\">…</span> │\n",
              "├─────────────────────┼───────────────────┼────────────┼───────────────────┤\n",
              "│ functional_39       │ (<span style=\"color: #00d7ff; text-decoration-color: #00d7ff\">None</span>, <span style=\"color: #00af00; text-decoration-color: #00af00\">83</span>, <span style=\"color: #00af00; text-decoration-color: #00af00\">128</span>)   │    <span style=\"color: #00af00; text-decoration-color: #00af00\">396,032</span> │ add_91[<span style=\"color: #00af00; text-decoration-color: #00af00\">0</span>][<span style=\"color: #00af00; text-decoration-color: #00af00\">0</span>]      │\n",
              "│ (<span style=\"color: #0087ff; text-decoration-color: #0087ff\">Functional</span>)        │                   │            │                   │\n",
              "├─────────────────────┼───────────────────┼────────────┼───────────────────┤\n",
              "│ functional_40       │ (<span style=\"color: #00d7ff; text-decoration-color: #00d7ff\">None</span>, <span style=\"color: #00af00; text-decoration-color: #00af00\">83</span>, <span style=\"color: #00af00; text-decoration-color: #00af00\">128</span>)   │    <span style=\"color: #00af00; text-decoration-color: #00af00\">660,096</span> │ add_92[<span style=\"color: #00af00; text-decoration-color: #00af00\">0</span>][<span style=\"color: #00af00; text-decoration-color: #00af00\">0</span>],     │\n",
              "│ (<span style=\"color: #0087ff; text-decoration-color: #0087ff\">Functional</span>)        │                   │            │ functional_39[<span style=\"color: #00af00; text-decoration-color: #00af00\">0</span>]… │\n",
              "├─────────────────────┼───────────────────┼────────────┼───────────────────┤\n",
              "│ dense_69 (<span style=\"color: #0087ff; text-decoration-color: #0087ff\">Dense</span>)    │ (<span style=\"color: #00d7ff; text-decoration-color: #00d7ff\">None</span>, <span style=\"color: #00af00; text-decoration-color: #00af00\">83</span>, <span style=\"color: #00af00; text-decoration-color: #00af00\">20698</span>) │  <span style=\"color: #00af00; text-decoration-color: #00af00\">2,670,042</span> │ functional_40[<span style=\"color: #00af00; text-decoration-color: #00af00\">0</span>]… │\n",
              "└─────────────────────┴───────────────────┴────────────┴───────────────────┘\n",
              "</pre>\n"
            ]
          },
          "metadata": {}
        },
        {
          "output_type": "display_data",
          "data": {
            "text/plain": [
              "\u001b[1m Total params: \u001b[0m\u001b[38;5;34m9,024,858\u001b[0m (34.43 MB)\n"
            ],
            "text/html": [
              "<pre style=\"white-space:pre;overflow-x:auto;line-height:normal;font-family:Menlo,'DejaVu Sans Mono',consolas,'Courier New',monospace\"><span style=\"font-weight: bold\"> Total params: </span><span style=\"color: #00af00; text-decoration-color: #00af00\">9,024,858</span> (34.43 MB)\n",
              "</pre>\n"
            ]
          },
          "metadata": {}
        },
        {
          "output_type": "display_data",
          "data": {
            "text/plain": [
              "\u001b[1m Trainable params: \u001b[0m\u001b[38;5;34m9,024,858\u001b[0m (34.43 MB)\n"
            ],
            "text/html": [
              "<pre style=\"white-space:pre;overflow-x:auto;line-height:normal;font-family:Menlo,'DejaVu Sans Mono',consolas,'Courier New',monospace\"><span style=\"font-weight: bold\"> Trainable params: </span><span style=\"color: #00af00; text-decoration-color: #00af00\">9,024,858</span> (34.43 MB)\n",
              "</pre>\n"
            ]
          },
          "metadata": {}
        },
        {
          "output_type": "display_data",
          "data": {
            "text/plain": [
              "\u001b[1m Non-trainable params: \u001b[0m\u001b[38;5;34m0\u001b[0m (0.00 B)\n"
            ],
            "text/html": [
              "<pre style=\"white-space:pre;overflow-x:auto;line-height:normal;font-family:Menlo,'DejaVu Sans Mono',consolas,'Courier New',monospace\"><span style=\"font-weight: bold\"> Non-trainable params: </span><span style=\"color: #00af00; text-decoration-color: #00af00\">0</span> (0.00 B)\n",
              "</pre>\n"
            ]
          },
          "metadata": {}
        }
      ]
    },
    {
      "cell_type": "markdown",
      "source": [
        "Se generan los parametros faltantes para le builder, se construye y compila el modelo.\n",
        "\n",
        "Para la compilacion se utilizo el optimizador adam ya que es el recomendado para este tipo de problematicas y la funcion de perdida sparse_categorical_crossentropy ya que no trabajamos con el formato de one-hot-encoding sino que se trabaja con vectores generados por el embedding. Ademas se aplica un dropout del 30% ya que no se esta trabajando con datos de validación por lo que se debe ser riguroso con el sobre entrenamiento."
      ],
      "metadata": {
        "id": "qKJdOUZptium"
      },
      "id": "qKJdOUZptium"
    },
    {
      "cell_type": "code",
      "source": [
        "def prepare_inputs_targets(sequences, max_len):\n",
        "    encoder_input = sequences[0::2]  # preguntas (ya con padding de max_len)\n",
        "    respuestas = sequences[1::2]     # respuestas completas (también con padding)\n",
        "\n",
        "    decoder_input = respuestas[:, :-1]\n",
        "    target = respuestas[:, 1:]\n",
        "\n",
        "    # Aquí el padding para volver a max_len\n",
        "    decoder_input = pad_sequences(decoder_input, maxlen=max_len, padding='post')\n",
        "    target = pad_sequences(target, maxlen=max_len, padding='post')\n",
        "\n",
        "    return encoder_input, decoder_input, target"
      ],
      "metadata": {
        "id": "RtS0bdj2bK4L"
      },
      "id": "RtS0bdj2bK4L",
      "execution_count": null,
      "outputs": []
    },
    {
      "cell_type": "markdown",
      "source": [
        "Esta funcion se encarga de preparar el input para que sera recibido por el encoder, basicamente es la separacio en la secuencia principal (X) y la respuesta (Y)"
      ],
      "metadata": {
        "id": "JPh1Bz3DuXqD"
      },
      "id": "JPh1Bz3DuXqD"
    },
    {
      "cell_type": "markdown",
      "id": "31c5e26e",
      "metadata": {
        "id": "31c5e26e"
      },
      "source": [
        "#  Entrenamiento del Modelo"
      ]
    },
    {
      "cell_type": "code",
      "source": [
        "validation = clean_text(validation, \"dialog\")\n",
        "validation = create_labels(validation, \"dialog\")\n",
        "frases_validation = tokenization(validation, \"dialog\", tokenizer)\n",
        "secuencias_validation = create_sequence(frases_validation, tokenizer)\n",
        "\n",
        "test = clean_text(test, \"dialog\")\n",
        "test = create_labels(test, \"dialog\")\n",
        "frases_test = tokenization(test, \"dialog\", tokenizer)\n",
        "secuencias_test = create_sequence(frases_test, tokenizer)\n",
        "\n",
        "early_stop = EarlyStopping(\n",
        "    monitor='accuracy',\n",
        "    mode='max',\n",
        "    patience=5,                # espera 2 epochs sin mejora\n",
        "    min_delta=0.05,             # no exige mejora mínima\n",
        "    baseline=1.0,              # detiene si se alcanza accuracy de 1.0\n",
        "    restore_best_weights=True # vuelve al mejor punto antes de que dejara de mejorar\n",
        ")\n"
      ],
      "metadata": {
        "collapsed": true,
        "id": "RuZhJsKeueX7"
      },
      "id": "RuZhJsKeueX7",
      "execution_count": null,
      "outputs": []
    },
    {
      "cell_type": "markdown",
      "source": [
        "Se aplican las limpiezas y formateos al data set de validación y se crea el Early Sttoping que permitira detener el entrenamiento en caso de que el modelo no presente mejore o empiece a perder rendimiento en las distintas epocas."
      ],
      "metadata": {
        "id": "JYURiVe7jC-T"
      },
      "id": "JYURiVe7jC-T"
    },
    {
      "cell_type": "code",
      "source": [
        "encoder_input_train, decoder_input_train, target_train = prepare_inputs_targets(secuencias, max_len)\n",
        "encoder_input_val, decoder_input_val, target_val = prepare_inputs_targets(secuencias_validation, max_len)\n",
        "encoder_input_test, decoder_input_test, target_test = prepare_inputs_targets(secuencias_test, max_len)\n",
        "\n",
        "target_train[0:2]"
      ],
      "metadata": {
        "colab": {
          "base_uri": "https://localhost:8080/"
        },
        "id": "r7M632u3B3kW",
        "outputId": "70ede532-812d-47e9-f192-7b7bc1c2d09a"
      },
      "id": "r7M632u3B3kW",
      "execution_count": null,
      "outputs": [
        {
          "output_type": "execute_result",
          "data": {
            "text/plain": [
              "array([[   6,   51,   18,   14, 4139,   33,   14,   66,   44,   49,   20,\n",
              "          78, 2141,    4,    3,    0,    0,    0,    0,    0,    0,    0,\n",
              "           0,    0,    0,    0,    0,    0,    0,    0,    0,    0,    0,\n",
              "           0,    0,    0,    0,    0,    0,    0,    0,    0,    0,    0,\n",
              "           0,    0,    0,    0,    0,    0,    0,    0,    0,    0,    0,\n",
              "           0,    0,    0,    0,    0,    0,    0,    0,    0,    0,    0,\n",
              "           0,    0,    0,    0,    0,    0,    0,    0,    0,    0,    0,\n",
              "           0,    0,    0,    0,    0,    0],\n",
              "       [  12,   40,  100,  133,   10, 1100,    4,    3,    0,    0,    0,\n",
              "           0,    0,    0,    0,    0,    0,    0,    0,    0,    0,    0,\n",
              "           0,    0,    0,    0,    0,    0,    0,    0,    0,    0,    0,\n",
              "           0,    0,    0,    0,    0,    0,    0,    0,    0,    0,    0,\n",
              "           0,    0,    0,    0,    0,    0,    0,    0,    0,    0,    0,\n",
              "           0,    0,    0,    0,    0,    0,    0,    0,    0,    0,    0,\n",
              "           0,    0,    0,    0,    0,    0,    0,    0,    0,    0,    0,\n",
              "           0,    0,    0,    0,    0,    0]], dtype=int32)"
            ]
          },
          "metadata": {},
          "execution_count": 247
        }
      ]
    },
    {
      "cell_type": "code",
      "source": [
        "encoder_input_train[0:2]"
      ],
      "metadata": {
        "colab": {
          "base_uri": "https://localhost:8080/"
        },
        "id": "hq_fPtbCCeIj",
        "outputId": "42054d44-c7b5-43f1-8a6d-1ea9d1092566"
      },
      "id": "hq_fPtbCCeIj",
      "execution_count": null,
      "outputs": [
        {
          "output_type": "execute_result",
          "data": {
            "text/plain": [
              "array([[   2,  155,    5,  958,    5,   37,   39,   79,   20,   11,  211,\n",
              "        3315,  167,  303,    8,    3,    0,    0,    0,    0,    0,    0,\n",
              "           0,    0,    0,    0,    0,    0,    0,    0,    0,    0,    0,\n",
              "           0,    0,    0,    0,    0,    0,    0,    0,    0,    0,    0,\n",
              "           0,    0,    0,    0,    0,    0,    0,    0,    0,    0,    0,\n",
              "           0,    0,    0,    0,    0,    0,    0,    0,    0,    0,    0,\n",
              "           0,    0,    0,    0,    0,    0,    0,    0,    0,    0,    0,\n",
              "           0,    0,    0,    0,    0,    0],\n",
              "       [   2,   23,   21,    6,  208,    8,    3,    0,    0,    0,    0,\n",
              "           0,    0,    0,    0,    0,    0,    0,    0,    0,    0,    0,\n",
              "           0,    0,    0,    0,    0,    0,    0,    0,    0,    0,    0,\n",
              "           0,    0,    0,    0,    0,    0,    0,    0,    0,    0,    0,\n",
              "           0,    0,    0,    0,    0,    0,    0,    0,    0,    0,    0,\n",
              "           0,    0,    0,    0,    0,    0,    0,    0,    0,    0,    0,\n",
              "           0,    0,    0,    0,    0,    0,    0,    0,    0,    0,    0,\n",
              "           0,    0,    0,    0,    0,    0]], dtype=int32)"
            ]
          },
          "metadata": {},
          "execution_count": 248
        }
      ]
    },
    {
      "cell_type": "code",
      "source": [
        "encoder_input_val[0:2]"
      ],
      "metadata": {
        "colab": {
          "base_uri": "https://localhost:8080/"
        },
        "id": "-JUIU1GsLHem",
        "outputId": "3f64c0d1-5827-4a55-c3d2-0ec260297649"
      },
      "id": "-JUIU1GsLHem",
      "execution_count": null,
      "outputs": [
        {
          "output_type": "execute_result",
          "data": {
            "text/plain": [
              "array([[   2,  159,    5,  990,    5,   37,   40,   82,   20,   11,  210,\n",
              "        3219,  168,  313,    8,    3,    0,    0,    0,    0,    0,    0,\n",
              "           0,    0,    0,    0,    0,    0,    0,    0,    0,    0,    0,\n",
              "           0,    0,    0,    0,    0,    0,    0,    0,    0,    0,    0,\n",
              "           0,    0,    0,    0,    0,    0,    0,    0,    0,    0,    0,\n",
              "           0,    0,    0,    0,    0,    0,    0,    0,    0,    0,    0,\n",
              "           0,    0,    0,    0,    0,    0,    0,    0,    0,    0,    0,\n",
              "           0,    0,    0,    0,    0,    0],\n",
              "       [   2,   24,   21,    6,  212,    8,    3,    0,    0,    0,    0,\n",
              "           0,    0,    0,    0,    0,    0,    0,    0,    0,    0,    0,\n",
              "           0,    0,    0,    0,    0,    0,    0,    0,    0,    0,    0,\n",
              "           0,    0,    0,    0,    0,    0,    0,    0,    0,    0,    0,\n",
              "           0,    0,    0,    0,    0,    0,    0,    0,    0,    0,    0,\n",
              "           0,    0,    0,    0,    0,    0,    0,    0,    0,    0,    0,\n",
              "           0,    0,    0,    0,    0,    0,    0,    0,    0,    0,    0,\n",
              "           0,    0,    0,    0,    0,    0]], dtype=int32)"
            ]
          },
          "metadata": {},
          "execution_count": 249
        }
      ]
    },
    {
      "cell_type": "markdown",
      "source": [
        "Se realiza una impresión del formato del encoder, decoder y target para re verificar que el formato este correcto, deben ser secuencias tokenizadas."
      ],
      "metadata": {
        "id": "iG-5BJsnjNnm"
      },
      "id": "iG-5BJsnjNnm"
    },
    {
      "cell_type": "code",
      "source": [
        "history = {}\n",
        "\n",
        "history[\"model 1\"] = model.fit(\n",
        "    x=[encoder_input_train, decoder_input_train],  # inputs al modelo\n",
        "    y=target_train,                         # etiquetas esperadas\n",
        "    batch_size=32,\n",
        "    epochs=20,\n",
        "    #validation_data=([encoder_input_test, decoder_input_test], target_test),\n",
        "    #validation_split=0.1,\n",
        "    callbacks=[early_stop]\n",
        ")"
      ],
      "metadata": {
        "id": "5_-u6J97KXX5",
        "colab": {
          "base_uri": "https://localhost:8080/"
        },
        "outputId": "529d4d00-13ec-4ab6-8885-44039492d386"
      },
      "id": "5_-u6J97KXX5",
      "execution_count": null,
      "outputs": [
        {
          "output_type": "stream",
          "name": "stdout",
          "text": [
            "Epoch 1/20\n",
            "\u001b[1m2251/2251\u001b[0m \u001b[32m━━━━━━━━━━━━━━━━━━━━\u001b[0m\u001b[37m\u001b[0m \u001b[1m57s\u001b[0m 16ms/step - accuracy: 0.9075 - loss: 1.0466\n",
            "Epoch 2/20\n",
            "\u001b[1m2251/2251\u001b[0m \u001b[32m━━━━━━━━━━━━━━━━━━━━\u001b[0m\u001b[37m\u001b[0m \u001b[1m20s\u001b[0m 9ms/step - accuracy: 0.9232 - loss: 0.4528\n",
            "Epoch 3/20\n",
            "\u001b[1m2251/2251\u001b[0m \u001b[32m━━━━━━━━━━━━━━━━━━━━\u001b[0m\u001b[37m\u001b[0m \u001b[1m20s\u001b[0m 9ms/step - accuracy: 0.9246 - loss: 0.4272\n",
            "Epoch 4/20\n",
            "\u001b[1m2251/2251\u001b[0m \u001b[32m━━━━━━━━━━━━━━━━━━━━\u001b[0m\u001b[37m\u001b[0m \u001b[1m20s\u001b[0m 9ms/step - accuracy: 0.9261 - loss: 0.4078\n",
            "Epoch 5/20\n",
            "\u001b[1m2251/2251\u001b[0m \u001b[32m━━━━━━━━━━━━━━━━━━━━\u001b[0m\u001b[37m\u001b[0m \u001b[1m20s\u001b[0m 9ms/step - accuracy: 0.9270 - loss: 0.3928\n"
          ]
        }
      ]
    },
    {
      "cell_type": "code",
      "source": [
        "def predict_sequence(model, tokenizer, input_text, max_len):\n",
        "    # 1. Tokenizar la entrada\n",
        "    input_seq = tokenizer.texts_to_sequences([input_text])\n",
        "    input_seq = tf.keras.preprocessing.sequence.pad_sequences(input_seq, maxlen=max_len, padding='post')\n",
        "\n",
        "    # 2. Preparar entrada del decoder (comienza con el token <start>)\n",
        "    start_token = tokenizer.word_index.get('<start>', 1)  # 1 si no está definido\n",
        "    end_token = tokenizer.word_index.get('<end>', 2)\n",
        "\n",
        "    decoder_input = [start_token]\n",
        "\n",
        "    for _ in range(max_len):\n",
        "        # Pad decoder_input a max_len\n",
        "        decoder_input_padded = tf.keras.preprocessing.sequence.pad_sequences(\n",
        "            [decoder_input], maxlen=max_len, padding='post'\n",
        "        )\n",
        "\n",
        "        # 3. Hacer predicción\n",
        "        predictions = model.predict([input_seq, decoder_input_padded], verbose=0)\n",
        "        next_token = np.argmax(predictions[0, len(decoder_input)-1, :])\n",
        "\n",
        "        # 4. Detener si se predice el token <end>\n",
        "        if next_token == end_token:\n",
        "            break\n",
        "\n",
        "        decoder_input.append(next_token)\n",
        "\n",
        "    # 5. Convertir tokens a texto\n",
        "    predicted_tokens = decoder_input[1:]  # quitar el <start>\n",
        "    predicted_words = tokenizer.sequences_to_texts([predicted_tokens])[0]\n",
        "\n",
        "    return predicted_words"
      ],
      "metadata": {
        "id": "XmOtadxi9DCQ"
      },
      "id": "XmOtadxi9DCQ",
      "execution_count": null,
      "outputs": []
    },
    {
      "cell_type": "code",
      "source": [
        "def generar_respuestas_test(model, tokenizer, encoder_input_test, decoder_input_test, target_test, max_len, num_muestras=5):\n",
        "  predicciones = {}\n",
        "\n",
        "  for i in range(num_muestras):\n",
        "      # Input original (formato texto)\n",
        "      input_tokens = encoder_input_test[i]\n",
        "      input_text = tokenizer.sequences_to_texts([input_tokens])[0]\n",
        "\n",
        "      # Target esperado (formato texto)\n",
        "      target_tokens = target_test[i]\n",
        "      reference_text = tokenizer.sequences_to_texts([target_tokens])[0]\n",
        "\n",
        "      # Predicción del modelo\n",
        "      pred_text = predict_sequence(model, tokenizer, input_text, max_len)\n",
        "\n",
        "      print(f\"\"\"🔹 Ejemplo {i + 1}\n",
        "Input:      {input_text.strip()}\n",
        "Reference:  {reference_text.strip()}\n",
        "Response:   {pred_text.strip()}\n",
        "\"\"\")\n",
        "\n",
        "      predicciones[f\"muestra {i}\"] = {\n",
        "          \"referencia\": reference_text,\n",
        "          \"prediccion\": pred_text\n",
        "      }\n",
        "\n",
        "  return predicciones"
      ],
      "metadata": {
        "id": "WecadAKuUfm_"
      },
      "id": "WecadAKuUfm_",
      "execution_count": null,
      "outputs": []
    },
    {
      "cell_type": "markdown",
      "source": [
        "Se generan 2 funciones predict_sequence y generar_respuestas_test, una usara los datos de test y otra inputs generados de manera artificial para evaluar el modelo con datos que forman la misma estrctura del entrenamiento y otros que cumple con el formato pero son completamente desconocidos."
      ],
      "metadata": {
        "id": "kQba4S-Nj2VF"
      },
      "id": "kQba4S-Nj2VF"
    },
    {
      "cell_type": "code",
      "source": [
        "pred = generar_respuestas_test(\n",
        "    model=model,\n",
        "    tokenizer=tokenizer,\n",
        "    encoder_input_test=encoder_input_test,\n",
        "    decoder_input_test=decoder_input_test,\n",
        "    target_test=target_test,\n",
        "    max_len=max_len,\n",
        "    num_muestras=5  # o las que quieras\n",
        ")"
      ],
      "metadata": {
        "colab": {
          "base_uri": "https://localhost:8080/"
        },
        "id": "L47rWiXKxfVP",
        "outputId": "cacd5d24-11e6-496c-b4ea-b3b68787011f"
      },
      "id": "L47rWiXKxfVP",
      "execution_count": null,
      "outputs": [
        {
          "output_type": "stream",
          "name": "stdout",
          "text": [
            "🔹 Ejemplo 1\n",
            "Input:      <start> say , jim , how about going for a few beers after dinner ? <end> <pad> <pad> <pad> <pad> <pad> <pad> <pad> <pad> <pad> <pad> <pad> <pad> <pad> <pad> <pad> <pad> <pad> <pad> <pad> <pad> <pad> <pad> <pad> <pad> <pad> <pad> <pad> <pad> <pad> <pad> <pad> <pad> <pad> <pad> <pad> <pad> <pad> <pad> <pad> <pad> <pad> <pad> <pad> <pad> <pad> <pad> <pad> <pad> <pad> <pad> <pad> <pad> <pad> <pad> <pad> <pad> <pad> <pad> <pad> <pad> <pad> <pad> <pad> <pad> <pad> <pad> <pad>\n",
            "Reference:  you know that is tempting but is really not good for our fitness . <end> <pad> <pad> <pad> <pad> <pad> <pad> <pad> <pad> <pad> <pad> <pad> <pad> <pad> <pad> <pad> <pad> <pad> <pad> <pad> <pad> <pad> <pad> <pad> <pad> <pad> <pad> <pad> <pad> <pad> <pad> <pad> <pad> <pad> <pad> <pad> <pad> <pad> <pad> <pad> <pad> <pad> <pad> <pad> <pad> <pad> <pad> <pad> <pad> <pad> <pad> <pad> <pad> <pad> <pad> <pad> <pad> <pad> <pad> <pad> <pad> <pad> <pad> <pad> <pad> <pad> <pad> <pad> <pad>\n",
            "Response:   i am her .\n",
            "\n",
            "🔹 Ejemplo 2\n",
            "Input:      <start> what do you mean ? <end> <pad> <pad> <pad> <pad> <pad> <pad> <pad> <pad> <pad> <pad> <pad> <pad> <pad> <pad> <pad> <pad> <pad> <pad> <pad> <pad> <pad> <pad> <pad> <pad> <pad> <pad> <pad> <pad> <pad> <pad> <pad> <pad> <pad> <pad> <pad> <pad> <pad> <pad> <pad> <pad> <pad> <pad> <pad> <pad> <pad> <pad> <pad> <pad> <pad> <pad> <pad> <pad> <pad> <pad> <pad> <pad> <pad> <pad> <pad> <pad> <pad> <pad> <pad> <pad> <pad> <pad> <pad> <pad> <pad> <pad> <pad> <pad> <pad> <pad> <pad> <pad>\n",
            "Reference:  it will help us to relax . <end> <pad> <pad> <pad> <pad> <pad> <pad> <pad> <pad> <pad> <pad> <pad> <pad> <pad> <pad> <pad> <pad> <pad> <pad> <pad> <pad> <pad> <pad> <pad> <pad> <pad> <pad> <pad> <pad> <pad> <pad> <pad> <pad> <pad> <pad> <pad> <pad> <pad> <pad> <pad> <pad> <pad> <pad> <pad> <pad> <pad> <pad> <pad> <pad> <pad> <pad> <pad> <pad> <pad> <pad> <pad> <pad> <pad> <pad> <pad> <pad> <pad> <pad> <pad> <pad> <pad> <pad> <pad> <pad> <pad> <pad> <pad> <pad> <pad> <pad> <pad>\n",
            "Response:   i am her .\n",
            "\n",
            "🔹 Ejemplo 3\n",
            "Input:      <start> do you really think so ? <end> <pad> <pad> <pad> <pad> <pad> <pad> <pad> <pad> <pad> <pad> <pad> <pad> <pad> <pad> <pad> <pad> <pad> <pad> <pad> <pad> <pad> <pad> <pad> <pad> <pad> <pad> <pad> <pad> <pad> <pad> <pad> <pad> <pad> <pad> <pad> <pad> <pad> <pad> <pad> <pad> <pad> <pad> <pad> <pad> <pad> <pad> <pad> <pad> <pad> <pad> <pad> <pad> <pad> <pad> <pad> <pad> <pad> <pad> <pad> <pad> <pad> <pad> <pad> <pad> <pad> <pad> <pad> <pad> <pad> <pad> <pad> <pad> <pad> <pad> <pad>\n",
            "Reference:  i don't . <end> <pad> <pad> <pad> <pad> <pad> <pad> <pad> <pad> <pad> <pad> <pad> <pad> <pad> <pad> <pad> <pad> <pad> <pad> <pad> <pad> <pad> <pad> <pad> <pad> <pad> <pad> <pad> <pad> <pad> <pad> <pad> <pad> <pad> <pad> <pad> <pad> <pad> <pad> <pad> <pad> <pad> <pad> <pad> <pad> <pad> <pad> <pad> <pad> <pad> <pad> <pad> <pad> <pad> <pad> <pad> <pad> <pad> <pad> <pad> <pad> <pad> <pad> <pad> <pad> <pad> <pad> <pad> <pad> <pad> <pad> <pad> <pad> <pad> <pad> <pad> <pad> <pad> <pad> <pad>\n",
            "Response:   i am her .\n",
            "\n",
            "🔹 Ejemplo 4\n",
            "Input:      <start> it will just make us fat and act silly . <end> <pad> <pad> <pad> <pad> <pad> <pad> <pad> <pad> <pad> <pad> <pad> <pad> <pad> <pad> <pad> <pad> <pad> <pad> <pad> <pad> <pad> <pad> <pad> <pad> <pad> <pad> <pad> <pad> <pad> <pad> <pad> <pad> <pad> <pad> <pad> <pad> <pad> <pad> <pad> <pad> <pad> <pad> <pad> <pad> <pad> <pad> <pad> <pad> <pad> <pad> <pad> <pad> <pad> <pad> <pad> <pad> <pad> <pad> <pad> <pad> <pad> <pad> <pad> <pad> <pad> <pad> <pad> <pad> <pad> <pad> <pad>\n",
            "Reference:  remember last time ? <end> <pad> <pad> <pad> <pad> <pad> <pad> <pad> <pad> <pad> <pad> <pad> <pad> <pad> <pad> <pad> <pad> <pad> <pad> <pad> <pad> <pad> <pad> <pad> <pad> <pad> <pad> <pad> <pad> <pad> <pad> <pad> <pad> <pad> <pad> <pad> <pad> <pad> <pad> <pad> <pad> <pad> <pad> <pad> <pad> <pad> <pad> <pad> <pad> <pad> <pad> <pad> <pad> <pad> <pad> <pad> <pad> <pad> <pad> <pad> <pad> <pad> <pad> <pad> <pad> <pad> <pad> <pad> <pad> <pad> <pad> <pad> <pad> <pad> <pad> <pad> <pad> <pad> <pad>\n",
            "Response:   i am her .\n",
            "\n",
            "🔹 Ejemplo 5\n",
            "Input:      <start> i guess you are right. <end> <pad> <pad> <pad> <pad> <pad> <pad> <pad> <pad> <pad> <pad> <pad> <pad> <pad> <pad> <pad> <pad> <pad> <pad> <pad> <pad> <pad> <pad> <pad> <pad> <pad> <pad> <pad> <pad> <pad> <pad> <pad> <pad> <pad> <pad> <pad> <pad> <pad> <pad> <pad> <pad> <pad> <pad> <pad> <pad> <pad> <pad> <pad> <pad> <pad> <pad> <pad> <pad> <pad> <pad> <pad> <pad> <pad> <pad> <pad> <pad> <pad> <pad> <pad> <pad> <pad> <pad> <pad> <pad> <pad> <pad> <pad> <pad> <pad> <pad> <pad> <pad>\n",
            "Reference:  but what shall we do ? <end> <pad> <pad> <pad> <pad> <pad> <pad> <pad> <pad> <pad> <pad> <pad> <pad> <pad> <pad> <pad> <pad> <pad> <pad> <pad> <pad> <pad> <pad> <pad> <pad> <pad> <pad> <pad> <pad> <pad> <pad> <pad> <pad> <pad> <pad> <pad> <pad> <pad> <pad> <pad> <pad> <pad> <pad> <pad> <pad> <pad> <pad> <pad> <pad> <pad> <pad> <pad> <pad> <pad> <pad> <pad> <pad> <pad> <pad> <pad> <pad> <pad> <pad> <pad> <pad> <pad> <pad> <pad> <pad> <pad> <pad> <pad> <pad> <pad> <pad> <pad> <pad>\n",
            "Response:   i am her .\n",
            "\n"
          ]
        }
      ]
    },
    {
      "cell_type": "code",
      "source": [
        "inputs = [\n",
        "    \"hi, i'm luis, what's your name?\",\n",
        "    \"how are you today?\",\n",
        "    \"do you want some weed?\"\n",
        "]\n",
        "\n",
        "preds = {}\n",
        "\n",
        "for index, input in enumerate(inputs):\n",
        "  pred = predict_sequence(model, tokenizer, input, max_len)\n",
        "  print(\"\"\"\n",
        "  Input enviado: {}\\n\n",
        "  Predicción recibida: {}\n",
        "  \"\"\".format(input, pred))"
      ],
      "metadata": {
        "colab": {
          "base_uri": "https://localhost:8080/"
        },
        "id": "StBiMIVa9EB6",
        "outputId": "2a34215a-83ff-4627-db2f-6871aeae63ab"
      },
      "id": "StBiMIVa9EB6",
      "execution_count": null,
      "outputs": [
        {
          "output_type": "stream",
          "name": "stdout",
          "text": [
            "\n",
            "  Input enviado: hi, i'm luis, what's your name?\n",
            "\n",
            "  Predicción recibida: i am her .\n",
            "  \n",
            "\n",
            "  Input enviado: how are you today?\n",
            "\n",
            "  Predicción recibida: i am her .\n",
            "  \n",
            "\n",
            "  Input enviado: do you want some weed?\n",
            "\n",
            "  Predicción recibida: i am her .\n",
            "  \n"
          ]
        }
      ]
    },
    {
      "cell_type": "markdown",
      "source": [
        "Se puede ver que el modelo tiende a responder, con los datos de test, con la etiqueta pad y con los datos artificiales responde con la misma frase \"i am her .\" indicando que posee sobre ajuste."
      ],
      "metadata": {
        "id": "HVwmK85QkJLr"
      },
      "id": "HVwmK85QkJLr"
    },
    {
      "cell_type": "code",
      "source": [
        "# --- Compilar modelo 2---\n",
        "model_2 = build_transformer(vocab_size, max_len, embed_dim=512, num_heads=8, ff_dim=1024, dropout=0.5)\n",
        "model_2.compile(optimizer='adam', loss='sparse_categorical_crossentropy', metrics=['accuracy'])\n",
        "model_2.summary()"
      ],
      "metadata": {
        "colab": {
          "base_uri": "https://localhost:8080/",
          "height": 561
        },
        "id": "hRs3f0U-xLAH",
        "outputId": "f3865fbe-696d-4ab0-8278-8e536ff8d12e"
      },
      "id": "hRs3f0U-xLAH",
      "execution_count": null,
      "outputs": [
        {
          "output_type": "stream",
          "name": "stdout",
          "text": [
            "(None, 83, 20698)\n"
          ]
        },
        {
          "output_type": "display_data",
          "data": {
            "text/plain": [
              "\u001b[1mModel: \"functional_47\"\u001b[0m\n"
            ],
            "text/html": [
              "<pre style=\"white-space:pre;overflow-x:auto;line-height:normal;font-family:Menlo,'DejaVu Sans Mono',consolas,'Courier New',monospace\"><span style=\"font-weight: bold\">Model: \"functional_47\"</span>\n",
              "</pre>\n"
            ]
          },
          "metadata": {}
        },
        {
          "output_type": "display_data",
          "data": {
            "text/plain": [
              "┏━━━━━━━━━━━━━━━━━━━━━┳━━━━━━━━━━━━━━━━━━━┳━━━━━━━━━━━━┳━━━━━━━━━━━━━━━━━━━┓\n",
              "┃\u001b[1m \u001b[0m\u001b[1mLayer (type)       \u001b[0m\u001b[1m \u001b[0m┃\u001b[1m \u001b[0m\u001b[1mOutput Shape     \u001b[0m\u001b[1m \u001b[0m┃\u001b[1m \u001b[0m\u001b[1m   Param #\u001b[0m\u001b[1m \u001b[0m┃\u001b[1m \u001b[0m\u001b[1mConnected to     \u001b[0m\u001b[1m \u001b[0m┃\n",
              "┡━━━━━━━━━━━━━━━━━━━━━╇━━━━━━━━━━━━━━━━━━━╇━━━━━━━━━━━━╇━━━━━━━━━━━━━━━━━━━┩\n",
              "│ input_layer_75      │ (\u001b[38;5;45mNone\u001b[0m, \u001b[38;5;34m83\u001b[0m)        │          \u001b[38;5;34m0\u001b[0m │ -                 │\n",
              "│ (\u001b[38;5;33mInputLayer\u001b[0m)        │                   │            │                   │\n",
              "├─────────────────────┼───────────────────┼────────────┼───────────────────┤\n",
              "│ input_layer_76      │ (\u001b[38;5;45mNone\u001b[0m, \u001b[38;5;34m83\u001b[0m)        │          \u001b[38;5;34m0\u001b[0m │ -                 │\n",
              "│ (\u001b[38;5;33mInputLayer\u001b[0m)        │                   │            │                   │\n",
              "├─────────────────────┼───────────────────┼────────────┼───────────────────┤\n",
              "│ embedding_30        │ (\u001b[38;5;45mNone\u001b[0m, \u001b[38;5;34m83\u001b[0m, \u001b[38;5;34m512\u001b[0m)   │ \u001b[38;5;34m10,597,376\u001b[0m │ input_layer_75[\u001b[38;5;34m0\u001b[0m… │\n",
              "│ (\u001b[38;5;33mEmbedding\u001b[0m)         │                   │            │                   │\n",
              "├─────────────────────┼───────────────────┼────────────┼───────────────────┤\n",
              "│ embedding_31        │ (\u001b[38;5;45mNone\u001b[0m, \u001b[38;5;34m83\u001b[0m, \u001b[38;5;34m512\u001b[0m)   │ \u001b[38;5;34m10,597,376\u001b[0m │ input_layer_76[\u001b[38;5;34m0\u001b[0m… │\n",
              "│ (\u001b[38;5;33mEmbedding\u001b[0m)         │                   │            │                   │\n",
              "├─────────────────────┼───────────────────┼────────────┼───────────────────┤\n",
              "│ add_105 (\u001b[38;5;33mAdd\u001b[0m)       │ (\u001b[38;5;45mNone\u001b[0m, \u001b[38;5;34m83\u001b[0m, \u001b[38;5;34m512\u001b[0m)   │          \u001b[38;5;34m0\u001b[0m │ embedding_30[\u001b[38;5;34m0\u001b[0m][\u001b[38;5;34m…\u001b[0m │\n",
              "├─────────────────────┼───────────────────┼────────────┼───────────────────┤\n",
              "│ add_106 (\u001b[38;5;33mAdd\u001b[0m)       │ (\u001b[38;5;45mNone\u001b[0m, \u001b[38;5;34m83\u001b[0m, \u001b[38;5;34m512\u001b[0m)   │          \u001b[38;5;34m0\u001b[0m │ embedding_31[\u001b[38;5;34m0\u001b[0m][\u001b[38;5;34m…\u001b[0m │\n",
              "├─────────────────────┼───────────────────┼────────────┼───────────────────┤\n",
              "│ functional_45       │ (\u001b[38;5;45mNone\u001b[0m, \u001b[38;5;34m83\u001b[0m, \u001b[38;5;34m512\u001b[0m)   │  \u001b[38;5;34m9,453,568\u001b[0m │ add_105[\u001b[38;5;34m0\u001b[0m][\u001b[38;5;34m0\u001b[0m]     │\n",
              "│ (\u001b[38;5;33mFunctional\u001b[0m)        │                   │            │                   │\n",
              "├─────────────────────┼───────────────────┼────────────┼───────────────────┤\n",
              "│ functional_46       │ (\u001b[38;5;45mNone\u001b[0m, \u001b[38;5;34m83\u001b[0m, \u001b[38;5;34m512\u001b[0m)   │ \u001b[38;5;34m17,856,000\u001b[0m │ add_106[\u001b[38;5;34m0\u001b[0m][\u001b[38;5;34m0\u001b[0m],    │\n",
              "│ (\u001b[38;5;33mFunctional\u001b[0m)        │                   │            │ functional_45[\u001b[38;5;34m0\u001b[0m]… │\n",
              "├─────────────────────┼───────────────────┼────────────┼───────────────────┤\n",
              "│ dense_79 (\u001b[38;5;33mDense\u001b[0m)    │ (\u001b[38;5;45mNone\u001b[0m, \u001b[38;5;34m83\u001b[0m, \u001b[38;5;34m20698\u001b[0m) │ \u001b[38;5;34m10,618,074\u001b[0m │ functional_46[\u001b[38;5;34m0\u001b[0m]… │\n",
              "└─────────────────────┴───────────────────┴────────────┴───────────────────┘\n"
            ],
            "text/html": [
              "<pre style=\"white-space:pre;overflow-x:auto;line-height:normal;font-family:Menlo,'DejaVu Sans Mono',consolas,'Courier New',monospace\">┏━━━━━━━━━━━━━━━━━━━━━┳━━━━━━━━━━━━━━━━━━━┳━━━━━━━━━━━━┳━━━━━━━━━━━━━━━━━━━┓\n",
              "┃<span style=\"font-weight: bold\"> Layer (type)        </span>┃<span style=\"font-weight: bold\"> Output Shape      </span>┃<span style=\"font-weight: bold\">    Param # </span>┃<span style=\"font-weight: bold\"> Connected to      </span>┃\n",
              "┡━━━━━━━━━━━━━━━━━━━━━╇━━━━━━━━━━━━━━━━━━━╇━━━━━━━━━━━━╇━━━━━━━━━━━━━━━━━━━┩\n",
              "│ input_layer_75      │ (<span style=\"color: #00d7ff; text-decoration-color: #00d7ff\">None</span>, <span style=\"color: #00af00; text-decoration-color: #00af00\">83</span>)        │          <span style=\"color: #00af00; text-decoration-color: #00af00\">0</span> │ -                 │\n",
              "│ (<span style=\"color: #0087ff; text-decoration-color: #0087ff\">InputLayer</span>)        │                   │            │                   │\n",
              "├─────────────────────┼───────────────────┼────────────┼───────────────────┤\n",
              "│ input_layer_76      │ (<span style=\"color: #00d7ff; text-decoration-color: #00d7ff\">None</span>, <span style=\"color: #00af00; text-decoration-color: #00af00\">83</span>)        │          <span style=\"color: #00af00; text-decoration-color: #00af00\">0</span> │ -                 │\n",
              "│ (<span style=\"color: #0087ff; text-decoration-color: #0087ff\">InputLayer</span>)        │                   │            │                   │\n",
              "├─────────────────────┼───────────────────┼────────────┼───────────────────┤\n",
              "│ embedding_30        │ (<span style=\"color: #00d7ff; text-decoration-color: #00d7ff\">None</span>, <span style=\"color: #00af00; text-decoration-color: #00af00\">83</span>, <span style=\"color: #00af00; text-decoration-color: #00af00\">512</span>)   │ <span style=\"color: #00af00; text-decoration-color: #00af00\">10,597,376</span> │ input_layer_75[<span style=\"color: #00af00; text-decoration-color: #00af00\">0</span>… │\n",
              "│ (<span style=\"color: #0087ff; text-decoration-color: #0087ff\">Embedding</span>)         │                   │            │                   │\n",
              "├─────────────────────┼───────────────────┼────────────┼───────────────────┤\n",
              "│ embedding_31        │ (<span style=\"color: #00d7ff; text-decoration-color: #00d7ff\">None</span>, <span style=\"color: #00af00; text-decoration-color: #00af00\">83</span>, <span style=\"color: #00af00; text-decoration-color: #00af00\">512</span>)   │ <span style=\"color: #00af00; text-decoration-color: #00af00\">10,597,376</span> │ input_layer_76[<span style=\"color: #00af00; text-decoration-color: #00af00\">0</span>… │\n",
              "│ (<span style=\"color: #0087ff; text-decoration-color: #0087ff\">Embedding</span>)         │                   │            │                   │\n",
              "├─────────────────────┼───────────────────┼────────────┼───────────────────┤\n",
              "│ add_105 (<span style=\"color: #0087ff; text-decoration-color: #0087ff\">Add</span>)       │ (<span style=\"color: #00d7ff; text-decoration-color: #00d7ff\">None</span>, <span style=\"color: #00af00; text-decoration-color: #00af00\">83</span>, <span style=\"color: #00af00; text-decoration-color: #00af00\">512</span>)   │          <span style=\"color: #00af00; text-decoration-color: #00af00\">0</span> │ embedding_30[<span style=\"color: #00af00; text-decoration-color: #00af00\">0</span>][<span style=\"color: #00af00; text-decoration-color: #00af00\">…</span> │\n",
              "├─────────────────────┼───────────────────┼────────────┼───────────────────┤\n",
              "│ add_106 (<span style=\"color: #0087ff; text-decoration-color: #0087ff\">Add</span>)       │ (<span style=\"color: #00d7ff; text-decoration-color: #00d7ff\">None</span>, <span style=\"color: #00af00; text-decoration-color: #00af00\">83</span>, <span style=\"color: #00af00; text-decoration-color: #00af00\">512</span>)   │          <span style=\"color: #00af00; text-decoration-color: #00af00\">0</span> │ embedding_31[<span style=\"color: #00af00; text-decoration-color: #00af00\">0</span>][<span style=\"color: #00af00; text-decoration-color: #00af00\">…</span> │\n",
              "├─────────────────────┼───────────────────┼────────────┼───────────────────┤\n",
              "│ functional_45       │ (<span style=\"color: #00d7ff; text-decoration-color: #00d7ff\">None</span>, <span style=\"color: #00af00; text-decoration-color: #00af00\">83</span>, <span style=\"color: #00af00; text-decoration-color: #00af00\">512</span>)   │  <span style=\"color: #00af00; text-decoration-color: #00af00\">9,453,568</span> │ add_105[<span style=\"color: #00af00; text-decoration-color: #00af00\">0</span>][<span style=\"color: #00af00; text-decoration-color: #00af00\">0</span>]     │\n",
              "│ (<span style=\"color: #0087ff; text-decoration-color: #0087ff\">Functional</span>)        │                   │            │                   │\n",
              "├─────────────────────┼───────────────────┼────────────┼───────────────────┤\n",
              "│ functional_46       │ (<span style=\"color: #00d7ff; text-decoration-color: #00d7ff\">None</span>, <span style=\"color: #00af00; text-decoration-color: #00af00\">83</span>, <span style=\"color: #00af00; text-decoration-color: #00af00\">512</span>)   │ <span style=\"color: #00af00; text-decoration-color: #00af00\">17,856,000</span> │ add_106[<span style=\"color: #00af00; text-decoration-color: #00af00\">0</span>][<span style=\"color: #00af00; text-decoration-color: #00af00\">0</span>],    │\n",
              "│ (<span style=\"color: #0087ff; text-decoration-color: #0087ff\">Functional</span>)        │                   │            │ functional_45[<span style=\"color: #00af00; text-decoration-color: #00af00\">0</span>]… │\n",
              "├─────────────────────┼───────────────────┼────────────┼───────────────────┤\n",
              "│ dense_79 (<span style=\"color: #0087ff; text-decoration-color: #0087ff\">Dense</span>)    │ (<span style=\"color: #00d7ff; text-decoration-color: #00d7ff\">None</span>, <span style=\"color: #00af00; text-decoration-color: #00af00\">83</span>, <span style=\"color: #00af00; text-decoration-color: #00af00\">20698</span>) │ <span style=\"color: #00af00; text-decoration-color: #00af00\">10,618,074</span> │ functional_46[<span style=\"color: #00af00; text-decoration-color: #00af00\">0</span>]… │\n",
              "└─────────────────────┴───────────────────┴────────────┴───────────────────┘\n",
              "</pre>\n"
            ]
          },
          "metadata": {}
        },
        {
          "output_type": "display_data",
          "data": {
            "text/plain": [
              "\u001b[1m Total params: \u001b[0m\u001b[38;5;34m59,122,394\u001b[0m (225.53 MB)\n"
            ],
            "text/html": [
              "<pre style=\"white-space:pre;overflow-x:auto;line-height:normal;font-family:Menlo,'DejaVu Sans Mono',consolas,'Courier New',monospace\"><span style=\"font-weight: bold\"> Total params: </span><span style=\"color: #00af00; text-decoration-color: #00af00\">59,122,394</span> (225.53 MB)\n",
              "</pre>\n"
            ]
          },
          "metadata": {}
        },
        {
          "output_type": "display_data",
          "data": {
            "text/plain": [
              "\u001b[1m Trainable params: \u001b[0m\u001b[38;5;34m59,122,394\u001b[0m (225.53 MB)\n"
            ],
            "text/html": [
              "<pre style=\"white-space:pre;overflow-x:auto;line-height:normal;font-family:Menlo,'DejaVu Sans Mono',consolas,'Courier New',monospace\"><span style=\"font-weight: bold\"> Trainable params: </span><span style=\"color: #00af00; text-decoration-color: #00af00\">59,122,394</span> (225.53 MB)\n",
              "</pre>\n"
            ]
          },
          "metadata": {}
        },
        {
          "output_type": "display_data",
          "data": {
            "text/plain": [
              "\u001b[1m Non-trainable params: \u001b[0m\u001b[38;5;34m0\u001b[0m (0.00 B)\n"
            ],
            "text/html": [
              "<pre style=\"white-space:pre;overflow-x:auto;line-height:normal;font-family:Menlo,'DejaVu Sans Mono',consolas,'Courier New',monospace\"><span style=\"font-weight: bold\"> Non-trainable params: </span><span style=\"color: #00af00; text-decoration-color: #00af00\">0</span> (0.00 B)\n",
              "</pre>\n"
            ]
          },
          "metadata": {}
        }
      ]
    },
    {
      "cell_type": "markdown",
      "source": [
        "Se compilo el modelo aumentando las dimensiones del embedding, para que vuelva los datos en tensores de 512 dimensiones, 8 cabezales para las multi head attention, 1024 unidades de memoria para las capas de la feed forward y un dropout del 50% para evitar mas el sobre ajuste."
      ],
      "metadata": {
        "id": "u2GQIKGBknTd"
      },
      "id": "u2GQIKGBknTd"
    },
    {
      "cell_type": "code",
      "source": [
        "history[\"model 2\"] = model_2.fit(\n",
        "    x=[encoder_input_train, decoder_input_train],  # inputs al modelo\n",
        "    y=target_train,                         # etiquetas esperadas\n",
        "    batch_size=32,\n",
        "    epochs=25,\n",
        "    #validation_split=0.1,\n",
        "    callbacks=[early_stop]\n",
        ")"
      ],
      "metadata": {
        "colab": {
          "base_uri": "https://localhost:8080/"
        },
        "id": "pghg1xXyyON-",
        "outputId": "7d64a48e-93f1-4622-e28b-bc3f399d47f3"
      },
      "id": "pghg1xXyyON-",
      "execution_count": null,
      "outputs": [
        {
          "output_type": "stream",
          "name": "stdout",
          "text": [
            "Epoch 1/25\n",
            "\u001b[1m2251/2251\u001b[0m \u001b[32m━━━━━━━━━━━━━━━━━━━━\u001b[0m\u001b[37m\u001b[0m \u001b[1m103s\u001b[0m 37ms/step - accuracy: 0.8976 - loss: 0.8295\n",
            "Epoch 2/25\n",
            "\u001b[1m2251/2251\u001b[0m \u001b[32m━━━━━━━━━━━━━━━━━━━━\u001b[0m\u001b[37m\u001b[0m \u001b[1m70s\u001b[0m 31ms/step - accuracy: 0.9119 - loss: 0.5639\n",
            "Epoch 3/25\n",
            "\u001b[1m2251/2251\u001b[0m \u001b[32m━━━━━━━━━━━━━━━━━━━━\u001b[0m\u001b[37m\u001b[0m \u001b[1m70s\u001b[0m 31ms/step - accuracy: 0.9129 - loss: 0.5485\n",
            "Epoch 4/25\n",
            "\u001b[1m2251/2251\u001b[0m \u001b[32m━━━━━━━━━━━━━━━━━━━━\u001b[0m\u001b[37m\u001b[0m \u001b[1m70s\u001b[0m 31ms/step - accuracy: 0.9143 - loss: 0.5337\n",
            "Epoch 5/25\n",
            "\u001b[1m2251/2251\u001b[0m \u001b[32m━━━━━━━━━━━━━━━━━━━━\u001b[0m\u001b[37m\u001b[0m \u001b[1m70s\u001b[0m 31ms/step - accuracy: 0.9150 - loss: 0.5264\n"
          ]
        }
      ]
    },
    {
      "cell_type": "code",
      "source": [
        "pred_2 =generar_respuestas_test(\n",
        "    model=model_2,\n",
        "    tokenizer=tokenizer,\n",
        "    encoder_input_test=encoder_input_test,\n",
        "    decoder_input_test=decoder_input_test,\n",
        "    target_test=target_test,\n",
        "    max_len=max_len,\n",
        "    num_muestras=5  # o las que quieras\n",
        ")"
      ],
      "metadata": {
        "id": "POHOnvRtXWMd",
        "colab": {
          "base_uri": "https://localhost:8080/"
        },
        "outputId": "1680b573-1497-49d2-b7ae-ef604748a4d0"
      },
      "id": "POHOnvRtXWMd",
      "execution_count": null,
      "outputs": [
        {
          "output_type": "stream",
          "name": "stdout",
          "text": [
            "🔹 Ejemplo 1\n",
            "Input:      <start> say , jim , how about going for a few beers after dinner ? <end> <pad> <pad> <pad> <pad> <pad> <pad> <pad> <pad> <pad> <pad> <pad> <pad> <pad> <pad> <pad> <pad> <pad> <pad> <pad> <pad> <pad> <pad> <pad> <pad> <pad> <pad> <pad> <pad> <pad> <pad> <pad> <pad> <pad> <pad> <pad> <pad> <pad> <pad> <pad> <pad> <pad> <pad> <pad> <pad> <pad> <pad> <pad> <pad> <pad> <pad> <pad> <pad> <pad> <pad> <pad> <pad> <pad> <pad> <pad> <pad> <pad> <pad> <pad> <pad> <pad> <pad> <pad>\n",
            "Reference:  you know that is tempting but is really not good for our fitness . <end> <pad> <pad> <pad> <pad> <pad> <pad> <pad> <pad> <pad> <pad> <pad> <pad> <pad> <pad> <pad> <pad> <pad> <pad> <pad> <pad> <pad> <pad> <pad> <pad> <pad> <pad> <pad> <pad> <pad> <pad> <pad> <pad> <pad> <pad> <pad> <pad> <pad> <pad> <pad> <pad> <pad> <pad> <pad> <pad> <pad> <pad> <pad> <pad> <pad> <pad> <pad> <pad> <pad> <pad> <pad> <pad> <pad> <pad> <pad> <pad> <pad> <pad> <pad> <pad> <pad> <pad> <pad> <pad>\n",
            "Response:   i i you you you you you you you you you you you you you you you you you you you you you you you you you you you you you you you you you you you you you you you you you you you you you you you you you you you you you you you you you you you you you you you you you you you you you you you you you you you you you you you you you\n",
            "\n",
            "🔹 Ejemplo 2\n",
            "Input:      <start> what do you mean ? <end> <pad> <pad> <pad> <pad> <pad> <pad> <pad> <pad> <pad> <pad> <pad> <pad> <pad> <pad> <pad> <pad> <pad> <pad> <pad> <pad> <pad> <pad> <pad> <pad> <pad> <pad> <pad> <pad> <pad> <pad> <pad> <pad> <pad> <pad> <pad> <pad> <pad> <pad> <pad> <pad> <pad> <pad> <pad> <pad> <pad> <pad> <pad> <pad> <pad> <pad> <pad> <pad> <pad> <pad> <pad> <pad> <pad> <pad> <pad> <pad> <pad> <pad> <pad> <pad> <pad> <pad> <pad> <pad> <pad> <pad> <pad> <pad> <pad> <pad> <pad> <pad>\n",
            "Reference:  it will help us to relax . <end> <pad> <pad> <pad> <pad> <pad> <pad> <pad> <pad> <pad> <pad> <pad> <pad> <pad> <pad> <pad> <pad> <pad> <pad> <pad> <pad> <pad> <pad> <pad> <pad> <pad> <pad> <pad> <pad> <pad> <pad> <pad> <pad> <pad> <pad> <pad> <pad> <pad> <pad> <pad> <pad> <pad> <pad> <pad> <pad> <pad> <pad> <pad> <pad> <pad> <pad> <pad> <pad> <pad> <pad> <pad> <pad> <pad> <pad> <pad> <pad> <pad> <pad> <pad> <pad> <pad> <pad> <pad> <pad> <pad> <pad> <pad> <pad> <pad> <pad> <pad>\n",
            "Response:   i i you you you you you you you you you you you you you you you you you you you you you you you you you you you you you you you you you you you you you you you you you you you you you you you you you you you you you you you you you you you you you you you you you you you you you you you you you you you you you you you you you\n",
            "\n",
            "🔹 Ejemplo 3\n",
            "Input:      <start> do you really think so ? <end> <pad> <pad> <pad> <pad> <pad> <pad> <pad> <pad> <pad> <pad> <pad> <pad> <pad> <pad> <pad> <pad> <pad> <pad> <pad> <pad> <pad> <pad> <pad> <pad> <pad> <pad> <pad> <pad> <pad> <pad> <pad> <pad> <pad> <pad> <pad> <pad> <pad> <pad> <pad> <pad> <pad> <pad> <pad> <pad> <pad> <pad> <pad> <pad> <pad> <pad> <pad> <pad> <pad> <pad> <pad> <pad> <pad> <pad> <pad> <pad> <pad> <pad> <pad> <pad> <pad> <pad> <pad> <pad> <pad> <pad> <pad> <pad> <pad> <pad> <pad>\n",
            "Reference:  i don't . <end> <pad> <pad> <pad> <pad> <pad> <pad> <pad> <pad> <pad> <pad> <pad> <pad> <pad> <pad> <pad> <pad> <pad> <pad> <pad> <pad> <pad> <pad> <pad> <pad> <pad> <pad> <pad> <pad> <pad> <pad> <pad> <pad> <pad> <pad> <pad> <pad> <pad> <pad> <pad> <pad> <pad> <pad> <pad> <pad> <pad> <pad> <pad> <pad> <pad> <pad> <pad> <pad> <pad> <pad> <pad> <pad> <pad> <pad> <pad> <pad> <pad> <pad> <pad> <pad> <pad> <pad> <pad> <pad> <pad> <pad> <pad> <pad> <pad> <pad> <pad> <pad> <pad> <pad> <pad>\n",
            "Response:   i i you you you you you you you you you you you you you you you you you you you you you you you you you you you you you you you you you you you you you you you you you you you you you you you you you you you you you you you you you you you you you you you you you you you you you you you you you you you you you you you you you\n",
            "\n",
            "🔹 Ejemplo 4\n",
            "Input:      <start> it will just make us fat and act silly . <end> <pad> <pad> <pad> <pad> <pad> <pad> <pad> <pad> <pad> <pad> <pad> <pad> <pad> <pad> <pad> <pad> <pad> <pad> <pad> <pad> <pad> <pad> <pad> <pad> <pad> <pad> <pad> <pad> <pad> <pad> <pad> <pad> <pad> <pad> <pad> <pad> <pad> <pad> <pad> <pad> <pad> <pad> <pad> <pad> <pad> <pad> <pad> <pad> <pad> <pad> <pad> <pad> <pad> <pad> <pad> <pad> <pad> <pad> <pad> <pad> <pad> <pad> <pad> <pad> <pad> <pad> <pad> <pad> <pad> <pad> <pad>\n",
            "Reference:  remember last time ? <end> <pad> <pad> <pad> <pad> <pad> <pad> <pad> <pad> <pad> <pad> <pad> <pad> <pad> <pad> <pad> <pad> <pad> <pad> <pad> <pad> <pad> <pad> <pad> <pad> <pad> <pad> <pad> <pad> <pad> <pad> <pad> <pad> <pad> <pad> <pad> <pad> <pad> <pad> <pad> <pad> <pad> <pad> <pad> <pad> <pad> <pad> <pad> <pad> <pad> <pad> <pad> <pad> <pad> <pad> <pad> <pad> <pad> <pad> <pad> <pad> <pad> <pad> <pad> <pad> <pad> <pad> <pad> <pad> <pad> <pad> <pad> <pad> <pad> <pad> <pad> <pad> <pad> <pad>\n",
            "Response:   i i you you you you you you you you you you you you you you you you you you you you you you you you you you you you you you you you you you you you you you you you you you you you you you you you you you you you you you you you you you you you you you you you you you you you you you you you you you you you you you you you you\n",
            "\n",
            "🔹 Ejemplo 5\n",
            "Input:      <start> i guess you are right. <end> <pad> <pad> <pad> <pad> <pad> <pad> <pad> <pad> <pad> <pad> <pad> <pad> <pad> <pad> <pad> <pad> <pad> <pad> <pad> <pad> <pad> <pad> <pad> <pad> <pad> <pad> <pad> <pad> <pad> <pad> <pad> <pad> <pad> <pad> <pad> <pad> <pad> <pad> <pad> <pad> <pad> <pad> <pad> <pad> <pad> <pad> <pad> <pad> <pad> <pad> <pad> <pad> <pad> <pad> <pad> <pad> <pad> <pad> <pad> <pad> <pad> <pad> <pad> <pad> <pad> <pad> <pad> <pad> <pad> <pad> <pad> <pad> <pad> <pad> <pad> <pad>\n",
            "Reference:  but what shall we do ? <end> <pad> <pad> <pad> <pad> <pad> <pad> <pad> <pad> <pad> <pad> <pad> <pad> <pad> <pad> <pad> <pad> <pad> <pad> <pad> <pad> <pad> <pad> <pad> <pad> <pad> <pad> <pad> <pad> <pad> <pad> <pad> <pad> <pad> <pad> <pad> <pad> <pad> <pad> <pad> <pad> <pad> <pad> <pad> <pad> <pad> <pad> <pad> <pad> <pad> <pad> <pad> <pad> <pad> <pad> <pad> <pad> <pad> <pad> <pad> <pad> <pad> <pad> <pad> <pad> <pad> <pad> <pad> <pad> <pad> <pad> <pad> <pad> <pad> <pad> <pad> <pad>\n",
            "Response:   i i you you you you you you you you you you you you you you you you you you you you you you you you you you you you you you you you you you you you you you you you you you you you you you you you you you you you you you you you you you you you you you you you you you you you you you you you you you you you you you you you you\n",
            "\n"
          ]
        }
      ]
    },
    {
      "cell_type": "code",
      "source": [
        "inputs = [\n",
        "    \"hi, i'm luis, what's your name?\",\n",
        "    \"how are you today?\",\n",
        "    \"do you want some weed?\"\n",
        "]\n",
        "\n",
        "preds = {}\n",
        "\n",
        "for index, input in enumerate(inputs):\n",
        "  pred = predict_sequence(model_2, tokenizer, input, max_len)\n",
        "  print(\"\"\"\n",
        "  Input enviado: {}\\n\n",
        "  Predicción recibida: {}\n",
        "  \"\"\".format(input, pred))"
      ],
      "metadata": {
        "id": "148i-z0MzDbm",
        "colab": {
          "base_uri": "https://localhost:8080/"
        },
        "outputId": "01c935c7-ef76-46ff-b340-dcac1e5e5d53"
      },
      "id": "148i-z0MzDbm",
      "execution_count": null,
      "outputs": [
        {
          "output_type": "stream",
          "name": "stdout",
          "text": [
            "\n",
            "  Input enviado: hi, i'm luis, what's your name?\n",
            "\n",
            "  Predicción recibida: i i you you you you you you you you you you you you you you you you you you you you you you you you you you you you you you you you you you you you you you you you you you you you you you you you you you you you you you you you you you you you you you you you you you you you you you you you you you you you you you you you you\n",
            "  \n",
            "\n",
            "  Input enviado: how are you today?\n",
            "\n",
            "  Predicción recibida: i i you you you you you you you you you you you you you you you you you you you you you you you you you you you you you you you you you you you you you you you you you you you you you you you you you you you you you you you you you you you you you you you you you you you you you you you you you you you you you you you you you\n",
            "  \n",
            "\n",
            "  Input enviado: do you want some weed?\n",
            "\n",
            "  Predicción recibida: i i you you you you you you you you you you you you you you you you you you you you you you you you you you you you you you you you you you you you you you you you you you you you you you you you you you you you you you you you you you you you you you you you you you you you you you you you you you you you you you you you you\n",
            "  \n"
          ]
        }
      ]
    },
    {
      "cell_type": "markdown",
      "source": [
        "Pese a los cambios realizados el sobre entrenamiento sigue estando presente, esto se justifica por la inexistencia de datos de validación, por lo que no hay forma de comprobar durante el entrenamiento que el modelo no este memorizando."
      ],
      "metadata": {
        "id": "X-Zls2BMk1BG"
      },
      "id": "X-Zls2BMk1BG"
    },
    {
      "cell_type": "code",
      "source": [
        "epochs_1 = range(1, len(loss_1) + 1)\n",
        "epochs_2 = range(1, len(loss_2) + 1)\n",
        "\n",
        "plt.plot(epochs_1, loss_1, 'b-', label='Modelo 1 - loss')\n",
        "plt.plot(epochs_2, loss_2, 'r-', label='Modelo 2 - loss')\n",
        "\n",
        "plt.title('Comparación de Loss entre Modelos Transformer (épocas reales)')\n",
        "plt.xlabel('Épocas')\n",
        "plt.ylabel('Loss')\n",
        "plt.legend()\n",
        "plt.grid(True)\n",
        "plt.tight_layout()\n",
        "plt.show()"
      ],
      "metadata": {
        "colab": {
          "base_uri": "https://localhost:8080/",
          "height": 487
        },
        "id": "Ox4-vBd3E6ao",
        "outputId": "b2e94bbf-0f5b-4f98-a53c-c4c92f02714a"
      },
      "id": "Ox4-vBd3E6ao",
      "execution_count": null,
      "outputs": [
        {
          "output_type": "display_data",
          "data": {
            "text/plain": [
              "<Figure size 640x480 with 1 Axes>"
            ],
            "image/png": "[encoded data removed]"
          },
          "metadata": {}
        }
      ]
    },
    {
      "cell_type": "markdown",
      "id": "44608fb6",
      "metadata": {
        "id": "44608fb6"
      },
      "source": [
        "## 4. Evaluación del Modelo"
      ]
    },
    {
      "cell_type": "code",
      "execution_count": null,
      "id": "2bfcfbc3",
      "metadata": {
        "id": "2bfcfbc3",
        "colab": {
          "base_uri": "https://localhost:8080/"
        },
        "outputId": "38e71ec5-ce1e-4808-f19e-e87b5ccb82b3"
      },
      "outputs": [
        {
          "output_type": "stream",
          "name": "stdout",
          "text": [
            "muestra 0 - BLEU score: 0.0008\n",
            "muestra 1 - BLEU score: 0.0008\n",
            "muestra 2 - BLEU score: 0.0007\n",
            "muestra 3 - BLEU score: 0.0006\n",
            "muestra 4 - BLEU score: 0.0007\n"
          ]
        }
      ],
      "source": [
        "for muestra_str in pred_2.items():\n",
        "\n",
        "    referencia = muestra_str[1][\"referencia\"]   # debería ser lista de tokens\n",
        "    prediccion = muestra_str[1][\"prediccion\"]    # también lista de tokens\n",
        "\n",
        "    # corpus_bleu espera: referencias = lista de listas de referencias\n",
        "    score = sentence_bleu(referencia, prediccion, weights=(0.25, 0.25, 0.25, 0.25),\n",
        "                      smoothing_function=SmoothingFunction().method1)\n",
        "\n",
        "    print(f\"{muestra_str[0]} - BLEU score: {score:.4f}\")"
      ]
    },
    {
      "cell_type": "markdown",
      "id": "385dac70",
      "metadata": {
        "id": "385dac70"
      },
      "source": [
        "## 5. Presentación de Resultados y Conclusiones"
      ]
    },
    {
      "cell_type": "markdown",
      "id": "54d3e402",
      "metadata": {
        "id": "54d3e402"
      },
      "source": [
        "Los valores obtenidos por la metrica de Bleu son coherentes teniendo en cuenta el sobre entrenamiento que posee el modelo y que tiende a responder unicamente con un par de palabras sin importar la pregunta que se le formule. La evaluación de la metrica se hizo con 4 N_gramas, es decir, se evalua si el token es el mismo al de la referencia de respuesta y si esta ubicado en la misma ubicacion que deberia estar.\n",
        "\n",
        "**¿Se aplico validación en el entrenamiento usando el set de datos de validación?**\n",
        "\n",
        "No, debido a la estructura que posee el transformer en este estudio, donde el embedding y la mascara de padding la aplica el transformer como una capa mas de procesamiento interno de los inputs que se le ingresan, no se puede aplicar el mismo proceso de vectorización (transformar en tensores) ni las mascaras de padding ya que el flujo de los datos de validación no sigue el mismo flujo, se almacena en la funcion de perdida y es unicamente procesado por el decoder - encoder.\n",
        "\n",
        "**¿Causas del sobreentrenamiento?**\n",
        "\n",
        "Justamente, la ausencia de datos de validacion no le permiten al modelo que en sus epocas de entrenamiento se ajuste de mejor forma, si bien el procesamiento de los datos de validacion no ajusta directamente al modelo puede indicarle de que forma debe ajustar sus calculos para mejorar la acertividad de su respuesta generada y la esperada. Si bien se aplico capas de dropout con distinto porcentaje de apagado de neuronas, no fue suficiente para que el modelo generalice de forma correcta.\n",
        "\n",
        "\n",
        "**¿RNN, LSTM o Transformer?**\n",
        "\n",
        "Sin duda, la mejor opcion, seria el transformer. Este aplica los mismos conceptos que la RNN o LSTM ya que tambien posee redes neuronales feed forward dentro, donde puede incluir tambien capas de LSTM o Bidirectional. Ahora lo que hace al transformer mejor ante estas opciones es la capacidad de tener componentes extras que ayudan significativamente al procesamiento de los datos, el aprendizaje y la generación de respuestas del modelo.\n",
        "\n",
        "**¿Mejor modelo?**\n",
        "\n",
        "Los 2 modelos generados, si bien se busco que los mismos entreguen el mejor rendimiento posible, debido al enfoque interno que tiene la arquitectura no es posible mitigar el sobreentrenamiento, al menos no con el tiempo restante para el estudio. NO se recomienda ninguno de los 2 modelos transformer, mas bien, se recomienda descomponer su arquitectura para poder aplicar, de manera manual y controlada, el embedding, positional encoding y las mascaras de padding fuera del mismo. Con esto se puede tener un mejor control de todo el procesamiento de datos, buscando afinar cada detalle que pueda perturbar la precisión del modelo."
      ]
    }
  ],
  "metadata": {
    "language_info": {
      "name": "python"
    },
    "colab": {
      "provenance": [],
      "gpuType": "A100",
      "machine_shape": "hm",
      "toc_visible": true
    },
    "kernelspec": {
      "name": "python3",
      "display_name": "Python 3"
    },
    "accelerator": "GPU"
  },
  "nbformat": 4,
  "nbformat_minor": 5
}